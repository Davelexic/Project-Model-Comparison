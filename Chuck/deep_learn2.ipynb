{
 "cells": [
  {
   "cell_type": "markdown",
   "metadata": {},
   "source": [
    "#### Convolution CNN for leaning images and processing - using high-level Keras preprocessing utilities and layers to read a directory of images on disk.\n",
    "\n",
    "https://www.tensorflow.org/tutorials/load_data/images"
   ]
  },
  {
   "cell_type": "markdown",
   "metadata": {},
   "source": [
    "#### deep_learn2.ipynb - was run for 1 year images."
   ]
  },
  {
   "cell_type": "code",
   "execution_count": 68,
   "metadata": {},
   "outputs": [],
   "source": [
    "import warnings\n",
    "warnings.filterwarnings('ignore')"
   ]
  },
  {
   "cell_type": "code",
   "execution_count": 28,
   "metadata": {},
   "outputs": [],
   "source": [
    "import numpy as np\n",
    "import pandas as pd\n",
    "import os\n",
    "import os.path\n",
    "import PIL\n",
    "from PIL import Image\n",
    "import PIL.Image\n",
    "import tensorflow as tf\n",
    "#import tensorflow_datasets as tfds\n",
    "from tensorflow import keras\n",
    "from tensorflow.keras import layers\n",
    "from sklearn.model_selection import train_test_split\n",
    "from sklearn.metrics import r2_score\n",
    "import datetime"
   ]
  },
  {
   "cell_type": "code",
   "execution_count": 8,
   "metadata": {},
   "outputs": [
    {
     "name": "stdout",
     "output_type": "stream",
     "text": [
      "2.5.0\n"
     ]
    }
   ],
   "source": [
    "print(tf.__version__)"
   ]
  },
  {
   "cell_type": "markdown",
   "metadata": {},
   "source": [
    "#### Dataset - directory\n",
    "candlesticks_together"
   ]
  },
  {
   "cell_type": "markdown",
   "metadata": {},
   "source": [
    "##### Define path for dataset"
   ]
  },
  {
   "cell_type": "code",
   "execution_count": 68,
   "metadata": {},
   "outputs": [],
   "source": [
    "import pathlib\n",
    "image_dir = pathlib.Path('candlesticks_together/')\n",
    "#data_test_dir = pathlib.Path('candlesticks_test')"
   ]
  },
  {
   "cell_type": "markdown",
   "metadata": {},
   "source": [
    "### Create File DataFrame"
   ]
  },
  {
   "cell_type": "code",
   "execution_count": 69,
   "metadata": {},
   "outputs": [],
   "source": [
    "filepaths = pd.Series(list(image_dir.glob(r'**/*.png')), name='Filepath').astype(str)"
   ]
  },
  {
   "cell_type": "code",
   "execution_count": 70,
   "metadata": {},
   "outputs": [
    {
     "data": {
      "text/plain": [
       "0     candlesticks_together\\2020-07-12.png\n",
       "1     candlesticks_together\\2020-07-19.png\n",
       "2     candlesticks_together\\2020-07-26.png\n",
       "3     candlesticks_together\\2020-08-02.png\n",
       "4     candlesticks_together\\2020-08-09.png\n",
       "5     candlesticks_together\\2020-08-16.png\n",
       "6     candlesticks_together\\2020-08-23.png\n",
       "7     candlesticks_together\\2020-08-30.png\n",
       "8     candlesticks_together\\2020-09-06.png\n",
       "9     candlesticks_together\\2020-09-13.png\n",
       "10    candlesticks_together\\2020-09-20.png\n",
       "11    candlesticks_together\\2020-09-27.png\n",
       "12    candlesticks_together\\2020-10-04.png\n",
       "13    candlesticks_together\\2020-10-11.png\n",
       "14    candlesticks_together\\2020-10-18.png\n",
       "15    candlesticks_together\\2020-10-25.png\n",
       "16    candlesticks_together\\2020-11-01.png\n",
       "17    candlesticks_together\\2020-11-08.png\n",
       "18    candlesticks_together\\2020-11-15.png\n",
       "19    candlesticks_together\\2020-11-22.png\n",
       "20    candlesticks_together\\2020-11-29.png\n",
       "21    candlesticks_together\\2020-12-06.png\n",
       "22    candlesticks_together\\2020-12-13.png\n",
       "23    candlesticks_together\\2020-12-20.png\n",
       "24    candlesticks_together\\2020-12-27.png\n",
       "25    candlesticks_together\\2021-01-03.png\n",
       "26    candlesticks_together\\2021-01-10.png\n",
       "27    candlesticks_together\\2021-01-17.png\n",
       "28    candlesticks_together\\2021-01-24.png\n",
       "29    candlesticks_together\\2021-01-31.png\n",
       "30    candlesticks_together\\2021-02-07.png\n",
       "31    candlesticks_together\\2021-02-14.png\n",
       "32    candlesticks_together\\2021-02-21.png\n",
       "33    candlesticks_together\\2021-02-28.png\n",
       "34    candlesticks_together\\2021-03-07.png\n",
       "35    candlesticks_together\\2021-03-14.png\n",
       "36    candlesticks_together\\2021-03-21.png\n",
       "37    candlesticks_together\\2021-03-28.png\n",
       "38    candlesticks_together\\2021-04-04.png\n",
       "39    candlesticks_together\\2021-04-11.png\n",
       "40    candlesticks_together\\2021-04-18.png\n",
       "41    candlesticks_together\\2021-04-25.png\n",
       "42    candlesticks_together\\2021-05-02.png\n",
       "43    candlesticks_together\\2021-05-09.png\n",
       "44    candlesticks_together\\2021-05-16.png\n",
       "45    candlesticks_together\\2021-05-23.png\n",
       "46    candlesticks_together\\2021-05-30.png\n",
       "47    candlesticks_together\\2021-06-06.png\n",
       "48    candlesticks_together\\2021-06-13.png\n",
       "49    candlesticks_together\\2021-06-20.png\n",
       "50    candlesticks_together\\2021-06-27.png\n",
       "51    candlesticks_together\\2021-07-04.png\n",
       "Name: Filepath, dtype: object"
      ]
     },
     "execution_count": 70,
     "metadata": {},
     "output_type": "execute_result"
    }
   ],
   "source": [
    "filepaths"
   ]
  },
  {
   "cell_type": "code",
   "execution_count": 71,
   "metadata": {},
   "outputs": [],
   "source": [
    "signal_df = pd.read_csv('signal.csv')  "
   ]
  },
  {
   "cell_type": "code",
   "execution_count": 92,
   "metadata": {},
   "outputs": [
    {
     "name": "stdout",
     "output_type": "stream",
     "text": [
      "<class 'pandas.core.frame.DataFrame'>\n",
      "RangeIndex: 52 entries, 0 to 51\n",
      "Data columns (total 2 columns):\n",
      "Date      52 non-null object\n",
      "Signal    52 non-null int64\n",
      "dtypes: int64(1), object(1)\n",
      "memory usage: 912.0+ bytes\n"
     ]
    }
   ],
   "source": [
    "signal_df.info()"
   ]
  },
  {
   "cell_type": "code",
   "execution_count": 93,
   "metadata": {},
   "outputs": [],
   "source": [
    "signal_df['Date']= pd.to_datetime(signal_df['Date'])"
   ]
  },
  {
   "cell_type": "code",
   "execution_count": 94,
   "metadata": {},
   "outputs": [],
   "source": [
    "signal_df.set_index('Date', inplace = True)"
   ]
  },
  {
   "cell_type": "code",
   "execution_count": 95,
   "metadata": {},
   "outputs": [
    {
     "data": {
      "text/html": [
       "<div>\n",
       "<style scoped>\n",
       "    .dataframe tbody tr th:only-of-type {\n",
       "        vertical-align: middle;\n",
       "    }\n",
       "\n",
       "    .dataframe tbody tr th {\n",
       "        vertical-align: top;\n",
       "    }\n",
       "\n",
       "    .dataframe thead th {\n",
       "        text-align: right;\n",
       "    }\n",
       "</style>\n",
       "<table border=\"1\" class=\"dataframe\">\n",
       "  <thead>\n",
       "    <tr style=\"text-align: right;\">\n",
       "      <th></th>\n",
       "      <th>Signal</th>\n",
       "    </tr>\n",
       "    <tr>\n",
       "      <th>Date</th>\n",
       "      <th></th>\n",
       "    </tr>\n",
       "  </thead>\n",
       "  <tbody>\n",
       "    <tr>\n",
       "      <th>2020-07-12</th>\n",
       "      <td>0</td>\n",
       "    </tr>\n",
       "    <tr>\n",
       "      <th>2020-07-19</th>\n",
       "      <td>1</td>\n",
       "    </tr>\n",
       "    <tr>\n",
       "      <th>2020-07-26</th>\n",
       "      <td>1</td>\n",
       "    </tr>\n",
       "    <tr>\n",
       "      <th>2020-08-02</th>\n",
       "      <td>1</td>\n",
       "    </tr>\n",
       "    <tr>\n",
       "      <th>2020-08-09</th>\n",
       "      <td>1</td>\n",
       "    </tr>\n",
       "  </tbody>\n",
       "</table>\n",
       "</div>"
      ],
      "text/plain": [
       "            Signal\n",
       "Date              \n",
       "2020-07-12       0\n",
       "2020-07-19       1\n",
       "2020-07-26       1\n",
       "2020-08-02       1\n",
       "2020-08-09       1"
      ]
     },
     "execution_count": 95,
     "metadata": {},
     "output_type": "execute_result"
    }
   ],
   "source": [
    "signal_df.head()"
   ]
  },
  {
   "cell_type": "code",
   "execution_count": 96,
   "metadata": {},
   "outputs": [
    {
     "name": "stdout",
     "output_type": "stream",
     "text": [
      "<class 'pandas.core.frame.DataFrame'>\n",
      "DatetimeIndex: 52 entries, 2020-07-12 to 2021-07-04\n",
      "Data columns (total 1 columns):\n",
      "Signal    52 non-null int64\n",
      "dtypes: int64(1)\n",
      "memory usage: 832.0 bytes\n"
     ]
    }
   ],
   "source": [
    "signal_df.info()"
   ]
  },
  {
   "cell_type": "code",
   "execution_count": 74,
   "metadata": {},
   "outputs": [
    {
     "data": {
      "text/plain": [
       "'candlesticks_together\\\\2020-07-12.png'"
      ]
     },
     "execution_count": 74,
     "metadata": {},
     "output_type": "execute_result"
    }
   ],
   "source": [
    "filepaths[0]"
   ]
  },
  {
   "cell_type": "code",
   "execution_count": 75,
   "metadata": {},
   "outputs": [],
   "source": [
    "date_list = []\n",
    "for i in filepaths:\n",
    "    #print(i)\n",
    "    dtstr = os.path.split(i)[1].split(\".\")[0]\n",
    "    #print(dtstr)\n",
    "    #print(datetime.datetime.strptime(dtstr, '%Y-%m-%d').date())\n",
    "    date_list.append(datetime.datetime.strptime(dtstr, '%Y-%m-%d').date())\n",
    "    "
   ]
  },
  {
   "cell_type": "code",
   "execution_count": 76,
   "metadata": {},
   "outputs": [
    {
     "data": {
      "text/plain": [
       "[datetime.date(2020, 7, 12),\n",
       " datetime.date(2020, 7, 19),\n",
       " datetime.date(2020, 7, 26),\n",
       " datetime.date(2020, 8, 2),\n",
       " datetime.date(2020, 8, 9),\n",
       " datetime.date(2020, 8, 16),\n",
       " datetime.date(2020, 8, 23),\n",
       " datetime.date(2020, 8, 30),\n",
       " datetime.date(2020, 9, 6),\n",
       " datetime.date(2020, 9, 13),\n",
       " datetime.date(2020, 9, 20),\n",
       " datetime.date(2020, 9, 27),\n",
       " datetime.date(2020, 10, 4),\n",
       " datetime.date(2020, 10, 11),\n",
       " datetime.date(2020, 10, 18),\n",
       " datetime.date(2020, 10, 25),\n",
       " datetime.date(2020, 11, 1),\n",
       " datetime.date(2020, 11, 8),\n",
       " datetime.date(2020, 11, 15),\n",
       " datetime.date(2020, 11, 22),\n",
       " datetime.date(2020, 11, 29),\n",
       " datetime.date(2020, 12, 6),\n",
       " datetime.date(2020, 12, 13),\n",
       " datetime.date(2020, 12, 20),\n",
       " datetime.date(2020, 12, 27),\n",
       " datetime.date(2021, 1, 3),\n",
       " datetime.date(2021, 1, 10),\n",
       " datetime.date(2021, 1, 17),\n",
       " datetime.date(2021, 1, 24),\n",
       " datetime.date(2021, 1, 31),\n",
       " datetime.date(2021, 2, 7),\n",
       " datetime.date(2021, 2, 14),\n",
       " datetime.date(2021, 2, 21),\n",
       " datetime.date(2021, 2, 28),\n",
       " datetime.date(2021, 3, 7),\n",
       " datetime.date(2021, 3, 14),\n",
       " datetime.date(2021, 3, 21),\n",
       " datetime.date(2021, 3, 28),\n",
       " datetime.date(2021, 4, 4),\n",
       " datetime.date(2021, 4, 11),\n",
       " datetime.date(2021, 4, 18),\n",
       " datetime.date(2021, 4, 25),\n",
       " datetime.date(2021, 5, 2),\n",
       " datetime.date(2021, 5, 9),\n",
       " datetime.date(2021, 5, 16),\n",
       " datetime.date(2021, 5, 23),\n",
       " datetime.date(2021, 5, 30),\n",
       " datetime.date(2021, 6, 6),\n",
       " datetime.date(2021, 6, 13),\n",
       " datetime.date(2021, 6, 20),\n",
       " datetime.date(2021, 6, 27),\n",
       " datetime.date(2021, 7, 4)]"
      ]
     },
     "execution_count": 76,
     "metadata": {},
     "output_type": "execute_result"
    }
   ],
   "source": [
    "date_list"
   ]
  },
  {
   "cell_type": "code",
   "execution_count": 37,
   "metadata": {},
   "outputs": [],
   "source": [
    "fn = datetime.datetime.strptime(os.path.split(filepaths[0])[1].split(\".\")[0], '%Y-%m-%d').date()"
   ]
  },
  {
   "cell_type": "code",
   "execution_count": 38,
   "metadata": {},
   "outputs": [
    {
     "data": {
      "text/plain": [
       "datetime.date(2020, 7, 19)"
      ]
     },
     "execution_count": 38,
     "metadata": {},
     "output_type": "execute_result"
    }
   ],
   "source": [
    "fn"
   ]
  },
  {
   "cell_type": "code",
   "execution_count": 22,
   "metadata": {},
   "outputs": [],
   "source": [
    "filename = os.path.split(filepaths[0])[1]"
   ]
  },
  {
   "cell_type": "code",
   "execution_count": 23,
   "metadata": {},
   "outputs": [
    {
     "data": {
      "text/plain": [
       "'2020-07-19.png'"
      ]
     },
     "execution_count": 23,
     "metadata": {},
     "output_type": "execute_result"
    }
   ],
   "source": [
    "filename"
   ]
  },
  {
   "cell_type": "code",
   "execution_count": 25,
   "metadata": {},
   "outputs": [],
   "source": [
    "parts = filename.split(\".\")"
   ]
  },
  {
   "cell_type": "code",
   "execution_count": 30,
   "metadata": {},
   "outputs": [
    {
     "data": {
      "text/plain": [
       "'2020-07-19'"
      ]
     },
     "execution_count": 30,
     "metadata": {},
     "output_type": "execute_result"
    }
   ],
   "source": [
    "parts[0]"
   ]
  },
  {
   "cell_type": "code",
   "execution_count": 32,
   "metadata": {},
   "outputs": [],
   "source": [
    "image_date=datetime.datetime.strptime(parts[0], '%Y-%m-%d').date()"
   ]
  },
  {
   "cell_type": "code",
   "execution_count": 33,
   "metadata": {},
   "outputs": [
    {
     "data": {
      "text/plain": [
       "datetime.date(2020, 7, 19)"
      ]
     },
     "execution_count": 33,
     "metadata": {},
     "output_type": "execute_result"
    }
   ],
   "source": [
    "image_date"
   ]
  },
  {
   "cell_type": "code",
   "execution_count": 34,
   "metadata": {},
   "outputs": [
    {
     "data": {
      "text/plain": [
       "datetime.date"
      ]
     },
     "execution_count": 34,
     "metadata": {},
     "output_type": "execute_result"
    }
   ],
   "source": [
    "type(image_date)"
   ]
  },
  {
   "cell_type": "code",
   "execution_count": 85,
   "metadata": {},
   "outputs": [],
   "source": [
    "images_df = pd.DataFrame()\n",
    "images_df['Date'] = date_list \n",
    "images_df['Filepath'] =  filepaths"
   ]
  },
  {
   "cell_type": "code",
   "execution_count": 86,
   "metadata": {},
   "outputs": [],
   "source": [
    "images_df['Date']= pd.to_datetime(images_df['Date'])"
   ]
  },
  {
   "cell_type": "code",
   "execution_count": 87,
   "metadata": {},
   "outputs": [
    {
     "data": {
      "text/html": [
       "<div>\n",
       "<style scoped>\n",
       "    .dataframe tbody tr th:only-of-type {\n",
       "        vertical-align: middle;\n",
       "    }\n",
       "\n",
       "    .dataframe tbody tr th {\n",
       "        vertical-align: top;\n",
       "    }\n",
       "\n",
       "    .dataframe thead th {\n",
       "        text-align: right;\n",
       "    }\n",
       "</style>\n",
       "<table border=\"1\" class=\"dataframe\">\n",
       "  <thead>\n",
       "    <tr style=\"text-align: right;\">\n",
       "      <th></th>\n",
       "      <th>Date</th>\n",
       "      <th>Filepath</th>\n",
       "    </tr>\n",
       "  </thead>\n",
       "  <tbody>\n",
       "    <tr>\n",
       "      <th>0</th>\n",
       "      <td>2020-07-12</td>\n",
       "      <td>candlesticks_together\\2020-07-12.png</td>\n",
       "    </tr>\n",
       "    <tr>\n",
       "      <th>1</th>\n",
       "      <td>2020-07-19</td>\n",
       "      <td>candlesticks_together\\2020-07-19.png</td>\n",
       "    </tr>\n",
       "    <tr>\n",
       "      <th>2</th>\n",
       "      <td>2020-07-26</td>\n",
       "      <td>candlesticks_together\\2020-07-26.png</td>\n",
       "    </tr>\n",
       "    <tr>\n",
       "      <th>3</th>\n",
       "      <td>2020-08-02</td>\n",
       "      <td>candlesticks_together\\2020-08-02.png</td>\n",
       "    </tr>\n",
       "    <tr>\n",
       "      <th>4</th>\n",
       "      <td>2020-08-09</td>\n",
       "      <td>candlesticks_together\\2020-08-09.png</td>\n",
       "    </tr>\n",
       "  </tbody>\n",
       "</table>\n",
       "</div>"
      ],
      "text/plain": [
       "        Date                              Filepath\n",
       "0 2020-07-12  candlesticks_together\\2020-07-12.png\n",
       "1 2020-07-19  candlesticks_together\\2020-07-19.png\n",
       "2 2020-07-26  candlesticks_together\\2020-07-26.png\n",
       "3 2020-08-02  candlesticks_together\\2020-08-02.png\n",
       "4 2020-08-09  candlesticks_together\\2020-08-09.png"
      ]
     },
     "execution_count": 87,
     "metadata": {},
     "output_type": "execute_result"
    }
   ],
   "source": [
    "images_df.head()"
   ]
  },
  {
   "cell_type": "code",
   "execution_count": 88,
   "metadata": {},
   "outputs": [],
   "source": [
    "images_df.set_index('Date', inplace=True)"
   ]
  },
  {
   "cell_type": "code",
   "execution_count": 89,
   "metadata": {},
   "outputs": [
    {
     "data": {
      "text/html": [
       "<div>\n",
       "<style scoped>\n",
       "    .dataframe tbody tr th:only-of-type {\n",
       "        vertical-align: middle;\n",
       "    }\n",
       "\n",
       "    .dataframe tbody tr th {\n",
       "        vertical-align: top;\n",
       "    }\n",
       "\n",
       "    .dataframe thead th {\n",
       "        text-align: right;\n",
       "    }\n",
       "</style>\n",
       "<table border=\"1\" class=\"dataframe\">\n",
       "  <thead>\n",
       "    <tr style=\"text-align: right;\">\n",
       "      <th></th>\n",
       "      <th>Filepath</th>\n",
       "    </tr>\n",
       "    <tr>\n",
       "      <th>Date</th>\n",
       "      <th></th>\n",
       "    </tr>\n",
       "  </thead>\n",
       "  <tbody>\n",
       "    <tr>\n",
       "      <th>2020-07-12</th>\n",
       "      <td>candlesticks_together\\2020-07-12.png</td>\n",
       "    </tr>\n",
       "    <tr>\n",
       "      <th>2020-07-19</th>\n",
       "      <td>candlesticks_together\\2020-07-19.png</td>\n",
       "    </tr>\n",
       "    <tr>\n",
       "      <th>2020-07-26</th>\n",
       "      <td>candlesticks_together\\2020-07-26.png</td>\n",
       "    </tr>\n",
       "    <tr>\n",
       "      <th>2020-08-02</th>\n",
       "      <td>candlesticks_together\\2020-08-02.png</td>\n",
       "    </tr>\n",
       "    <tr>\n",
       "      <th>2020-08-09</th>\n",
       "      <td>candlesticks_together\\2020-08-09.png</td>\n",
       "    </tr>\n",
       "  </tbody>\n",
       "</table>\n",
       "</div>"
      ],
      "text/plain": [
       "                                        Filepath\n",
       "Date                                            \n",
       "2020-07-12  candlesticks_together\\2020-07-12.png\n",
       "2020-07-19  candlesticks_together\\2020-07-19.png\n",
       "2020-07-26  candlesticks_together\\2020-07-26.png\n",
       "2020-08-02  candlesticks_together\\2020-08-02.png\n",
       "2020-08-09  candlesticks_together\\2020-08-09.png"
      ]
     },
     "execution_count": 89,
     "metadata": {},
     "output_type": "execute_result"
    }
   ],
   "source": [
    "images_df.head()"
   ]
  },
  {
   "cell_type": "code",
   "execution_count": 90,
   "metadata": {},
   "outputs": [
    {
     "data": {
      "text/plain": [
       "DatetimeIndex(['2020-07-12', '2020-07-19', '2020-07-26', '2020-08-02',\n",
       "               '2020-08-09', '2020-08-16', '2020-08-23', '2020-08-30',\n",
       "               '2020-09-06', '2020-09-13', '2020-09-20', '2020-09-27',\n",
       "               '2020-10-04', '2020-10-11', '2020-10-18', '2020-10-25',\n",
       "               '2020-11-01', '2020-11-08', '2020-11-15', '2020-11-22',\n",
       "               '2020-11-29', '2020-12-06', '2020-12-13', '2020-12-20',\n",
       "               '2020-12-27', '2021-01-03', '2021-01-10', '2021-01-17',\n",
       "               '2021-01-24', '2021-01-31', '2021-02-07', '2021-02-14',\n",
       "               '2021-02-21', '2021-02-28', '2021-03-07', '2021-03-14',\n",
       "               '2021-03-21', '2021-03-28', '2021-04-04', '2021-04-11',\n",
       "               '2021-04-18', '2021-04-25', '2021-05-02', '2021-05-09',\n",
       "               '2021-05-16', '2021-05-23', '2021-05-30', '2021-06-06',\n",
       "               '2021-06-13', '2021-06-20', '2021-06-27', '2021-07-04'],\n",
       "              dtype='datetime64[ns]', name='Date', freq=None)"
      ]
     },
     "execution_count": 90,
     "metadata": {},
     "output_type": "execute_result"
    }
   ],
   "source": [
    "images_df.index"
   ]
  },
  {
   "cell_type": "code",
   "execution_count": 105,
   "metadata": {},
   "outputs": [],
   "source": [
    "images = pd.concat([images_df,signal_df], join='inner', axis=1)"
   ]
  },
  {
   "cell_type": "code",
   "execution_count": 106,
   "metadata": {},
   "outputs": [
    {
     "data": {
      "text/html": [
       "<div>\n",
       "<style scoped>\n",
       "    .dataframe tbody tr th:only-of-type {\n",
       "        vertical-align: middle;\n",
       "    }\n",
       "\n",
       "    .dataframe tbody tr th {\n",
       "        vertical-align: top;\n",
       "    }\n",
       "\n",
       "    .dataframe thead th {\n",
       "        text-align: right;\n",
       "    }\n",
       "</style>\n",
       "<table border=\"1\" class=\"dataframe\">\n",
       "  <thead>\n",
       "    <tr style=\"text-align: right;\">\n",
       "      <th></th>\n",
       "      <th>Filepath</th>\n",
       "      <th>Signal</th>\n",
       "    </tr>\n",
       "    <tr>\n",
       "      <th>Date</th>\n",
       "      <th></th>\n",
       "      <th></th>\n",
       "    </tr>\n",
       "  </thead>\n",
       "  <tbody>\n",
       "    <tr>\n",
       "      <th>2020-07-12</th>\n",
       "      <td>candlesticks_together\\2020-07-12.png</td>\n",
       "      <td>0</td>\n",
       "    </tr>\n",
       "    <tr>\n",
       "      <th>2020-07-19</th>\n",
       "      <td>candlesticks_together\\2020-07-19.png</td>\n",
       "      <td>1</td>\n",
       "    </tr>\n",
       "    <tr>\n",
       "      <th>2020-07-26</th>\n",
       "      <td>candlesticks_together\\2020-07-26.png</td>\n",
       "      <td>1</td>\n",
       "    </tr>\n",
       "    <tr>\n",
       "      <th>2020-08-02</th>\n",
       "      <td>candlesticks_together\\2020-08-02.png</td>\n",
       "      <td>1</td>\n",
       "    </tr>\n",
       "    <tr>\n",
       "      <th>2020-08-09</th>\n",
       "      <td>candlesticks_together\\2020-08-09.png</td>\n",
       "      <td>1</td>\n",
       "    </tr>\n",
       "    <tr>\n",
       "      <th>2020-08-16</th>\n",
       "      <td>candlesticks_together\\2020-08-16.png</td>\n",
       "      <td>0</td>\n",
       "    </tr>\n",
       "    <tr>\n",
       "      <th>2020-08-23</th>\n",
       "      <td>candlesticks_together\\2020-08-23.png</td>\n",
       "      <td>1</td>\n",
       "    </tr>\n",
       "    <tr>\n",
       "      <th>2020-08-30</th>\n",
       "      <td>candlesticks_together\\2020-08-30.png</td>\n",
       "      <td>1</td>\n",
       "    </tr>\n",
       "    <tr>\n",
       "      <th>2020-09-06</th>\n",
       "      <td>candlesticks_together\\2020-09-06.png</td>\n",
       "      <td>0</td>\n",
       "    </tr>\n",
       "    <tr>\n",
       "      <th>2020-09-13</th>\n",
       "      <td>candlesticks_together\\2020-09-13.png</td>\n",
       "      <td>1</td>\n",
       "    </tr>\n",
       "  </tbody>\n",
       "</table>\n",
       "</div>"
      ],
      "text/plain": [
       "                                        Filepath  Signal\n",
       "Date                                                    \n",
       "2020-07-12  candlesticks_together\\2020-07-12.png       0\n",
       "2020-07-19  candlesticks_together\\2020-07-19.png       1\n",
       "2020-07-26  candlesticks_together\\2020-07-26.png       1\n",
       "2020-08-02  candlesticks_together\\2020-08-02.png       1\n",
       "2020-08-09  candlesticks_together\\2020-08-09.png       1\n",
       "2020-08-16  candlesticks_together\\2020-08-16.png       0\n",
       "2020-08-23  candlesticks_together\\2020-08-23.png       1\n",
       "2020-08-30  candlesticks_together\\2020-08-30.png       1\n",
       "2020-09-06  candlesticks_together\\2020-09-06.png       0\n",
       "2020-09-13  candlesticks_together\\2020-09-13.png       1"
      ]
     },
     "execution_count": 106,
     "metadata": {},
     "output_type": "execute_result"
    }
   ],
   "source": [
    "images.head(10)"
   ]
  },
  {
   "cell_type": "code",
   "execution_count": 107,
   "metadata": {},
   "outputs": [],
   "source": [
    "# Let's only use 40 images to speed up training time\n",
    "image_df = images.sample(40, random_state=1).reset_index(drop=True)\n",
    "train_df, test_df = train_test_split(image_df, train_size=0.7, shuffle=True, random_state=1)"
   ]
  },
  {
   "cell_type": "code",
   "execution_count": 108,
   "metadata": {},
   "outputs": [
    {
     "data": {
      "text/html": [
       "<div>\n",
       "<style scoped>\n",
       "    .dataframe tbody tr th:only-of-type {\n",
       "        vertical-align: middle;\n",
       "    }\n",
       "\n",
       "    .dataframe tbody tr th {\n",
       "        vertical-align: top;\n",
       "    }\n",
       "\n",
       "    .dataframe thead th {\n",
       "        text-align: right;\n",
       "    }\n",
       "</style>\n",
       "<table border=\"1\" class=\"dataframe\">\n",
       "  <thead>\n",
       "    <tr style=\"text-align: right;\">\n",
       "      <th></th>\n",
       "      <th>Filepath</th>\n",
       "      <th>Signal</th>\n",
       "    </tr>\n",
       "  </thead>\n",
       "  <tbody>\n",
       "    <tr>\n",
       "      <th>30</th>\n",
       "      <td>candlesticks_together\\2020-10-18.png</td>\n",
       "      <td>0</td>\n",
       "    </tr>\n",
       "    <tr>\n",
       "      <th>36</th>\n",
       "      <td>candlesticks_together\\2020-11-29.png</td>\n",
       "      <td>1</td>\n",
       "    </tr>\n",
       "    <tr>\n",
       "      <th>33</th>\n",
       "      <td>candlesticks_together\\2021-05-30.png</td>\n",
       "      <td>0</td>\n",
       "    </tr>\n",
       "    <tr>\n",
       "      <th>28</th>\n",
       "      <td>candlesticks_together\\2020-08-09.png</td>\n",
       "      <td>1</td>\n",
       "    </tr>\n",
       "    <tr>\n",
       "      <th>4</th>\n",
       "      <td>candlesticks_together\\2021-02-07.png</td>\n",
       "      <td>1</td>\n",
       "    </tr>\n",
       "  </tbody>\n",
       "</table>\n",
       "</div>"
      ],
      "text/plain": [
       "                                Filepath  Signal\n",
       "30  candlesticks_together\\2020-10-18.png       0\n",
       "36  candlesticks_together\\2020-11-29.png       1\n",
       "33  candlesticks_together\\2021-05-30.png       0\n",
       "28  candlesticks_together\\2020-08-09.png       1\n",
       "4   candlesticks_together\\2021-02-07.png       1"
      ]
     },
     "execution_count": 108,
     "metadata": {},
     "output_type": "execute_result"
    }
   ],
   "source": [
    "train_df.head()"
   ]
  },
  {
   "cell_type": "code",
   "execution_count": 109,
   "metadata": {},
   "outputs": [
    {
     "data": {
      "text/html": [
       "<div>\n",
       "<style scoped>\n",
       "    .dataframe tbody tr th:only-of-type {\n",
       "        vertical-align: middle;\n",
       "    }\n",
       "\n",
       "    .dataframe tbody tr th {\n",
       "        vertical-align: top;\n",
       "    }\n",
       "\n",
       "    .dataframe thead th {\n",
       "        text-align: right;\n",
       "    }\n",
       "</style>\n",
       "<table border=\"1\" class=\"dataframe\">\n",
       "  <thead>\n",
       "    <tr style=\"text-align: right;\">\n",
       "      <th></th>\n",
       "      <th>Filepath</th>\n",
       "      <th>Signal</th>\n",
       "    </tr>\n",
       "  </thead>\n",
       "  <tbody>\n",
       "    <tr>\n",
       "      <th>2</th>\n",
       "      <td>candlesticks_together\\2021-05-02.png</td>\n",
       "      <td>1</td>\n",
       "    </tr>\n",
       "    <tr>\n",
       "      <th>31</th>\n",
       "      <td>candlesticks_together\\2021-01-31.png</td>\n",
       "      <td>1</td>\n",
       "    </tr>\n",
       "    <tr>\n",
       "      <th>3</th>\n",
       "      <td>candlesticks_together\\2021-02-21.png</td>\n",
       "      <td>0</td>\n",
       "    </tr>\n",
       "    <tr>\n",
       "      <th>21</th>\n",
       "      <td>candlesticks_together\\2020-10-11.png</td>\n",
       "      <td>1</td>\n",
       "    </tr>\n",
       "    <tr>\n",
       "      <th>27</th>\n",
       "      <td>candlesticks_together\\2020-12-20.png</td>\n",
       "      <td>1</td>\n",
       "    </tr>\n",
       "  </tbody>\n",
       "</table>\n",
       "</div>"
      ],
      "text/plain": [
       "                                Filepath  Signal\n",
       "2   candlesticks_together\\2021-05-02.png       1\n",
       "31  candlesticks_together\\2021-01-31.png       1\n",
       "3   candlesticks_together\\2021-02-21.png       0\n",
       "21  candlesticks_together\\2020-10-11.png       1\n",
       "27  candlesticks_together\\2020-12-20.png       1"
      ]
     },
     "execution_count": 109,
     "metadata": {},
     "output_type": "execute_result"
    }
   ],
   "source": [
    "test_df.head()"
   ]
  },
  {
   "cell_type": "markdown",
   "metadata": {},
   "source": [
    "### Loading Images"
   ]
  },
  {
   "cell_type": "code",
   "execution_count": 110,
   "metadata": {},
   "outputs": [],
   "source": [
    "train_generator = tf.keras.preprocessing.image.ImageDataGenerator(\n",
    "    rescale=1./255,\n",
    "    validation_split=0.2\n",
    ")\n",
    "\n",
    "test_generator = tf.keras.preprocessing.image.ImageDataGenerator(\n",
    "    rescale=1./255\n",
    ")"
   ]
  },
  {
   "cell_type": "code",
   "execution_count": 111,
   "metadata": {},
   "outputs": [
    {
     "data": {
      "text/html": [
       "<div>\n",
       "<style scoped>\n",
       "    .dataframe tbody tr th:only-of-type {\n",
       "        vertical-align: middle;\n",
       "    }\n",
       "\n",
       "    .dataframe tbody tr th {\n",
       "        vertical-align: top;\n",
       "    }\n",
       "\n",
       "    .dataframe thead th {\n",
       "        text-align: right;\n",
       "    }\n",
       "</style>\n",
       "<table border=\"1\" class=\"dataframe\">\n",
       "  <thead>\n",
       "    <tr style=\"text-align: right;\">\n",
       "      <th></th>\n",
       "      <th>Filepath</th>\n",
       "      <th>Signal</th>\n",
       "    </tr>\n",
       "  </thead>\n",
       "  <tbody>\n",
       "    <tr>\n",
       "      <th>30</th>\n",
       "      <td>candlesticks_together\\2020-10-18.png</td>\n",
       "      <td>0</td>\n",
       "    </tr>\n",
       "    <tr>\n",
       "      <th>36</th>\n",
       "      <td>candlesticks_together\\2020-11-29.png</td>\n",
       "      <td>1</td>\n",
       "    </tr>\n",
       "    <tr>\n",
       "      <th>33</th>\n",
       "      <td>candlesticks_together\\2021-05-30.png</td>\n",
       "      <td>0</td>\n",
       "    </tr>\n",
       "    <tr>\n",
       "      <th>28</th>\n",
       "      <td>candlesticks_together\\2020-08-09.png</td>\n",
       "      <td>1</td>\n",
       "    </tr>\n",
       "    <tr>\n",
       "      <th>4</th>\n",
       "      <td>candlesticks_together\\2021-02-07.png</td>\n",
       "      <td>1</td>\n",
       "    </tr>\n",
       "    <tr>\n",
       "      <th>14</th>\n",
       "      <td>candlesticks_together\\2020-12-27.png</td>\n",
       "      <td>1</td>\n",
       "    </tr>\n",
       "    <tr>\n",
       "      <th>10</th>\n",
       "      <td>candlesticks_together\\2020-09-20.png</td>\n",
       "      <td>1</td>\n",
       "    </tr>\n",
       "    <tr>\n",
       "      <th>35</th>\n",
       "      <td>candlesticks_together\\2020-11-15.png</td>\n",
       "      <td>1</td>\n",
       "    </tr>\n",
       "    <tr>\n",
       "      <th>23</th>\n",
       "      <td>candlesticks_together\\2021-01-10.png</td>\n",
       "      <td>0</td>\n",
       "    </tr>\n",
       "    <tr>\n",
       "      <th>24</th>\n",
       "      <td>candlesticks_together\\2020-11-08.png</td>\n",
       "      <td>0</td>\n",
       "    </tr>\n",
       "    <tr>\n",
       "      <th>34</th>\n",
       "      <td>candlesticks_together\\2021-03-21.png</td>\n",
       "      <td>1</td>\n",
       "    </tr>\n",
       "    <tr>\n",
       "      <th>20</th>\n",
       "      <td>candlesticks_together\\2021-07-04.png</td>\n",
       "      <td>1</td>\n",
       "    </tr>\n",
       "    <tr>\n",
       "      <th>18</th>\n",
       "      <td>candlesticks_together\\2021-04-11.png</td>\n",
       "      <td>0</td>\n",
       "    </tr>\n",
       "    <tr>\n",
       "      <th>25</th>\n",
       "      <td>candlesticks_together\\2021-06-06.png</td>\n",
       "      <td>1</td>\n",
       "    </tr>\n",
       "    <tr>\n",
       "      <th>6</th>\n",
       "      <td>candlesticks_together\\2021-02-28.png</td>\n",
       "      <td>1</td>\n",
       "    </tr>\n",
       "    <tr>\n",
       "      <th>13</th>\n",
       "      <td>candlesticks_together\\2021-06-13.png</td>\n",
       "      <td>1</td>\n",
       "    </tr>\n",
       "    <tr>\n",
       "      <th>7</th>\n",
       "      <td>candlesticks_together\\2021-04-04.png</td>\n",
       "      <td>1</td>\n",
       "    </tr>\n",
       "    <tr>\n",
       "      <th>38</th>\n",
       "      <td>candlesticks_together\\2020-08-23.png</td>\n",
       "      <td>1</td>\n",
       "    </tr>\n",
       "    <tr>\n",
       "      <th>1</th>\n",
       "      <td>candlesticks_together\\2020-07-26.png</td>\n",
       "      <td>1</td>\n",
       "    </tr>\n",
       "    <tr>\n",
       "      <th>16</th>\n",
       "      <td>candlesticks_together\\2020-12-13.png</td>\n",
       "      <td>0</td>\n",
       "    </tr>\n",
       "    <tr>\n",
       "      <th>0</th>\n",
       "      <td>candlesticks_together\\2021-02-14.png</td>\n",
       "      <td>0</td>\n",
       "    </tr>\n",
       "    <tr>\n",
       "      <th>15</th>\n",
       "      <td>candlesticks_together\\2021-04-18.png</td>\n",
       "      <td>1</td>\n",
       "    </tr>\n",
       "    <tr>\n",
       "      <th>5</th>\n",
       "      <td>candlesticks_together\\2021-05-23.png</td>\n",
       "      <td>1</td>\n",
       "    </tr>\n",
       "    <tr>\n",
       "      <th>11</th>\n",
       "      <td>candlesticks_together\\2020-08-02.png</td>\n",
       "      <td>1</td>\n",
       "    </tr>\n",
       "    <tr>\n",
       "      <th>9</th>\n",
       "      <td>candlesticks_together\\2020-11-22.png</td>\n",
       "      <td>0</td>\n",
       "    </tr>\n",
       "    <tr>\n",
       "      <th>8</th>\n",
       "      <td>candlesticks_together\\2021-05-16.png</td>\n",
       "      <td>0</td>\n",
       "    </tr>\n",
       "    <tr>\n",
       "      <th>12</th>\n",
       "      <td>candlesticks_together\\2020-12-06.png</td>\n",
       "      <td>1</td>\n",
       "    </tr>\n",
       "    <tr>\n",
       "      <th>37</th>\n",
       "      <td>candlesticks_together\\2021-01-03.png</td>\n",
       "      <td>0</td>\n",
       "    </tr>\n",
       "  </tbody>\n",
       "</table>\n",
       "</div>"
      ],
      "text/plain": [
       "                                Filepath  Signal\n",
       "30  candlesticks_together\\2020-10-18.png       0\n",
       "36  candlesticks_together\\2020-11-29.png       1\n",
       "33  candlesticks_together\\2021-05-30.png       0\n",
       "28  candlesticks_together\\2020-08-09.png       1\n",
       "4   candlesticks_together\\2021-02-07.png       1\n",
       "14  candlesticks_together\\2020-12-27.png       1\n",
       "10  candlesticks_together\\2020-09-20.png       1\n",
       "35  candlesticks_together\\2020-11-15.png       1\n",
       "23  candlesticks_together\\2021-01-10.png       0\n",
       "24  candlesticks_together\\2020-11-08.png       0\n",
       "34  candlesticks_together\\2021-03-21.png       1\n",
       "20  candlesticks_together\\2021-07-04.png       1\n",
       "18  candlesticks_together\\2021-04-11.png       0\n",
       "25  candlesticks_together\\2021-06-06.png       1\n",
       "6   candlesticks_together\\2021-02-28.png       1\n",
       "13  candlesticks_together\\2021-06-13.png       1\n",
       "7   candlesticks_together\\2021-04-04.png       1\n",
       "38  candlesticks_together\\2020-08-23.png       1\n",
       "1   candlesticks_together\\2020-07-26.png       1\n",
       "16  candlesticks_together\\2020-12-13.png       0\n",
       "0   candlesticks_together\\2021-02-14.png       0\n",
       "15  candlesticks_together\\2021-04-18.png       1\n",
       "5   candlesticks_together\\2021-05-23.png       1\n",
       "11  candlesticks_together\\2020-08-02.png       1\n",
       "9   candlesticks_together\\2020-11-22.png       0\n",
       "8   candlesticks_together\\2021-05-16.png       0\n",
       "12  candlesticks_together\\2020-12-06.png       1\n",
       "37  candlesticks_together\\2021-01-03.png       0"
      ]
     },
     "execution_count": 111,
     "metadata": {},
     "output_type": "execute_result"
    }
   ],
   "source": [
    "train_df"
   ]
  },
  {
   "cell_type": "code",
   "execution_count": 112,
   "metadata": {},
   "outputs": [
    {
     "name": "stdout",
     "output_type": "stream",
     "text": [
      "Found 23 validated image filenames.\n",
      "Found 5 validated image filenames.\n",
      "Found 12 validated image filenames.\n"
     ]
    }
   ],
   "source": [
    "train_images = train_generator.flow_from_dataframe(\n",
    "    dataframe=train_df,\n",
    "    x_col='Filepath',\n",
    "    y_col='Signal',\n",
    "    target_size=(120, 120),\n",
    "    color_mode='rgb',\n",
    "    class_mode='raw',\n",
    "    batch_size=32,\n",
    "    shuffle=True,\n",
    "    seed=42,\n",
    "    subset='training'\n",
    ")\n",
    "\n",
    "val_images = train_generator.flow_from_dataframe(\n",
    "    dataframe=train_df,\n",
    "    x_col='Filepath',\n",
    "    y_col='Signal',\n",
    "    target_size=(120, 120),\n",
    "    color_mode='rgb',\n",
    "    class_mode='raw',\n",
    "    batch_size=32,\n",
    "    shuffle=True,\n",
    "    seed=42,\n",
    "    subset='validation'\n",
    ")\n",
    "\n",
    "test_images = test_generator.flow_from_dataframe(\n",
    "    dataframe=test_df,\n",
    "    x_col='Filepath',\n",
    "    y_col='Signal',\n",
    "    target_size=(120, 120),\n",
    "    color_mode='rgb',\n",
    "    class_mode='raw',\n",
    "    batch_size=32,\n",
    "    shuffle=False\n",
    ")"
   ]
  },
  {
   "cell_type": "markdown",
   "metadata": {},
   "source": [
    "### Training"
   ]
  },
  {
   "cell_type": "code",
   "execution_count": 113,
   "metadata": {},
   "outputs": [
    {
     "name": "stdout",
     "output_type": "stream",
     "text": [
      "Epoch 1/100\n",
      "1/1 [==============================] - 3s 3s/step - loss: 0.6479 - val_loss: 0.5834\n",
      "Epoch 2/100\n",
      "1/1 [==============================] - 0s 379ms/step - loss: 0.6338 - val_loss: 0.5703\n",
      "Epoch 3/100\n",
      "1/1 [==============================] - 1s 596ms/step - loss: 0.6194 - val_loss: 0.5572\n",
      "Epoch 4/100\n",
      "1/1 [==============================] - 0s 320ms/step - loss: 0.6051 - val_loss: 0.5431\n",
      "Epoch 5/100\n",
      "1/1 [==============================] - 0s 347ms/step - loss: 0.5895 - val_loss: 0.5280\n",
      "Epoch 6/100\n",
      "1/1 [==============================] - 0s 337ms/step - loss: 0.5725 - val_loss: 0.5115\n",
      "Epoch 7/100\n",
      "1/1 [==============================] - 1s 701ms/step - loss: 0.5541 - val_loss: 0.4938\n",
      "Epoch 8/100\n",
      "1/1 [==============================] - 1s 555ms/step - loss: 0.5341 - val_loss: 0.4748\n",
      "Epoch 9/100\n",
      "1/1 [==============================] - 0s 430ms/step - loss: 0.5126 - val_loss: 0.4546\n",
      "Epoch 10/100\n",
      "1/1 [==============================] - 0s 341ms/step - loss: 0.4896 - val_loss: 0.4328\n",
      "Epoch 11/100\n",
      "1/1 [==============================] - 1s 647ms/step - loss: 0.4646 - val_loss: 0.4103\n",
      "Epoch 12/100\n",
      "1/1 [==============================] - 1s 509ms/step - loss: 0.4383 - val_loss: 0.3871\n",
      "Epoch 13/100\n",
      "1/1 [==============================] - 0s 362ms/step - loss: 0.4106 - val_loss: 0.3636\n",
      "Epoch 14/100\n",
      "1/1 [==============================] - 0s 327ms/step - loss: 0.3821 - val_loss: 0.3405\n",
      "Epoch 15/100\n",
      "1/1 [==============================] - 0s 339ms/step - loss: 0.3530 - val_loss: 0.3187\n",
      "Epoch 16/100\n",
      "1/1 [==============================] - 0s 364ms/step - loss: 0.3243 - val_loss: 0.2994\n",
      "Epoch 17/100\n",
      "1/1 [==============================] - 0s 349ms/step - loss: 0.2968 - val_loss: 0.2846\n",
      "Epoch 18/100\n",
      "1/1 [==============================] - 0s 355ms/step - loss: 0.2723 - val_loss: 0.2763\n",
      "Epoch 19/100\n",
      "1/1 [==============================] - 0s 345ms/step - loss: 0.2526 - val_loss: 0.2768\n",
      "Epoch 20/100\n",
      "1/1 [==============================] - 0s 403ms/step - loss: 0.2400 - val_loss: 0.2880\n",
      "Epoch 21/100\n",
      "1/1 [==============================] - 0s 365ms/step - loss: 0.2367 - val_loss: 0.3094\n",
      "Epoch 22/100\n",
      "1/1 [==============================] - 0s 392ms/step - loss: 0.2432 - val_loss: 0.3352\n",
      "Epoch 23/100\n",
      "1/1 [==============================] - 0s 357ms/step - loss: 0.2559 - val_loss: 0.3559\n"
     ]
    }
   ],
   "source": [
    "inputs = tf.keras.Input(shape=(120, 120, 3))\n",
    "x = tf.keras.layers.Conv2D(filters=16, kernel_size=(3, 3), activation='relu')(inputs)\n",
    "x = tf.keras.layers.MaxPool2D()(x)\n",
    "x = tf.keras.layers.Conv2D(filters=32, kernel_size=(3, 3), activation='relu')(x)\n",
    "x = tf.keras.layers.MaxPool2D()(x)\n",
    "x = tf.keras.layers.GlobalAveragePooling2D()(x)\n",
    "x = tf.keras.layers.Dense(64, activation='relu')(x)\n",
    "x = tf.keras.layers.Dense(64, activation='relu')(x)\n",
    "outputs = tf.keras.layers.Dense(1, activation='linear')(x)\n",
    "\n",
    "model = tf.keras.Model(inputs=inputs, outputs=outputs)\n",
    "\n",
    "model.compile(\n",
    "    optimizer='adam',\n",
    "    loss='mse'\n",
    ")\n",
    "\n",
    "history = model.fit(\n",
    "    train_images,\n",
    "    validation_data=val_images,\n",
    "    epochs=100,\n",
    "    callbacks=[\n",
    "        tf.keras.callbacks.EarlyStopping(\n",
    "            monitor='val_loss',\n",
    "            patience=5,\n",
    "            restore_best_weights=True\n",
    "        )\n",
    "    ]\n",
    ")"
   ]
  },
  {
   "cell_type": "markdown",
   "metadata": {},
   "source": [
    "### Results"
   ]
  },
  {
   "cell_type": "code",
   "execution_count": 115,
   "metadata": {},
   "outputs": [
    {
     "name": "stdout",
     "output_type": "stream",
     "text": [
      "     Test RMSE: 0.47129\n",
      "Test R^2 Score: -0.59920\n"
     ]
    }
   ],
   "source": [
    "predicted_signals = np.squeeze(model.predict(test_images))\n",
    "true_signals = test_images.labels\n",
    "\n",
    "rmse = np.sqrt(model.evaluate(test_images, verbose=0))\n",
    "print(\"     Test RMSE: {:.5f}\".format(rmse))\n",
    "\n",
    "r2 = r2_score(true_signals, predicted_signals)\n",
    "print(\"Test R^2 Score: {:.5f}\".format(r2))"
   ]
  },
  {
   "cell_type": "code",
   "execution_count": 117,
   "metadata": {},
   "outputs": [
    {
     "name": "stdout",
     "output_type": "stream",
     "text": [
      "Null/Baseline Model Test RMSE: 0.37268\n"
     ]
    }
   ],
   "source": [
    "null_rmse = np.sqrt(np.sum((true_signals - np.mean(true_signals))**2) / len(true_signals))\n",
    "print(\"Null/Baseline Model Test RMSE: {:.5f}\".format(null_rmse))"
   ]
  },
  {
   "cell_type": "markdown",
   "metadata": {},
   "source": [
    "## We can see that our model is not even better than the null/baseline model (predict mean every time)!"
   ]
  },
  {
   "cell_type": "code",
   "execution_count": 119,
   "metadata": {},
   "outputs": [
    {
     "data": {
      "text/plain": [
       "array([1, 1, 0, 1, 1, 1, 1, 1, 0, 1, 1, 1], dtype=int64)"
      ]
     },
     "execution_count": 119,
     "metadata": {},
     "output_type": "execute_result"
    }
   ],
   "source": [
    "true_signals"
   ]
  },
  {
   "cell_type": "code",
   "execution_count": 120,
   "metadata": {},
   "outputs": [
    {
     "data": {
      "text/plain": [
       "array([0.5338014 , 0.4910986 , 0.48627794, 0.6038471 , 0.50324136,\n",
       "       0.5790675 , 0.50132656, 0.5709462 , 0.5417198 , 0.56894696,\n",
       "       0.4593557 , 0.59095013], dtype=float32)"
      ]
     },
     "execution_count": 120,
     "metadata": {},
     "output_type": "execute_result"
    }
   ],
   "source": [
    "predicted_signals"
   ]
  },
  {
   "cell_type": "code",
   "execution_count": 121,
   "metadata": {},
   "outputs": [
    {
     "data": {
      "text/plain": [
       "12"
      ]
     },
     "execution_count": 121,
     "metadata": {},
     "output_type": "execute_result"
    }
   ],
   "source": [
    "len(true_signals)"
   ]
  },
  {
   "cell_type": "code",
   "execution_count": 122,
   "metadata": {},
   "outputs": [
    {
     "data": {
      "text/plain": [
       "12"
      ]
     },
     "execution_count": 122,
     "metadata": {},
     "output_type": "execute_result"
    }
   ],
   "source": [
    "len(predicted_signals)"
   ]
  },
  {
   "cell_type": "code",
   "execution_count": 125,
   "metadata": {},
   "outputs": [],
   "source": [
    "final_predictions_df = pd.DataFrame()\n",
    "final_predictions_df['Actual'] = true_signals\n",
    "final_predictions_df['Predicted'] =  predicted_signals"
   ]
  },
  {
   "cell_type": "code",
   "execution_count": 126,
   "metadata": {},
   "outputs": [
    {
     "data": {
      "text/html": [
       "<div>\n",
       "<style scoped>\n",
       "    .dataframe tbody tr th:only-of-type {\n",
       "        vertical-align: middle;\n",
       "    }\n",
       "\n",
       "    .dataframe tbody tr th {\n",
       "        vertical-align: top;\n",
       "    }\n",
       "\n",
       "    .dataframe thead th {\n",
       "        text-align: right;\n",
       "    }\n",
       "</style>\n",
       "<table border=\"1\" class=\"dataframe\">\n",
       "  <thead>\n",
       "    <tr style=\"text-align: right;\">\n",
       "      <th></th>\n",
       "      <th>Actual</th>\n",
       "      <th>Predicted</th>\n",
       "    </tr>\n",
       "  </thead>\n",
       "  <tbody>\n",
       "    <tr>\n",
       "      <th>0</th>\n",
       "      <td>1</td>\n",
       "      <td>0.533801</td>\n",
       "    </tr>\n",
       "    <tr>\n",
       "      <th>1</th>\n",
       "      <td>1</td>\n",
       "      <td>0.491099</td>\n",
       "    </tr>\n",
       "    <tr>\n",
       "      <th>2</th>\n",
       "      <td>0</td>\n",
       "      <td>0.486278</td>\n",
       "    </tr>\n",
       "    <tr>\n",
       "      <th>3</th>\n",
       "      <td>1</td>\n",
       "      <td>0.603847</td>\n",
       "    </tr>\n",
       "    <tr>\n",
       "      <th>4</th>\n",
       "      <td>1</td>\n",
       "      <td>0.503241</td>\n",
       "    </tr>\n",
       "    <tr>\n",
       "      <th>5</th>\n",
       "      <td>1</td>\n",
       "      <td>0.579068</td>\n",
       "    </tr>\n",
       "    <tr>\n",
       "      <th>6</th>\n",
       "      <td>1</td>\n",
       "      <td>0.501327</td>\n",
       "    </tr>\n",
       "    <tr>\n",
       "      <th>7</th>\n",
       "      <td>1</td>\n",
       "      <td>0.570946</td>\n",
       "    </tr>\n",
       "    <tr>\n",
       "      <th>8</th>\n",
       "      <td>0</td>\n",
       "      <td>0.541720</td>\n",
       "    </tr>\n",
       "    <tr>\n",
       "      <th>9</th>\n",
       "      <td>1</td>\n",
       "      <td>0.568947</td>\n",
       "    </tr>\n",
       "    <tr>\n",
       "      <th>10</th>\n",
       "      <td>1</td>\n",
       "      <td>0.459356</td>\n",
       "    </tr>\n",
       "    <tr>\n",
       "      <th>11</th>\n",
       "      <td>1</td>\n",
       "      <td>0.590950</td>\n",
       "    </tr>\n",
       "  </tbody>\n",
       "</table>\n",
       "</div>"
      ],
      "text/plain": [
       "    Actual  Predicted\n",
       "0        1   0.533801\n",
       "1        1   0.491099\n",
       "2        0   0.486278\n",
       "3        1   0.603847\n",
       "4        1   0.503241\n",
       "5        1   0.579068\n",
       "6        1   0.501327\n",
       "7        1   0.570946\n",
       "8        0   0.541720\n",
       "9        1   0.568947\n",
       "10       1   0.459356\n",
       "11       1   0.590950"
      ]
     },
     "execution_count": 126,
     "metadata": {},
     "output_type": "execute_result"
    }
   ],
   "source": [
    "final_predictions_df"
   ]
  },
  {
   "cell_type": "code",
   "execution_count": null,
   "metadata": {},
   "outputs": [],
   "source": []
  }
 ],
 "metadata": {
  "kernelspec": {
   "display_name": "Python [conda env:deepenv] *",
   "language": "python",
   "name": "conda-env-deepenv-py"
  },
  "language_info": {
   "codemirror_mode": {
    "name": "ipython",
    "version": 3
   },
   "file_extension": ".py",
   "mimetype": "text/x-python",
   "name": "python",
   "nbconvert_exporter": "python",
   "pygments_lexer": "ipython3",
   "version": "3.7.9"
  }
 },
 "nbformat": 4,
 "nbformat_minor": 4
}
