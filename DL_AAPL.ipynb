{
 "cells": [
  {
   "cell_type": "markdown",
   "id": "2f8320ff-6130-411b-85ab-19af7b614fe3",
   "metadata": {},
   "source": [
    "## Pulling news articles about \"AAPL\" using  NewsApi to get a sentiment score on the content of each article from Jan to July 2021."
   ]
  },
  {
   "cell_type": "code",
   "execution_count": 1,
   "id": "221f51c7",
   "metadata": {},
   "outputs": [
    {
     "name": "stderr",
     "output_type": "stream",
     "text": [
      "[nltk_data] Downloading package vader_lexicon to\n",
      "[nltk_data]     /Users/gerardoespinoza/nltk_data...\n",
      "[nltk_data]   Package vader_lexicon is already up-to-date!\n"
     ]
    }
   ],
   "source": [
    "# Initial imports\n",
    "import os\n",
    "import pandas as pd\n",
    "from dotenv import load_dotenv\n",
    "import nltk as nltk\n",
    "nltk.download('vader_lexicon')\n",
    "from nltk.sentiment.vader import SentimentIntensityAnalyzer\n",
    "analyzer = SentimentIntensityAnalyzer()\n",
    "import numpy as np\n",
    "from pathlib import Path\n",
    "import tensorflow as tf\n",
    "\n",
    "%matplotlib inline"
   ]
  },
  {
   "cell_type": "code",
   "execution_count": 2,
   "id": "caec8c96",
   "metadata": {},
   "outputs": [
    {
     "data": {
      "text/plain": [
       "True"
      ]
     },
     "execution_count": 2,
     "metadata": {},
     "output_type": "execute_result"
    }
   ],
   "source": [
    "load_dotenv()"
   ]
  },
  {
   "cell_type": "code",
   "execution_count": 3,
   "id": "570a51bf",
   "metadata": {},
   "outputs": [],
   "source": [
    "# Api key environment variable\n",
    "api_key = os.getenv(\"news_api\")"
   ]
  },
  {
   "cell_type": "code",
   "execution_count": 4,
   "id": "03b05f05",
   "metadata": {},
   "outputs": [],
   "source": [
    "#print(api_key)"
   ]
  },
  {
   "cell_type": "markdown",
   "id": "827c2cbc-a1c9-4020-90a5-b7579e3aa387",
   "metadata": {},
   "source": [
    "### Using newsapi to pull articles for 'AAPL'. We were limited to the articles we were able to pull from the API for free. Our group would have to ask for atleast a $450.00 budget to upgrade our subscribtion on Newsapi."
   ]
  },
  {
   "cell_type": "code",
   "execution_count": 5,
   "id": "c9cc9f1d",
   "metadata": {},
   "outputs": [],
   "source": [
    "# Create a newsapi client\n",
    "from newsapi import NewsApiClient\n",
    "newsapi = NewsApiClient(api_key='5a7fd3d96ac4436b8ebec923eec78f72')"
   ]
  },
  {
   "cell_type": "code",
   "execution_count": 6,
   "id": "d50791c2",
   "metadata": {},
   "outputs": [],
   "source": [
    "all_articles = newsapi.get_everything(q='AAPL',\n",
    "                                      from_param='2021-07-28',\n",
    "                                      to='2021-01-01',\n",
    "                                      language='en',\n",
    "                                      )\n"
   ]
  },
  {
   "cell_type": "markdown",
   "id": "ab34671c-e81b-4b4a-8afd-b21dc6518d7f",
   "metadata": {},
   "source": [
    "## Using a loop to grab all the text and dates from each article, then passing the text through the vader sentiment analysis."
   ]
  },
  {
   "cell_type": "code",
   "execution_count": 7,
   "id": "d7461487",
   "metadata": {},
   "outputs": [],
   "source": [
    "stocks_sentiments = []\n",
    "source =  []\n",
    "for article in all_articles[\"articles\"]:\n",
    "    try:\n",
    "        text= article[\"content\"]\n",
    "        date = article[\"publishedAt\"]\n",
    "        source.append(article['source']['name'])\n",
    "        sentiment = analyzer.polarity_scores(text)\n",
    "        compound = sentiment[\"compound\"]\n",
    "        pos = sentiment[\"pos\"]\n",
    "        neu = sentiment[\"neu\"]\n",
    "        neg = sentiment[\"neg\"]\n",
    "        \n",
    "        stocks_sentiments.append({\n",
    "            \"text\": text,\n",
    "            \"date\": date,\n",
    "            \"compound\": compound,\n",
    "            \"positive\": pos,\n",
    "            \"negative\": neg,\n",
    "            \"neutral\": neu\n",
    "            \n",
    "        })\n",
    "    except AttributeError:\n",
    "        pass\n",
    "    "
   ]
  },
  {
   "cell_type": "code",
   "execution_count": 8,
   "id": "c23e2eea",
   "metadata": {},
   "outputs": [],
   "source": [
    "df = pd.DataFrame(stocks_sentiments)\n",
    "df = df.set_index('date')\n",
    "df = df.sort_values(by='date')\n",
    "df['source'] = source\n",
    "#df"
   ]
  },
  {
   "cell_type": "markdown",
   "id": "b342bbca-7e51-48e8-aaae-4699bc252a76",
   "metadata": {},
   "source": [
    "## Second page request from API."
   ]
  },
  {
   "cell_type": "code",
   "execution_count": 9,
   "id": "dd532c7f",
   "metadata": {},
   "outputs": [],
   "source": [
    "all_articles2 = newsapi.get_everything(q='AAPL',\n",
    "                                      from_param='2021-07-28',\n",
    "                                      to='2021-01-01',\n",
    "                                      language='en',\n",
    "                                       page=2\n",
    "                                      )"
   ]
  },
  {
   "cell_type": "code",
   "execution_count": 10,
   "id": "86ef2145",
   "metadata": {},
   "outputs": [],
   "source": [
    "stocks_sentiments = []\n",
    "source = []\n",
    "for article in all_articles2[\"articles\"]:\n",
    "    try:\n",
    "        text= article[\"content\"]\n",
    "        date = article[\"publishedAt\"]\n",
    "        source .append(article['source']['name'])\n",
    "        sentiment = analyzer.polarity_scores(text)\n",
    "        compound = sentiment[\"compound\"]\n",
    "        pos = sentiment[\"pos\"]\n",
    "        neu = sentiment[\"neu\"]\n",
    "        neg = sentiment[\"neg\"]\n",
    "        \n",
    "        stocks_sentiments.append({\n",
    "            \"text\": text,\n",
    "            \"date\": date,\n",
    "            \"compound\": compound,\n",
    "            \"positive\": pos,\n",
    "            \"negative\": neg,\n",
    "            \"neutral\": neu\n",
    "            \n",
    "        })\n",
    "    except AttributeError:\n",
    "        pass"
   ]
  },
  {
   "cell_type": "code",
   "execution_count": 11,
   "id": "97a80c4c",
   "metadata": {},
   "outputs": [],
   "source": [
    "AAPL2_df = pd.DataFrame(stocks_sentiments)\n",
    "AAPL2_DF = AAPL2_df.sort_values('date')\n",
    "AAPL2_DF = AAPL2_DF.set_index('date')"
   ]
  },
  {
   "cell_type": "code",
   "execution_count": 12,
   "id": "f52dfe1a",
   "metadata": {},
   "outputs": [],
   "source": [
    "# join the first page of api pull with second page\n",
    "apple_df = pd.concat([df,AAPL2_DF])\n",
    "apple_df = apple_df.sort_index()"
   ]
  },
  {
   "cell_type": "code",
   "execution_count": 13,
   "id": "23ff333a",
   "metadata": {},
   "outputs": [],
   "source": [
    "AAPL2_DF['source']= source"
   ]
  },
  {
   "cell_type": "code",
   "execution_count": 14,
   "id": "f86394a5",
   "metadata": {},
   "outputs": [],
   "source": [
    "apple_df = pd.concat([df,AAPL2_DF])\n",
    "apple_df = apple_df.sort_index()"
   ]
  },
  {
   "cell_type": "markdown",
   "id": "6b999f7b-6a03-4674-ae34-7918c7f9f940",
   "metadata": {},
   "source": [
    "## Third page request from API."
   ]
  },
  {
   "cell_type": "code",
   "execution_count": 15,
   "id": "78370494",
   "metadata": {},
   "outputs": [],
   "source": [
    "all_articles3 = newsapi.get_everything(q='AAPL',\n",
    "                                      from_param='2021-07-28',\n",
    "                                      to='2021-01-01',\n",
    "                                      language='en',\n",
    "                                       page=3\n",
    "                                      )"
   ]
  },
  {
   "cell_type": "code",
   "execution_count": 16,
   "id": "e1e69338",
   "metadata": {},
   "outputs": [],
   "source": [
    "stocks_sentiments = []\n",
    "source = []\n",
    "for article in all_articles3[\"articles\"]:\n",
    "    try:\n",
    "        text= article[\"content\"]\n",
    "        date = article[\"publishedAt\"]\n",
    "        source .append(article['source']['name'])\n",
    "        sentiment = analyzer.polarity_scores(text)\n",
    "        compound = sentiment[\"compound\"]\n",
    "        pos = sentiment[\"pos\"]\n",
    "        neu = sentiment[\"neu\"]\n",
    "        neg = sentiment[\"neg\"]\n",
    "        \n",
    "        stocks_sentiments.append({\n",
    "            \"text\": text,\n",
    "            \"date\": date,\n",
    "            \"compound\": compound,\n",
    "            \"positive\": pos,\n",
    "            \"negative\": neg,\n",
    "            \"neutral\": neu\n",
    "            \n",
    "        })\n",
    "    except AttributeError:\n",
    "        pass"
   ]
  },
  {
   "cell_type": "code",
   "execution_count": 17,
   "id": "7f60b61d",
   "metadata": {},
   "outputs": [],
   "source": [
    "df3 = pd.DataFrame(stocks_sentiments)"
   ]
  },
  {
   "cell_type": "code",
   "execution_count": 18,
   "id": "b976d164",
   "metadata": {},
   "outputs": [],
   "source": [
    "df3 = df3.set_index('date').sort_index()\n",
    "df3['source'] = source"
   ]
  },
  {
   "cell_type": "code",
   "execution_count": 19,
   "id": "4d62c711",
   "metadata": {},
   "outputs": [],
   "source": [
    "main_df = pd.concat([apple_df, df3]).sort_index()"
   ]
  },
  {
   "cell_type": "markdown",
   "id": "b1f0496b-f993-4ad3-811f-3369a7636adf",
   "metadata": {},
   "source": [
    "## Fourth page request from API."
   ]
  },
  {
   "cell_type": "code",
   "execution_count": 20,
   "id": "6b4f8071",
   "metadata": {},
   "outputs": [],
   "source": [
    "all_articles4 = newsapi.get_everything(q='AAPL',\n",
    "                                      from_param='2021-07-28',\n",
    "                                      to='2021-01-01',\n",
    "                                      language='en',\n",
    "                                       page=4\n",
    "                                      )"
   ]
  },
  {
   "cell_type": "code",
   "execution_count": 21,
   "id": "072295f4",
   "metadata": {},
   "outputs": [],
   "source": [
    "stocks_sentiments = []\n",
    "source = []\n",
    "for article in all_articles4[\"articles\"]:\n",
    "    try:\n",
    "        text= article[\"content\"]\n",
    "        date = article[\"publishedAt\"]\n",
    "        source .append(article['source']['name'])\n",
    "        sentiment = analyzer.polarity_scores(text)\n",
    "        compound = sentiment[\"compound\"]\n",
    "        pos = sentiment[\"pos\"]\n",
    "        neu = sentiment[\"neu\"]\n",
    "        neg = sentiment[\"neg\"]\n",
    "        \n",
    "        stocks_sentiments.append({\n",
    "            \"text\": text,\n",
    "            \"date\": date,\n",
    "            \"compound\": compound,\n",
    "            \"positive\": pos,\n",
    "            \"negative\": neg,\n",
    "            \"neutral\": neu\n",
    "            \n",
    "        })\n",
    "    except AttributeError:\n",
    "        pass"
   ]
  },
  {
   "cell_type": "code",
   "execution_count": 22,
   "id": "95e98480",
   "metadata": {},
   "outputs": [],
   "source": [
    "#sort index\n",
    "df4 = pd.DataFrame(stocks_sentiments).set_index('date').sort_index()\n",
    "# create a source column\n",
    "df4['source'] =source\n",
    "# add the new df to the main df\n",
    "main_df = pd.concat([main_df, df4]).sort_index()"
   ]
  },
  {
   "cell_type": "markdown",
   "id": "7e7394e3-ee59-4e8c-acca-3cd11e7fba9f",
   "metadata": {},
   "source": [
    "#### Fifth and last request allowed becasue of my basic developer subscribtion from NewsAPi."
   ]
  },
  {
   "cell_type": "code",
   "execution_count": 23,
   "id": "6dae677f",
   "metadata": {},
   "outputs": [],
   "source": [
    "all_articles5 = newsapi.get_everything(q='AAPL',\n",
    "                                      from_param='2021-07-28',\n",
    "                                      to='2021-01-01',\n",
    "                                      language='en',\n",
    "                                       page=5\n",
    "                                      )"
   ]
  },
  {
   "cell_type": "code",
   "execution_count": 24,
   "id": "784625b5",
   "metadata": {},
   "outputs": [],
   "source": [
    "stocks_sentiments = []\n",
    "source = []\n",
    "for article in all_articles5[\"articles\"]:\n",
    "    try:\n",
    "        text= article[\"content\"]\n",
    "        date = article[\"publishedAt\"]\n",
    "        source .append(article['source']['name'])\n",
    "        sentiment = analyzer.polarity_scores(text)\n",
    "        compound = sentiment[\"compound\"]\n",
    "        pos = sentiment[\"pos\"]\n",
    "        neu = sentiment[\"neu\"]\n",
    "        neg = sentiment[\"neg\"]\n",
    "        \n",
    "        stocks_sentiments.append({\n",
    "            \"text\": text,\n",
    "            \"date\": date,\n",
    "            \"compound\": compound,\n",
    "            \"positive\": pos,\n",
    "            \"negative\": neg,\n",
    "            \"neutral\": neu\n",
    "            \n",
    "        })\n",
    "    except AttributeError:\n",
    "        pass"
   ]
  },
  {
   "cell_type": "code",
   "execution_count": 25,
   "id": "f4d3eca7",
   "metadata": {},
   "outputs": [],
   "source": [
    "# set the date index fro the DF\n",
    "df5 = pd.DataFrame(stocks_sentiments).set_index('date').sort_index()\n",
    "# Create source column \n",
    "df5['source']= source"
   ]
  },
  {
   "cell_type": "code",
   "execution_count": 26,
   "id": "bf1acb03",
   "metadata": {},
   "outputs": [],
   "source": [
    "# add the newest df to the main DF\n",
    "main_df = pd.concat([main_df, df5]).sort_index()"
   ]
  },
  {
   "cell_type": "markdown",
   "id": "5366d215-a401-46fe-b939-2413f4ccb0c6",
   "metadata": {},
   "source": [
    "#### Create a weekly average Compound score."
   ]
  },
  {
   "cell_type": "code",
   "execution_count": 27,
   "id": "c9201ff0",
   "metadata": {},
   "outputs": [],
   "source": [
    "# make date time index to pd datetime\n",
    "main_df.index=pd.to_datetime(main_df.index)\n",
    "\n",
    "# Create an Average weekly sentiment by resampling and the mean compound score\n",
    "weekly_sentiment = main_df.resample('W')['compound'].mean()\n",
    "\n",
    "# Create DataFrame for weekly sentiment\n",
    "weekly_sentiment_df = pd.DataFrame(weekly_sentiment)"
   ]
  },
  {
   "cell_type": "markdown",
   "id": "2f28ea14-3495-49c2-8849-a712d4ec1408",
   "metadata": {},
   "source": [
    "#### Also got the number of weekly articles from our DATA.  We will join our 2 new weekly features to our original weekly sentiment DataFrame."
   ]
  },
  {
   "cell_type": "code",
   "execution_count": 28,
   "id": "ab57ba3f",
   "metadata": {},
   "outputs": [],
   "source": [
    "# Resample weekly and count the number of articles for the week\n",
    "num_articles_weekly = main_df.resample('W')['text'].count()\n",
    "\n",
    "# Create a DataFrame for numbers of weekly articles\n",
    "articles_weekly_df = pd.DataFrame(num_articles_weekly)\n",
    "\n",
    "# Join weekly features \n",
    "weekly_sentiment = pd.concat([weekly_sentiment_df, articles_weekly_df], axis=1)\n",
    "\n",
    "# Rename columns\n",
    "weekly_sentiment_AAPL_df = weekly_sentiment.rename(columns={'text': 'articles'})"
   ]
  },
  {
   "cell_type": "markdown",
   "id": "86311823-218b-4b3a-8795-ca518c49fa4d",
   "metadata": {},
   "source": [
    "## This is an example of the easiest way of pulling 5 pages in 1 call instead of 1 by 1.\n",
    "\n",
    "**Creating a loop to grab all 5 pages in 1 call."
   ]
  },
  {
   "cell_type": "code",
   "execution_count": 29,
   "id": "eea02402",
   "metadata": {},
   "outputs": [],
   "source": [
    "# each_page = []\n",
    "# aapl_results = []\n",
    "# response = \n",
    "# for each_page in range(1, 6):\n",
    "    #result=newsapi.get_everything(q='AAPL', \n",
    "                                 # from_param='2021-07-06', \n",
    "                                  #to='2020-07-06',\n",
    "                                  #language='en', \n",
    "                                  #page = each_page\n",
    "                                 #)\n",
    "    #aapl_results.append(result)\n"
   ]
  },
  {
   "cell_type": "markdown",
   "id": "628bd751-9e12-43a7-94b1-8ec2ae906198",
   "metadata": {},
   "source": [
    "### Creating a condition to make the compound score either a 0 for negative or a 1 for positive."
   ]
  },
  {
   "cell_type": "code",
   "execution_count": 30,
   "id": "ae12d4f7",
   "metadata": {},
   "outputs": [],
   "source": [
    "#set a conditon to make the compound score either a 0 or 1 \n",
    "score = main_df['compound']  \n",
    "sentiment = []\n",
    "\n",
    "for x in score:\n",
    "    if x >= 0.05:\n",
    "        sentiment.append(1)\n",
    "    else:\n",
    "        sentiment.append(0)"
   ]
  },
  {
   "cell_type": "code",
   "execution_count": 31,
   "id": "17a49a6c",
   "metadata": {},
   "outputs": [
    {
     "data": {
      "text/html": [
       "<div>\n",
       "<style scoped>\n",
       "    .dataframe tbody tr th:only-of-type {\n",
       "        vertical-align: middle;\n",
       "    }\n",
       "\n",
       "    .dataframe tbody tr th {\n",
       "        vertical-align: top;\n",
       "    }\n",
       "\n",
       "    .dataframe thead th {\n",
       "        text-align: right;\n",
       "    }\n",
       "</style>\n",
       "<table border=\"1\" class=\"dataframe\">\n",
       "  <thead>\n",
       "    <tr style=\"text-align: right;\">\n",
       "      <th></th>\n",
       "      <th>text</th>\n",
       "      <th>compound</th>\n",
       "      <th>positive</th>\n",
       "      <th>negative</th>\n",
       "      <th>neutral</th>\n",
       "      <th>source</th>\n",
       "      <th>sentiment</th>\n",
       "    </tr>\n",
       "    <tr>\n",
       "      <th>date</th>\n",
       "      <th></th>\n",
       "      <th></th>\n",
       "      <th></th>\n",
       "      <th></th>\n",
       "      <th></th>\n",
       "      <th></th>\n",
       "      <th></th>\n",
       "    </tr>\n",
       "  </thead>\n",
       "  <tbody>\n",
       "    <tr>\n",
       "      <th>2021-01-05 21:23:16+00:00</th>\n",
       "      <td>An accountant representing Dr. Dre's estranged...</td>\n",
       "      <td>-0.3612</td>\n",
       "      <td>0.041</td>\n",
       "      <td>0.110</td>\n",
       "      <td>0.849</td>\n",
       "      <td>StockNews.com</td>\n",
       "      <td>0</td>\n",
       "    </tr>\n",
       "    <tr>\n",
       "      <th>2021-01-06 01:31:49+00:00</th>\n",
       "      <td>Apple CEO Tim Cook's compensation increased by...</td>\n",
       "      <td>0.2732</td>\n",
       "      <td>0.062</td>\n",
       "      <td>0.000</td>\n",
       "      <td>0.938</td>\n",
       "      <td>Business Insider</td>\n",
       "      <td>1</td>\n",
       "    </tr>\n",
       "    <tr>\n",
       "      <th>2021-01-06 16:22:40+00:00</th>\n",
       "      <td>New York (CNN Business)The \"blue wave\" that ma...</td>\n",
       "      <td>0.0000</td>\n",
       "      <td>0.000</td>\n",
       "      <td>0.000</td>\n",
       "      <td>1.000</td>\n",
       "      <td>Business Insider</td>\n",
       "      <td>0</td>\n",
       "    </tr>\n",
       "    <tr>\n",
       "      <th>2021-01-06 20:37:22+00:00</th>\n",
       "      <td>January\\r\\n6, 2021\\r\\n5 min read\\r\\nThis story...</td>\n",
       "      <td>0.5106</td>\n",
       "      <td>0.102</td>\n",
       "      <td>0.000</td>\n",
       "      <td>0.898</td>\n",
       "      <td>StockNews.com</td>\n",
       "      <td>1</td>\n",
       "    </tr>\n",
       "    <tr>\n",
       "      <th>2021-01-09 14:52:00+00:00</th>\n",
       "      <td>In case you missed it, the Apple Car is back. ...</td>\n",
       "      <td>-0.2960</td>\n",
       "      <td>0.000</td>\n",
       "      <td>0.055</td>\n",
       "      <td>0.945</td>\n",
       "      <td>Benzinga</td>\n",
       "      <td>0</td>\n",
       "    </tr>\n",
       "  </tbody>\n",
       "</table>\n",
       "</div>"
      ],
      "text/plain": [
       "                                                                        text  \\\n",
       "date                                                                           \n",
       "2021-01-05 21:23:16+00:00  An accountant representing Dr. Dre's estranged...   \n",
       "2021-01-06 01:31:49+00:00  Apple CEO Tim Cook's compensation increased by...   \n",
       "2021-01-06 16:22:40+00:00  New York (CNN Business)The \"blue wave\" that ma...   \n",
       "2021-01-06 20:37:22+00:00  January\\r\\n6, 2021\\r\\n5 min read\\r\\nThis story...   \n",
       "2021-01-09 14:52:00+00:00  In case you missed it, the Apple Car is back. ...   \n",
       "\n",
       "                           compound  positive  negative  neutral  \\\n",
       "date                                                               \n",
       "2021-01-05 21:23:16+00:00   -0.3612     0.041     0.110    0.849   \n",
       "2021-01-06 01:31:49+00:00    0.2732     0.062     0.000    0.938   \n",
       "2021-01-06 16:22:40+00:00    0.0000     0.000     0.000    1.000   \n",
       "2021-01-06 20:37:22+00:00    0.5106     0.102     0.000    0.898   \n",
       "2021-01-09 14:52:00+00:00   -0.2960     0.000     0.055    0.945   \n",
       "\n",
       "                                     source  sentiment  \n",
       "date                                                    \n",
       "2021-01-05 21:23:16+00:00     StockNews.com          0  \n",
       "2021-01-06 01:31:49+00:00  Business Insider          1  \n",
       "2021-01-06 16:22:40+00:00  Business Insider          0  \n",
       "2021-01-06 20:37:22+00:00     StockNews.com          1  \n",
       "2021-01-09 14:52:00+00:00          Benzinga          0  "
      ]
     },
     "execution_count": 31,
     "metadata": {},
     "output_type": "execute_result"
    }
   ],
   "source": [
    "# adding the sentiment column to main DataFrame\n",
    "main_df['sentiment'] = sentiment\n",
    "main_df.head()"
   ]
  },
  {
   "cell_type": "markdown",
   "id": "851b3dd5-f88b-441a-9950-36b75a599d32",
   "metadata": {},
   "source": [
    "## My first attempt at creating a model. With the text being my feature, and my sentiment being the target. Using Tensorflow"
   ]
  },
  {
   "cell_type": "code",
   "execution_count": 32,
   "id": "6d332645",
   "metadata": {},
   "outputs": [],
   "source": [
    "# Create the features set (X) and the target vector (y)\n",
    "X = main_df['text']\n",
    "y = main_df['sentiment']"
   ]
  },
  {
   "cell_type": "code",
   "execution_count": 33,
   "id": "67db4938",
   "metadata": {},
   "outputs": [],
   "source": [
    "# Create the train, test, and validation sets\n",
    "from sklearn.model_selection import train_test_split\n",
    "\n",
    "X_train, X_test, y_train, y_test = train_test_split(X, y)\n",
    "\n",
    "X_train, X_val, y_train, y_val = train_test_split(X_train, y_train)"
   ]
  },
  {
   "cell_type": "code",
   "execution_count": 34,
   "id": "afa1228c",
   "metadata": {},
   "outputs": [],
   "source": [
    "# Import the Tokenizer method from Keras\n",
    "from tensorflow.keras.preprocessing.text import Tokenizer"
   ]
  },
  {
   "cell_type": "code",
   "execution_count": 35,
   "id": "9d3034fd",
   "metadata": {},
   "outputs": [],
   "source": [
    "tokenizer = Tokenizer(lower=True)\n",
    "tokenizer.fit_on_texts(X)"
   ]
  },
  {
   "cell_type": "code",
   "execution_count": 36,
   "id": "a315902d",
   "metadata": {},
   "outputs": [
    {
     "name": "stdout",
     "output_type": "stream",
     "text": [
      "word: 'the', token: 1\n",
      "word: 'chars', token: 2\n",
      "word: 'to', token: 3\n",
      "word: 'a', token: 4\n",
      "word: 'apple', token: 5\n"
     ]
    }
   ],
   "source": [
    "# Print the first five elements of the encoded vocabulary\n",
    "for token in list(tokenizer.word_index)[:5]:\n",
    "    print(f\"word: '{token}', token: {tokenizer.word_index[token]}\")"
   ]
  },
  {
   "cell_type": "code",
   "execution_count": 37,
   "id": "f90033b9",
   "metadata": {},
   "outputs": [],
   "source": [
    "# Transform the text data to numerical sequences\n",
    "X_seq = tokenizer.texts_to_sequences(X)"
   ]
  },
  {
   "cell_type": "code",
   "execution_count": 38,
   "id": "5ad1b7e0",
   "metadata": {},
   "outputs": [
    {
     "data": {
      "text/plain": [
       "37"
      ]
     },
     "execution_count": 38,
     "metadata": {},
     "output_type": "execute_result"
    }
   ],
   "source": [
    "len(X_seq[1])"
   ]
  },
  {
   "cell_type": "code",
   "execution_count": 39,
   "id": "36a64952",
   "metadata": {},
   "outputs": [
    {
     "data": {
      "text/plain": [
       "37"
      ]
     },
     "execution_count": 39,
     "metadata": {},
     "output_type": "execute_result"
    }
   ],
   "source": [
    "len(X_seq[99])"
   ]
  },
  {
   "cell_type": "code",
   "execution_count": 40,
   "id": "2cf938d3",
   "metadata": {},
   "outputs": [],
   "source": [
    "# Import the pad_sequences method from Keras\n",
    "from tensorflow.keras.preprocessing.sequence import pad_sequences"
   ]
  },
  {
   "cell_type": "code",
   "execution_count": 41,
   "id": "b17ab4cb",
   "metadata": {},
   "outputs": [],
   "source": [
    "# Set the pad size\n",
    "max_words = 40\n",
    "\n",
    "# Pad the sequences using the pad_sequences() method\n",
    "X_pad = pad_sequences(X_seq, maxlen=max_words, padding=\"post\")"
   ]
  },
  {
   "cell_type": "code",
   "execution_count": 42,
   "id": "fa9abd3d",
   "metadata": {},
   "outputs": [],
   "source": [
    "# Creating training, validation, and testing sets using the encoded data\n",
    "X_train_rnn, X_test_rnn, y_train_rnn, y_test_rnn = train_test_split(X_pad, y)\n",
    "\n",
    "X_train_rnn, X_val_rnn, y_train_rnn, y_val_rnn = train_test_split(X_train_rnn, y_train_rnn)"
   ]
  },
  {
   "cell_type": "code",
   "execution_count": 43,
   "id": "0b182396",
   "metadata": {},
   "outputs": [],
   "source": [
    "# Import Keras modules for model creation\n",
    "from tensorflow.keras.models import Sequential\n",
    "from tensorflow.keras.layers import Embedding, LSTM, Dense"
   ]
  },
  {
   "cell_type": "code",
   "execution_count": 44,
   "id": "fe9ac970",
   "metadata": {},
   "outputs": [],
   "source": [
    "# Model set-up\n",
    "vocabulary_size =len(tokenizer.word_counts.keys()) + 1\n",
    "\n",
    "embedding_size = 64"
   ]
  },
  {
   "cell_type": "code",
   "execution_count": 45,
   "id": "28d73bdc",
   "metadata": {},
   "outputs": [],
   "source": [
    "# Define the LSTM RNN model\n",
    "model = Sequential()\n",
    "\n",
    "# Layer 1\n",
    "model.add(Embedding(vocabulary_size, embedding_size, input_length=max_words))\n",
    "\n",
    "# Layer 2\n",
    "model.add(LSTM(units=400))\n",
    "\n",
    "# Output layer\n",
    "model.add(Dense(units=1, activation=\"relu\"))"
   ]
  },
  {
   "cell_type": "code",
   "execution_count": 46,
   "id": "b9c91630",
   "metadata": {},
   "outputs": [],
   "source": [
    "from tensorflow import keras"
   ]
  },
  {
   "cell_type": "code",
   "execution_count": 47,
   "id": "f9eb21ca",
   "metadata": {},
   "outputs": [],
   "source": [
    "optimizer = keras.optimizers.Adam(learning_rate=0.05)"
   ]
  },
  {
   "cell_type": "code",
   "execution_count": 48,
   "id": "d4da5413",
   "metadata": {},
   "outputs": [],
   "source": [
    "# Compile the model\n",
    "model.compile(\n",
    "    loss=\"binary_crossentropy\",\n",
    "    optimizer=optimizer,\n",
    "    metrics=[\n",
    "        \"accuracy\",\n",
    "        #tf.keras.metrics.TruePositives(name=\"tp\"),\n",
    "        #tf.keras.metrics.TrueNegatives(name=\"tn\"),\n",
    "        ##tf.keras.metrics.FalsePositives(name=\"fp\"),\n",
    "        #tf.keras.metrics.FalseNegatives(name=\"fn\"),\n",
    "        #tf.keras.metrics.Precision(name=\"precision\"),\n",
    "        #tf.keras.metrics.Recall(name=\"recall\"),\n",
    "        #tf.keras.metrics.AUC(name=\"auc\"),\n",
    "    ],\n",
    ")"
   ]
  },
  {
   "cell_type": "code",
   "execution_count": 49,
   "id": "180d7633",
   "metadata": {},
   "outputs": [
    {
     "name": "stdout",
     "output_type": "stream",
     "text": [
      "Model: \"sequential\"\n",
      "_________________________________________________________________\n",
      "Layer (type)                 Output Shape              Param #   \n",
      "=================================================================\n",
      "embedding (Embedding)        (None, 40, 64)            84672     \n",
      "_________________________________________________________________\n",
      "lstm (LSTM)                  (None, 400)               744000    \n",
      "_________________________________________________________________\n",
      "dense (Dense)                (None, 1)                 401       \n",
      "=================================================================\n",
      "Total params: 829,073\n",
      "Trainable params: 829,073\n",
      "Non-trainable params: 0\n",
      "_________________________________________________________________\n"
     ]
    }
   ],
   "source": [
    "# Show model summary\n",
    "model.summary()"
   ]
  },
  {
   "cell_type": "code",
   "execution_count": 50,
   "id": "ee8c1a0a",
   "metadata": {},
   "outputs": [
    {
     "name": "stdout",
     "output_type": "stream",
     "text": [
      "Epoch 1/25\n",
      "2/2 [==============================] - 2s 450ms/step - loss: 6.2049 - accuracy: 0.4464 - val_loss: 8.8285 - val_accuracy: 0.4211\n",
      "Epoch 2/25\n",
      "2/2 [==============================] - 0s 72ms/step - loss: 6.8077 - accuracy: 0.5536 - val_loss: 8.8285 - val_accuracy: 0.4211\n",
      "Epoch 3/25\n",
      "2/2 [==============================] - 0s 73ms/step - loss: 6.8077 - accuracy: 0.5536 - val_loss: 8.8285 - val_accuracy: 0.4211\n",
      "Epoch 4/25\n",
      "2/2 [==============================] - 0s 76ms/step - loss: 6.8077 - accuracy: 0.5536 - val_loss: 8.8285 - val_accuracy: 0.4211\n",
      "Epoch 5/25\n",
      "2/2 [==============================] - 0s 77ms/step - loss: 6.8077 - accuracy: 0.5536 - val_loss: 8.8285 - val_accuracy: 0.4211\n",
      "Epoch 6/25\n",
      "2/2 [==============================] - 0s 77ms/step - loss: 6.8077 - accuracy: 0.5536 - val_loss: 8.8285 - val_accuracy: 0.4211\n",
      "Epoch 7/25\n",
      "2/2 [==============================] - 0s 83ms/step - loss: 6.8077 - accuracy: 0.5536 - val_loss: 8.8285 - val_accuracy: 0.4211\n",
      "Epoch 8/25\n",
      "2/2 [==============================] - 0s 76ms/step - loss: 6.8077 - accuracy: 0.5536 - val_loss: 8.8285 - val_accuracy: 0.4211\n",
      "Epoch 9/25\n",
      "2/2 [==============================] - 0s 76ms/step - loss: 6.8077 - accuracy: 0.5536 - val_loss: 8.8285 - val_accuracy: 0.4211\n",
      "Epoch 10/25\n",
      "2/2 [==============================] - 0s 72ms/step - loss: 6.8077 - accuracy: 0.5536 - val_loss: 8.8285 - val_accuracy: 0.4211\n",
      "Epoch 11/25\n",
      "2/2 [==============================] - 0s 76ms/step - loss: 6.8077 - accuracy: 0.5536 - val_loss: 8.8285 - val_accuracy: 0.4211\n",
      "Epoch 12/25\n",
      "2/2 [==============================] - 0s 81ms/step - loss: 6.8077 - accuracy: 0.5536 - val_loss: 8.8285 - val_accuracy: 0.4211\n",
      "Epoch 13/25\n",
      "2/2 [==============================] - 0s 79ms/step - loss: 6.8077 - accuracy: 0.5536 - val_loss: 8.8285 - val_accuracy: 0.4211\n",
      "Epoch 14/25\n",
      "2/2 [==============================] - 0s 81ms/step - loss: 6.8077 - accuracy: 0.5536 - val_loss: 8.8285 - val_accuracy: 0.4211\n",
      "Epoch 15/25\n",
      "2/2 [==============================] - 0s 77ms/step - loss: 6.8077 - accuracy: 0.5536 - val_loss: 8.8285 - val_accuracy: 0.4211\n",
      "Epoch 16/25\n",
      "2/2 [==============================] - 0s 74ms/step - loss: 6.8077 - accuracy: 0.5536 - val_loss: 8.8285 - val_accuracy: 0.4211\n",
      "Epoch 17/25\n",
      "2/2 [==============================] - 0s 79ms/step - loss: 6.8077 - accuracy: 0.5536 - val_loss: 8.8285 - val_accuracy: 0.4211\n",
      "Epoch 18/25\n",
      "2/2 [==============================] - 0s 76ms/step - loss: 6.8077 - accuracy: 0.5536 - val_loss: 8.8285 - val_accuracy: 0.4211\n",
      "Epoch 19/25\n",
      "2/2 [==============================] - 0s 79ms/step - loss: 6.8077 - accuracy: 0.5536 - val_loss: 8.8285 - val_accuracy: 0.4211\n",
      "Epoch 20/25\n",
      "2/2 [==============================] - 0s 79ms/step - loss: 6.8077 - accuracy: 0.5536 - val_loss: 8.8285 - val_accuracy: 0.4211\n",
      "Epoch 21/25\n",
      "2/2 [==============================] - 0s 81ms/step - loss: 6.8077 - accuracy: 0.5536 - val_loss: 8.8285 - val_accuracy: 0.4211\n",
      "Epoch 22/25\n",
      "2/2 [==============================] - 0s 81ms/step - loss: 6.8077 - accuracy: 0.5536 - val_loss: 8.8285 - val_accuracy: 0.4211\n",
      "Epoch 23/25\n",
      "2/2 [==============================] - 0s 81ms/step - loss: 6.8077 - accuracy: 0.5536 - val_loss: 8.8285 - val_accuracy: 0.4211\n",
      "Epoch 24/25\n",
      "2/2 [==============================] - 0s 77ms/step - loss: 6.8077 - accuracy: 0.5536 - val_loss: 8.8285 - val_accuracy: 0.4211\n",
      "Epoch 25/25\n",
      "2/2 [==============================] - 0s 77ms/step - loss: 6.8077 - accuracy: 0.5536 - val_loss: 8.8285 - val_accuracy: 0.4211\n"
     ]
    },
    {
     "data": {
      "text/plain": [
       "<tensorflow.python.keras.callbacks.History at 0x7f9f319672b0>"
      ]
     },
     "execution_count": 50,
     "metadata": {},
     "output_type": "execute_result"
    }
   ],
   "source": [
    "# Training the model\n",
    "batch_size = 50\n",
    "epochs = 25\n",
    "model.fit(\n",
    "    X_train_rnn,\n",
    "    y_train_rnn,\n",
    "    validation_data=(X_val_rnn, y_val_rnn),\n",
    "    epochs=epochs,\n",
    "    batch_size=batch_size,\n",
    "    verbose=1,\n",
    ")"
   ]
  },
  {
   "cell_type": "code",
   "execution_count": 51,
   "id": "5da3c762",
   "metadata": {},
   "outputs": [],
   "source": [
    "# lr = 0.01 loss: 0.3678 - accuracy: 0.9464 - val_loss: 0.8866 - val_accuracy: 0.4737"
   ]
  },
  {
   "cell_type": "code",
   "execution_count": 52,
   "id": "1d12e74c",
   "metadata": {},
   "outputs": [],
   "source": [
    "# lr = 0.02  loss: 0.1152 - accuracy: 0.9821 - val_loss: 1.2360 - val_accuracy: 0.5263"
   ]
  },
  {
   "cell_type": "code",
   "execution_count": 53,
   "id": "a20ef828",
   "metadata": {},
   "outputs": [
    {
     "name": "stderr",
     "output_type": "stream",
     "text": [
      "/Users/gerardoespinoza/opt/anaconda3/envs/ML2/lib/python3.9/site-packages/tensorflow/python/keras/engine/sequential.py:455: UserWarning: `model.predict_classes()` is deprecated and will be removed after 2021-01-01. Please use instead:* `np.argmax(model.predict(x), axis=-1)`,   if your model does multi-class classification   (e.g. if it uses a `softmax` last-layer activation).* `(model.predict(x) > 0.5).astype(\"int32\")`,   if your model does binary classification   (e.g. if it uses a `sigmoid` last-layer activation).\n",
      "  warnings.warn('`model.predict_classes()` is deprecated and '\n"
     ]
    }
   ],
   "source": [
    "# Predict classes using the testing data\n",
    "y_rnn_pred = model.predict_classes(X_test_rnn, batch_size=50)"
   ]
  },
  {
   "cell_type": "code",
   "execution_count": 54,
   "id": "0f66aea1",
   "metadata": {},
   "outputs": [
    {
     "name": "stdout",
     "output_type": "stream",
     "text": [
      "RNN LSTM Accuracy 0.48\n"
     ]
    }
   ],
   "source": [
    "# Accuracy\n",
    "from sklearn.metrics import accuracy_score\n",
    "\n",
    "# Print accuracy score\n",
    "print(\"RNN LSTM Accuracy %.2f\" % (accuracy_score(y_test_rnn, y_rnn_pred)))"
   ]
  },
  {
   "cell_type": "code",
   "execution_count": 55,
   "id": "5764c9fc",
   "metadata": {},
   "outputs": [],
   "source": [
    "# Import the classification_report method from sklearn\n",
    "from sklearn.metrics import classification_report"
   ]
  },
  {
   "cell_type": "code",
   "execution_count": 56,
   "id": "13341883",
   "metadata": {},
   "outputs": [
    {
     "name": "stdout",
     "output_type": "stream",
     "text": [
      "Classification Report for the RNN LSTM Model\n",
      "              precision    recall  f1-score   support\n",
      "\n",
      "           0       0.00      0.00      0.00         0\n",
      "           1       1.00      0.48      0.65        25\n",
      "\n",
      "    accuracy                           0.48        25\n",
      "   macro avg       0.50      0.24      0.32        25\n",
      "weighted avg       1.00      0.48      0.65        25\n",
      "\n"
     ]
    },
    {
     "name": "stderr",
     "output_type": "stream",
     "text": [
      "/Users/gerardoespinoza/opt/anaconda3/envs/ML2/lib/python3.9/site-packages/sklearn/metrics/_classification.py:1245: UndefinedMetricWarning: Recall and F-score are ill-defined and being set to 0.0 in labels with no true samples. Use `zero_division` parameter to control this behavior.\n",
      "  _warn_prf(average, modifier, msg_start, len(result))\n",
      "/Users/gerardoespinoza/opt/anaconda3/envs/ML2/lib/python3.9/site-packages/sklearn/metrics/_classification.py:1245: UndefinedMetricWarning: Recall and F-score are ill-defined and being set to 0.0 in labels with no true samples. Use `zero_division` parameter to control this behavior.\n",
      "  _warn_prf(average, modifier, msg_start, len(result))\n",
      "/Users/gerardoespinoza/opt/anaconda3/envs/ML2/lib/python3.9/site-packages/sklearn/metrics/_classification.py:1245: UndefinedMetricWarning: Recall and F-score are ill-defined and being set to 0.0 in labels with no true samples. Use `zero_division` parameter to control this behavior.\n",
      "  _warn_prf(average, modifier, msg_start, len(result))\n"
     ]
    }
   ],
   "source": [
    "# Display classification report for the RNN LSTM Model\n",
    "print(\"Classification Report for the RNN LSTM Model\")\n",
    "print(classification_report(y_rnn_pred, y_test_rnn))"
   ]
  },
  {
   "cell_type": "code",
   "execution_count": 57,
   "id": "7ac3d4d9",
   "metadata": {},
   "outputs": [],
   "source": [
    "# save as CSV file\n",
    "main_df.to_csv(path_or_buf='../Project-2/sentiment.csv')"
   ]
  },
  {
   "cell_type": "markdown",
   "id": "5233b634-22b1-496d-9afd-806a444d0c2e",
   "metadata": {},
   "source": [
    "## Data processing to create a new LSTM RNN model with different features and target.\n",
    "## We will use the compound score from or vader sentiment and join it with other AAPL features.\n",
    "### Adding more features to our original AAPL sentiment Dataframe. "
   ]
  },
  {
   "cell_type": "code",
   "execution_count": 58,
   "id": "ce29e8e4",
   "metadata": {},
   "outputs": [],
   "source": [
    "# set path to CSV file\n",
    "path = Path('AAPL.csv')\n",
    "\n",
    "# read the CSv using pd\n",
    "apple = pd.read_csv(path)\n",
    "\n",
    "# Create a DataFrame from the CSV\n",
    "aapl_df= pd.DataFrame(apple)\n",
    "\n",
    "# make the date column datetime\n",
    "apple_df['Date'] = pd.to_datetime(aapl_df['Date'])\n",
    "\n",
    "# set the date as the index\n",
    "aapl_df = aapl_df.set_index('Date')\n",
    "\n",
    "# Create a prev close column by shifting the Adj close \n",
    "aapl_df['prev_close'] = aapl_df['Adj Close'].shift()\n",
    "\n",
    "# Create a Daily Returns features by dividing Adj Close divided by Prev close\n",
    "aapl_df['Daily_returns'] = aapl_df['Adj Close'] / aapl_df['prev_close'] - 1 "
   ]
  },
  {
   "cell_type": "markdown",
   "id": "49d3c525-aedd-4879-81c5-127828303f82",
   "metadata": {},
   "source": [
    "### Preparing the main df for a join with aapl df."
   ]
  },
  {
   "cell_type": "code",
   "execution_count": 59,
   "id": "fa10185c-f23a-43cc-9ea1-bb2d03e28f6a",
   "metadata": {},
   "outputs": [
    {
     "data": {
      "text/html": [
       "<div>\n",
       "<style scoped>\n",
       "    .dataframe tbody tr th:only-of-type {\n",
       "        vertical-align: middle;\n",
       "    }\n",
       "\n",
       "    .dataframe tbody tr th {\n",
       "        vertical-align: top;\n",
       "    }\n",
       "\n",
       "    .dataframe thead th {\n",
       "        text-align: right;\n",
       "    }\n",
       "</style>\n",
       "<table border=\"1\" class=\"dataframe\">\n",
       "  <thead>\n",
       "    <tr style=\"text-align: right;\">\n",
       "      <th></th>\n",
       "      <th>date</th>\n",
       "      <th>text</th>\n",
       "      <th>compound</th>\n",
       "      <th>positive</th>\n",
       "      <th>negative</th>\n",
       "      <th>neutral</th>\n",
       "      <th>source</th>\n",
       "      <th>sentiment</th>\n",
       "    </tr>\n",
       "  </thead>\n",
       "  <tbody>\n",
       "    <tr>\n",
       "      <th>0</th>\n",
       "      <td>2021-01-05 21:23:16+00:00</td>\n",
       "      <td>An accountant representing Dr. Dre's estranged...</td>\n",
       "      <td>-0.3612</td>\n",
       "      <td>0.041</td>\n",
       "      <td>0.110</td>\n",
       "      <td>0.849</td>\n",
       "      <td>StockNews.com</td>\n",
       "      <td>0</td>\n",
       "    </tr>\n",
       "    <tr>\n",
       "      <th>1</th>\n",
       "      <td>2021-01-06 01:31:49+00:00</td>\n",
       "      <td>Apple CEO Tim Cook's compensation increased by...</td>\n",
       "      <td>0.2732</td>\n",
       "      <td>0.062</td>\n",
       "      <td>0.000</td>\n",
       "      <td>0.938</td>\n",
       "      <td>Business Insider</td>\n",
       "      <td>1</td>\n",
       "    </tr>\n",
       "    <tr>\n",
       "      <th>2</th>\n",
       "      <td>2021-01-06 16:22:40+00:00</td>\n",
       "      <td>New York (CNN Business)The \"blue wave\" that ma...</td>\n",
       "      <td>0.0000</td>\n",
       "      <td>0.000</td>\n",
       "      <td>0.000</td>\n",
       "      <td>1.000</td>\n",
       "      <td>Business Insider</td>\n",
       "      <td>0</td>\n",
       "    </tr>\n",
       "    <tr>\n",
       "      <th>3</th>\n",
       "      <td>2021-01-06 20:37:22+00:00</td>\n",
       "      <td>January\\r\\n6, 2021\\r\\n5 min read\\r\\nThis story...</td>\n",
       "      <td>0.5106</td>\n",
       "      <td>0.102</td>\n",
       "      <td>0.000</td>\n",
       "      <td>0.898</td>\n",
       "      <td>StockNews.com</td>\n",
       "      <td>1</td>\n",
       "    </tr>\n",
       "    <tr>\n",
       "      <th>4</th>\n",
       "      <td>2021-01-09 14:52:00+00:00</td>\n",
       "      <td>In case you missed it, the Apple Car is back. ...</td>\n",
       "      <td>-0.2960</td>\n",
       "      <td>0.000</td>\n",
       "      <td>0.055</td>\n",
       "      <td>0.945</td>\n",
       "      <td>Benzinga</td>\n",
       "      <td>0</td>\n",
       "    </tr>\n",
       "  </tbody>\n",
       "</table>\n",
       "</div>"
      ],
      "text/plain": [
       "                       date  \\\n",
       "0 2021-01-05 21:23:16+00:00   \n",
       "1 2021-01-06 01:31:49+00:00   \n",
       "2 2021-01-06 16:22:40+00:00   \n",
       "3 2021-01-06 20:37:22+00:00   \n",
       "4 2021-01-09 14:52:00+00:00   \n",
       "\n",
       "                                                text  compound  positive  \\\n",
       "0  An accountant representing Dr. Dre's estranged...   -0.3612     0.041   \n",
       "1  Apple CEO Tim Cook's compensation increased by...    0.2732     0.062   \n",
       "2  New York (CNN Business)The \"blue wave\" that ma...    0.0000     0.000   \n",
       "3  January\\r\\n6, 2021\\r\\n5 min read\\r\\nThis story...    0.5106     0.102   \n",
       "4  In case you missed it, the Apple Car is back. ...   -0.2960     0.000   \n",
       "\n",
       "   negative  neutral            source  sentiment  \n",
       "0     0.110    0.849     StockNews.com          0  \n",
       "1     0.000    0.938  Business Insider          1  \n",
       "2     0.000    1.000  Business Insider          0  \n",
       "3     0.000    0.898     StockNews.com          1  \n",
       "4     0.055    0.945          Benzinga          0  "
      ]
     },
     "execution_count": 59,
     "metadata": {},
     "output_type": "execute_result"
    }
   ],
   "source": [
    "# reset index\n",
    "main_df = main_df.reset_index()\n",
    "\n",
    "# make date column to datetime\n",
    "main_df['date'] = pd.to_datetime(main_df['date'])\n",
    "main_df.head()"
   ]
  },
  {
   "cell_type": "code",
   "execution_count": 60,
   "id": "a9bab985-aa55-437a-98b0-0f8da8eeba18",
   "metadata": {},
   "outputs": [],
   "source": [
    "# set index as date \n",
    "main_df = main_df.set_index('date')\n",
    "\n",
    "# resample our main df to daily so we can only have 1 average score per day\n",
    "daily_sentiment_df = main_df.resample('d').mean()\n",
    "\n",
    "# make date index correct format \n",
    "daily_sentiment_df.index=daily_sentiment_df.index.strftime('%Y-%m-%d')"
   ]
  },
  {
   "cell_type": "markdown",
   "id": "e574d387-da2d-471e-a2b1-b7bd0a5d3446",
   "metadata": {},
   "source": [
    "## Join both Dataframes \n",
    "\n",
    "**We will add the RSI indicator "
   ]
  },
  {
   "cell_type": "code",
   "execution_count": 61,
   "id": "350c2842-1528-46be-b62c-aaef06c7d595",
   "metadata": {},
   "outputs": [],
   "source": [
    "# merge both Dataframes \n",
    "aapl_daily_df = daily_sentiment_df.merge(aapl_df, left_index=True, right_index=True)"
   ]
  },
  {
   "cell_type": "code",
   "execution_count": 62,
   "id": "d9c7f904-14a5-4c6b-8a17-12e9e81f59fa",
   "metadata": {},
   "outputs": [],
   "source": [
    "# Save as CSV\n",
    "aapl_daily_df.to_csv(path_or_buf='aapl_daily_df.csv')"
   ]
  },
  {
   "cell_type": "code",
   "execution_count": 63,
   "id": "d0418290-a163-4afe-b759-6fbd9c9b5bfb",
   "metadata": {},
   "outputs": [
    {
     "data": {
      "text/html": [
       "<div>\n",
       "<style scoped>\n",
       "    .dataframe tbody tr th:only-of-type {\n",
       "        vertical-align: middle;\n",
       "    }\n",
       "\n",
       "    .dataframe tbody tr th {\n",
       "        vertical-align: top;\n",
       "    }\n",
       "\n",
       "    .dataframe thead th {\n",
       "        text-align: right;\n",
       "    }\n",
       "</style>\n",
       "<table border=\"1\" class=\"dataframe\">\n",
       "  <thead>\n",
       "    <tr style=\"text-align: right;\">\n",
       "      <th></th>\n",
       "      <th>compound</th>\n",
       "      <th>positive</th>\n",
       "      <th>negative</th>\n",
       "      <th>neutral</th>\n",
       "      <th>sentiment</th>\n",
       "      <th>Open</th>\n",
       "      <th>High</th>\n",
       "      <th>Low</th>\n",
       "      <th>Close</th>\n",
       "      <th>Adj Close</th>\n",
       "      <th>Volume</th>\n",
       "      <th>prev_close</th>\n",
       "      <th>Daily_returns</th>\n",
       "    </tr>\n",
       "  </thead>\n",
       "  <tbody>\n",
       "    <tr>\n",
       "      <th>2021-01-05</th>\n",
       "      <td>-0.361200</td>\n",
       "      <td>0.041000</td>\n",
       "      <td>0.11</td>\n",
       "      <td>0.849000</td>\n",
       "      <td>0.000000</td>\n",
       "      <td>128.889999</td>\n",
       "      <td>131.740005</td>\n",
       "      <td>128.429993</td>\n",
       "      <td>131.009995</td>\n",
       "      <td>130.592697</td>\n",
       "      <td>97664900</td>\n",
       "      <td>128.997803</td>\n",
       "      <td>0.012364</td>\n",
       "    </tr>\n",
       "    <tr>\n",
       "      <th>2021-01-06</th>\n",
       "      <td>0.261267</td>\n",
       "      <td>0.054667</td>\n",
       "      <td>0.00</td>\n",
       "      <td>0.945333</td>\n",
       "      <td>0.666667</td>\n",
       "      <td>127.720001</td>\n",
       "      <td>131.050003</td>\n",
       "      <td>126.379997</td>\n",
       "      <td>126.599998</td>\n",
       "      <td>126.196747</td>\n",
       "      <td>155088000</td>\n",
       "      <td>130.592697</td>\n",
       "      <td>-0.033662</td>\n",
       "    </tr>\n",
       "    <tr>\n",
       "      <th>2021-01-07</th>\n",
       "      <td>NaN</td>\n",
       "      <td>NaN</td>\n",
       "      <td>NaN</td>\n",
       "      <td>NaN</td>\n",
       "      <td>NaN</td>\n",
       "      <td>128.360001</td>\n",
       "      <td>131.630005</td>\n",
       "      <td>127.860001</td>\n",
       "      <td>130.919998</td>\n",
       "      <td>130.502991</td>\n",
       "      <td>109578200</td>\n",
       "      <td>126.196747</td>\n",
       "      <td>0.034123</td>\n",
       "    </tr>\n",
       "    <tr>\n",
       "      <th>2021-01-08</th>\n",
       "      <td>NaN</td>\n",
       "      <td>NaN</td>\n",
       "      <td>NaN</td>\n",
       "      <td>NaN</td>\n",
       "      <td>NaN</td>\n",
       "      <td>132.429993</td>\n",
       "      <td>132.630005</td>\n",
       "      <td>130.229996</td>\n",
       "      <td>132.050003</td>\n",
       "      <td>131.629379</td>\n",
       "      <td>105158200</td>\n",
       "      <td>130.502991</td>\n",
       "      <td>0.008631</td>\n",
       "    </tr>\n",
       "    <tr>\n",
       "      <th>2021-01-11</th>\n",
       "      <td>NaN</td>\n",
       "      <td>NaN</td>\n",
       "      <td>NaN</td>\n",
       "      <td>NaN</td>\n",
       "      <td>NaN</td>\n",
       "      <td>129.190002</td>\n",
       "      <td>130.169998</td>\n",
       "      <td>128.500000</td>\n",
       "      <td>128.979996</td>\n",
       "      <td>128.569168</td>\n",
       "      <td>100384500</td>\n",
       "      <td>131.629379</td>\n",
       "      <td>-0.023249</td>\n",
       "    </tr>\n",
       "  </tbody>\n",
       "</table>\n",
       "</div>"
      ],
      "text/plain": [
       "            compound  positive  negative   neutral  sentiment        Open  \\\n",
       "2021-01-05 -0.361200  0.041000      0.11  0.849000   0.000000  128.889999   \n",
       "2021-01-06  0.261267  0.054667      0.00  0.945333   0.666667  127.720001   \n",
       "2021-01-07       NaN       NaN       NaN       NaN        NaN  128.360001   \n",
       "2021-01-08       NaN       NaN       NaN       NaN        NaN  132.429993   \n",
       "2021-01-11       NaN       NaN       NaN       NaN        NaN  129.190002   \n",
       "\n",
       "                  High         Low       Close   Adj Close     Volume  \\\n",
       "2021-01-05  131.740005  128.429993  131.009995  130.592697   97664900   \n",
       "2021-01-06  131.050003  126.379997  126.599998  126.196747  155088000   \n",
       "2021-01-07  131.630005  127.860001  130.919998  130.502991  109578200   \n",
       "2021-01-08  132.630005  130.229996  132.050003  131.629379  105158200   \n",
       "2021-01-11  130.169998  128.500000  128.979996  128.569168  100384500   \n",
       "\n",
       "            prev_close  Daily_returns  \n",
       "2021-01-05  128.997803       0.012364  \n",
       "2021-01-06  130.592697      -0.033662  \n",
       "2021-01-07  126.196747       0.034123  \n",
       "2021-01-08  130.502991       0.008631  \n",
       "2021-01-11  131.629379      -0.023249  "
      ]
     },
     "execution_count": 63,
     "metadata": {},
     "output_type": "execute_result"
    }
   ],
   "source": [
    "aapl_daily_df.head()"
   ]
  },
  {
   "cell_type": "markdown",
   "id": "3962db60-79af-489f-9f9e-00e56944eedb",
   "metadata": {},
   "source": [
    "### Adding the RSI indicator"
   ]
  },
  {
   "cell_type": "code",
   "execution_count": 64,
   "id": "2313605e-f0f1-4fb2-b28e-ac3aece51a37",
   "metadata": {},
   "outputs": [],
   "source": [
    "# create a path for CSV file\n",
    "path = Path('indicators.csv')\n",
    "\n",
    "# read CSV\n",
    "rsi = pd.read_csv(path)\n",
    "\n",
    "# Create a DataFrame for RSI\n",
    "rsi_df = pd.DataFrame(rsi)\n",
    "\n",
    "# set index to Date\n",
    "rsi_df = rsi_df.set_index('Date')\n",
    "\n",
    "# drop the Adj Close since we already have the feature \n",
    "rsi_df = rsi_df.drop(columns=['Adj Close'])"
   ]
  },
  {
   "cell_type": "code",
   "execution_count": 65,
   "id": "f334c31c-f249-4861-a74e-1e415de2ece6",
   "metadata": {},
   "outputs": [
    {
     "data": {
      "text/html": [
       "<div>\n",
       "<style scoped>\n",
       "    .dataframe tbody tr th:only-of-type {\n",
       "        vertical-align: middle;\n",
       "    }\n",
       "\n",
       "    .dataframe tbody tr th {\n",
       "        vertical-align: top;\n",
       "    }\n",
       "\n",
       "    .dataframe thead th {\n",
       "        text-align: right;\n",
       "    }\n",
       "</style>\n",
       "<table border=\"1\" class=\"dataframe\">\n",
       "  <thead>\n",
       "    <tr style=\"text-align: right;\">\n",
       "      <th></th>\n",
       "      <th>compound</th>\n",
       "      <th>positive</th>\n",
       "      <th>negative</th>\n",
       "      <th>neutral</th>\n",
       "      <th>sentiment</th>\n",
       "      <th>Open</th>\n",
       "      <th>High</th>\n",
       "      <th>Low</th>\n",
       "      <th>Close</th>\n",
       "      <th>Adj Close</th>\n",
       "      <th>Volume</th>\n",
       "      <th>prev_close</th>\n",
       "      <th>Daily_returns</th>\n",
       "      <th>RSI</th>\n",
       "    </tr>\n",
       "  </thead>\n",
       "  <tbody>\n",
       "    <tr>\n",
       "      <th>2021-01-05</th>\n",
       "      <td>-0.361200</td>\n",
       "      <td>0.041000</td>\n",
       "      <td>0.11</td>\n",
       "      <td>0.849000</td>\n",
       "      <td>0.000000</td>\n",
       "      <td>128.889999</td>\n",
       "      <td>131.740005</td>\n",
       "      <td>128.429993</td>\n",
       "      <td>131.009995</td>\n",
       "      <td>130.592697</td>\n",
       "      <td>97664900</td>\n",
       "      <td>128.997803</td>\n",
       "      <td>0.012364</td>\n",
       "      <td>NaN</td>\n",
       "    </tr>\n",
       "    <tr>\n",
       "      <th>2021-01-06</th>\n",
       "      <td>0.261267</td>\n",
       "      <td>0.054667</td>\n",
       "      <td>0.00</td>\n",
       "      <td>0.945333</td>\n",
       "      <td>0.666667</td>\n",
       "      <td>127.720001</td>\n",
       "      <td>131.050003</td>\n",
       "      <td>126.379997</td>\n",
       "      <td>126.599998</td>\n",
       "      <td>126.196747</td>\n",
       "      <td>155088000</td>\n",
       "      <td>130.592697</td>\n",
       "      <td>-0.033662</td>\n",
       "      <td>NaN</td>\n",
       "    </tr>\n",
       "    <tr>\n",
       "      <th>2021-01-07</th>\n",
       "      <td>NaN</td>\n",
       "      <td>NaN</td>\n",
       "      <td>NaN</td>\n",
       "      <td>NaN</td>\n",
       "      <td>NaN</td>\n",
       "      <td>128.360001</td>\n",
       "      <td>131.630005</td>\n",
       "      <td>127.860001</td>\n",
       "      <td>130.919998</td>\n",
       "      <td>130.502991</td>\n",
       "      <td>109578200</td>\n",
       "      <td>126.196747</td>\n",
       "      <td>0.034123</td>\n",
       "      <td>NaN</td>\n",
       "    </tr>\n",
       "    <tr>\n",
       "      <th>2021-01-08</th>\n",
       "      <td>NaN</td>\n",
       "      <td>NaN</td>\n",
       "      <td>NaN</td>\n",
       "      <td>NaN</td>\n",
       "      <td>NaN</td>\n",
       "      <td>132.429993</td>\n",
       "      <td>132.630005</td>\n",
       "      <td>130.229996</td>\n",
       "      <td>132.050003</td>\n",
       "      <td>131.629379</td>\n",
       "      <td>105158200</td>\n",
       "      <td>130.502991</td>\n",
       "      <td>0.008631</td>\n",
       "      <td>NaN</td>\n",
       "    </tr>\n",
       "    <tr>\n",
       "      <th>2021-01-11</th>\n",
       "      <td>NaN</td>\n",
       "      <td>NaN</td>\n",
       "      <td>NaN</td>\n",
       "      <td>NaN</td>\n",
       "      <td>NaN</td>\n",
       "      <td>129.190002</td>\n",
       "      <td>130.169998</td>\n",
       "      <td>128.500000</td>\n",
       "      <td>128.979996</td>\n",
       "      <td>128.569168</td>\n",
       "      <td>100384500</td>\n",
       "      <td>131.629379</td>\n",
       "      <td>-0.023249</td>\n",
       "      <td>48.520284</td>\n",
       "    </tr>\n",
       "  </tbody>\n",
       "</table>\n",
       "</div>"
      ],
      "text/plain": [
       "            compound  positive  negative   neutral  sentiment        Open  \\\n",
       "2021-01-05 -0.361200  0.041000      0.11  0.849000   0.000000  128.889999   \n",
       "2021-01-06  0.261267  0.054667      0.00  0.945333   0.666667  127.720001   \n",
       "2021-01-07       NaN       NaN       NaN       NaN        NaN  128.360001   \n",
       "2021-01-08       NaN       NaN       NaN       NaN        NaN  132.429993   \n",
       "2021-01-11       NaN       NaN       NaN       NaN        NaN  129.190002   \n",
       "\n",
       "                  High         Low       Close   Adj Close     Volume  \\\n",
       "2021-01-05  131.740005  128.429993  131.009995  130.592697   97664900   \n",
       "2021-01-06  131.050003  126.379997  126.599998  126.196747  155088000   \n",
       "2021-01-07  131.630005  127.860001  130.919998  130.502991  109578200   \n",
       "2021-01-08  132.630005  130.229996  132.050003  131.629379  105158200   \n",
       "2021-01-11  130.169998  128.500000  128.979996  128.569168  100384500   \n",
       "\n",
       "            prev_close  Daily_returns        RSI  \n",
       "2021-01-05  128.997803       0.012364        NaN  \n",
       "2021-01-06  130.592697      -0.033662        NaN  \n",
       "2021-01-07  126.196747       0.034123        NaN  \n",
       "2021-01-08  130.502991       0.008631        NaN  \n",
       "2021-01-11  131.629379      -0.023249  48.520284  "
      ]
     },
     "execution_count": 65,
     "metadata": {},
     "output_type": "execute_result"
    }
   ],
   "source": [
    "# merge the RSI df witht he aapl daily df\n",
    "aapl_daily_df = aapl_daily_df.merge(rsi_df, left_index=True, right_index=True)\n",
    "aapl_daily_df.head()"
   ]
  },
  {
   "cell_type": "markdown",
   "id": "517512a8-4703-406f-aa2d-05ab28a16e44",
   "metadata": {},
   "source": [
    "## Cleaning the final DataFrame"
   ]
  },
  {
   "cell_type": "code",
   "execution_count": 66,
   "id": "3b80f62a-cf10-4cef-b030-06e1b141768d",
   "metadata": {},
   "outputs": [
    {
     "data": {
      "text/plain": [
       "434"
      ]
     },
     "execution_count": 66,
     "metadata": {},
     "output_type": "execute_result"
    }
   ],
   "source": [
    "# Looking for missing values\n",
    "aapl_daily_df.isnull().sum().sum()"
   ]
  },
  {
   "cell_type": "code",
   "execution_count": 67,
   "id": "1440d9c2-0bbe-40cb-8162-023d0c08b7c7",
   "metadata": {},
   "outputs": [],
   "source": [
    "# Filling missing values with the previous ones, using pad method\n",
    "aapl_daily_df = aapl_daily_df.fillna(method ='pad')\n",
    "\n",
    "# Create a new df with only the columns that we will use\n",
    "new_df = aapl_daily_df[['compound', 'Adj Close', 'Volume', 'Daily_returns', 'RSI']]"
   ]
  },
  {
   "cell_type": "code",
   "execution_count": 68,
   "id": "40dd1d80-ec89-4515-b54f-89de66555966",
   "metadata": {},
   "outputs": [],
   "source": [
    "# save as CSV file\n",
    "aapl_daily_df.to_csv(path_or_buf='aapl_daily_df.csv')"
   ]
  },
  {
   "cell_type": "code",
   "execution_count": 69,
   "id": "cd6d80a4-4a1e-456a-8ef9-dc0c5838112b",
   "metadata": {},
   "outputs": [
    {
     "name": "stderr",
     "output_type": "stream",
     "text": [
      "<ipython-input-69-6ca9877b5d62>:2: SettingWithCopyWarning: \n",
      "A value is trying to be set on a copy of a slice from a DataFrame\n",
      "\n",
      "See the caveats in the documentation: https://pandas.pydata.org/pandas-docs/stable/user_guide/indexing.html#returning-a-view-versus-a-copy\n",
      "  new_df.dropna(inplace=True)\n"
     ]
    },
    {
     "data": {
      "text/html": [
       "<div>\n",
       "<style scoped>\n",
       "    .dataframe tbody tr th:only-of-type {\n",
       "        vertical-align: middle;\n",
       "    }\n",
       "\n",
       "    .dataframe tbody tr th {\n",
       "        vertical-align: top;\n",
       "    }\n",
       "\n",
       "    .dataframe thead th {\n",
       "        text-align: right;\n",
       "    }\n",
       "</style>\n",
       "<table border=\"1\" class=\"dataframe\">\n",
       "  <thead>\n",
       "    <tr style=\"text-align: right;\">\n",
       "      <th></th>\n",
       "      <th>compound</th>\n",
       "      <th>Adj Close</th>\n",
       "      <th>Volume</th>\n",
       "      <th>Daily_returns</th>\n",
       "      <th>RSI</th>\n",
       "    </tr>\n",
       "  </thead>\n",
       "  <tbody>\n",
       "    <tr>\n",
       "      <th>2021-01-11</th>\n",
       "      <td>0.261267</td>\n",
       "      <td>128.569168</td>\n",
       "      <td>100384500</td>\n",
       "      <td>-0.023249</td>\n",
       "      <td>48.520284</td>\n",
       "    </tr>\n",
       "    <tr>\n",
       "      <th>2021-01-12</th>\n",
       "      <td>0.261267</td>\n",
       "      <td>128.389740</td>\n",
       "      <td>91951100</td>\n",
       "      <td>-0.001396</td>\n",
       "      <td>41.571320</td>\n",
       "    </tr>\n",
       "    <tr>\n",
       "      <th>2021-01-13</th>\n",
       "      <td>0.261267</td>\n",
       "      <td>130.473083</td>\n",
       "      <td>88636800</td>\n",
       "      <td>0.016227</td>\n",
       "      <td>69.879553</td>\n",
       "    </tr>\n",
       "    <tr>\n",
       "      <th>2021-01-14</th>\n",
       "      <td>0.261267</td>\n",
       "      <td>128.499405</td>\n",
       "      <td>90221800</td>\n",
       "      <td>-0.015127</td>\n",
       "      <td>38.106526</td>\n",
       "    </tr>\n",
       "    <tr>\n",
       "      <th>2021-01-15</th>\n",
       "      <td>0.261267</td>\n",
       "      <td>126.735023</td>\n",
       "      <td>111598500</td>\n",
       "      <td>-0.013731</td>\n",
       "      <td>22.992311</td>\n",
       "    </tr>\n",
       "  </tbody>\n",
       "</table>\n",
       "</div>"
      ],
      "text/plain": [
       "            compound   Adj Close     Volume  Daily_returns        RSI\n",
       "2021-01-11  0.261267  128.569168  100384500      -0.023249  48.520284\n",
       "2021-01-12  0.261267  128.389740   91951100      -0.001396  41.571320\n",
       "2021-01-13  0.261267  130.473083   88636800       0.016227  69.879553\n",
       "2021-01-14  0.261267  128.499405   90221800      -0.015127  38.106526\n",
       "2021-01-15  0.261267  126.735023  111598500      -0.013731  22.992311"
      ]
     },
     "execution_count": 69,
     "metadata": {},
     "output_type": "execute_result"
    }
   ],
   "source": [
    "# drop the naan \n",
    "new_df.dropna(inplace=True)\n",
    "new_df.head()"
   ]
  },
  {
   "cell_type": "code",
   "execution_count": 70,
   "id": "c1d106f2-3dae-4a9d-a9e2-eb6738ddf62c",
   "metadata": {},
   "outputs": [],
   "source": [
    "def window_data(df, window, feature_col_number, target_col_number):\n",
    "    \"\"\"\n",
    "    This function accepts the column number for the features (X) and the target (y).\n",
    "    It chunks the data up with a rolling window of Xt - window to predict Xt.\n",
    "    It returns two numpy arrays of X and y.\n",
    "    \"\"\"\n",
    "    X = []\n",
    "    y = []\n",
    "    for i in range(len(df) - window):\n",
    "        features = df.iloc[i : (i + window), [0,1,2,4]]\n",
    "        #features = df.iloc[i : (i + window), feature_col_number]\n",
    "        target = df.iloc[(i + window), target_col_number]\n",
    "        X.append(features)\n",
    "        y.append(target)\n",
    "    #return np.array(X), np.array(y).reshape(-1, 1)\n",
    "    return np.array(X).reshape(-1,20), np.array(y).reshape(-1, 1)"
   ]
  },
  {
   "cell_type": "code",
   "execution_count": 71,
   "id": "427c8b63-e2e7-4e3d-8776-b0cc5fe0a3dd",
   "metadata": {},
   "outputs": [
    {
     "name": "stdout",
     "output_type": "stream",
     "text": [
      "X sample values:\n",
      "[[2.61266667e-01 1.28569168e+02 1.00384500e+08 4.85202835e+01\n",
      "  2.61266667e-01 1.28389740e+02 9.19511000e+07 4.15713202e+01\n",
      "  2.61266667e-01 1.30473083e+02 8.86368000e+07 6.98795531e+01\n",
      "  2.61266667e-01 1.28499405e+02 9.02218000e+07 3.81065263e+01\n",
      "  2.61266667e-01 1.26735023e+02 1.11598500e+08 2.29923115e+01]\n",
      " [2.61266667e-01 1.28389740e+02 9.19511000e+07 4.15713202e+01\n",
      "  2.61266667e-01 1.30473083e+02 8.86368000e+07 6.98795531e+01\n",
      "  2.61266667e-01 1.28499405e+02 9.02218000e+07 3.81065263e+01\n",
      "  2.61266667e-01 1.26735023e+02 1.11598500e+08 2.29923115e+01\n",
      "  2.61266667e-01 1.27422829e+02 9.07573000e+07 4.14306981e+01]\n",
      " [2.61266667e-01 1.30473083e+02 8.86368000e+07 6.98795531e+01\n",
      "  2.61266667e-01 1.28499405e+02 9.02218000e+07 3.81065263e+01\n",
      "  2.61266667e-01 1.26735023e+02 1.11598500e+08 2.29923115e+01\n",
      "  2.61266667e-01 1.27422829e+02 9.07573000e+07 4.14306981e+01\n",
      "  2.61266667e-01 1.31609451e+02 1.04319500e+08 6.50512429e+01]] \n",
      "\n",
      "y sample values:\n",
      "[[0.00542712]\n",
      " [0.03285614]\n",
      " [0.03665823]]\n"
     ]
    }
   ],
   "source": [
    "# Define the window size\n",
    "window_size = 5\n",
    "\n",
    "# Set the index of the feature and target columns\n",
    "feature_column = 0\n",
    "target_column = 3\n",
    "\n",
    "# Create the features (X) and target (y) data using the window_data() function.\n",
    "X, y = window_data(new_df, window_size, feature_column, target_column)\n",
    "\n",
    "# Print a few sample values from X and y\n",
    "print (f\"X sample values:\\n{X[:3]} \\n\")\n",
    "print (f\"y sample values:\\n{y[:3]}\")"
   ]
  },
  {
   "cell_type": "code",
   "execution_count": 72,
   "id": "96cd27aa-7c27-4a1a-a1a1-d3d6bbf581fe",
   "metadata": {},
   "outputs": [],
   "source": [
    "#X = X.transpose(2,0,1).reshape(-1,X.shape[1])"
   ]
  },
  {
   "cell_type": "code",
   "execution_count": 73,
   "id": "5e372e5b-829c-4231-a1d2-a6ec2255cc90",
   "metadata": {},
   "outputs": [
    {
     "data": {
      "text/plain": [
       "(133, 20)"
      ]
     },
     "execution_count": 73,
     "metadata": {},
     "output_type": "execute_result"
    }
   ],
   "source": [
    "X.shape"
   ]
  },
  {
   "cell_type": "code",
   "execution_count": 74,
   "id": "c190f0c9-e998-4d7d-b6d7-c150f48b1394",
   "metadata": {},
   "outputs": [
    {
     "data": {
      "text/plain": [
       "(133, 1)"
      ]
     },
     "execution_count": 74,
     "metadata": {},
     "output_type": "execute_result"
    }
   ],
   "source": [
    "y.shape"
   ]
  },
  {
   "cell_type": "code",
   "execution_count": 75,
   "id": "82889893-4408-4310-9ec5-a8e35a29589e",
   "metadata": {},
   "outputs": [],
   "source": [
    "#X = X.reshape(133,25)"
   ]
  },
  {
   "cell_type": "code",
   "execution_count": 76,
   "id": "f998226b-1e3f-4669-aa1a-d1fe420ba837",
   "metadata": {},
   "outputs": [],
   "source": [
    "#X.shape"
   ]
  },
  {
   "cell_type": "code",
   "execution_count": 77,
   "id": "0316c549-6767-4f42-8174-e089c331059b",
   "metadata": {},
   "outputs": [],
   "source": [
    "#y.shape"
   ]
  },
  {
   "cell_type": "code",
   "execution_count": 78,
   "id": "37c709b1-af8b-43ae-9d96-747c30e53a48",
   "metadata": {},
   "outputs": [],
   "source": [
    "# Manually splitting the data\n",
    "split = int(0.7 * len(X))\n",
    "\n",
    "X_train = X[: split]\n",
    "X_test = X[split:]\n",
    "\n",
    "y_train = y[: split]\n",
    "y_test = y[split:]"
   ]
  },
  {
   "cell_type": "code",
   "execution_count": 79,
   "id": "7c1d0129-14d8-4ea7-be5f-ffa806418cb5",
   "metadata": {},
   "outputs": [],
   "source": [
    "# Importing the MinMaxScaler from sklearn\n",
    "from sklearn.preprocessing import MinMaxScaler\n",
    "\n",
    "# Create a MinMaxScaler object\n",
    "scaler = MinMaxScaler()\n",
    "\n",
    "# Fit the MinMaxScaler object with the features data X\n",
    "scaler.fit(X)\n",
    "\n",
    "# Scale the features training and testing sets\n",
    "X_train = scaler.transform(X_train)\n",
    "X_test = scaler.transform(X_test)\n",
    "\n",
    "# Fit the MinMaxScaler object with the target data Y\n",
    "scaler.fit(y)\n",
    "\n",
    "# Scale the target training and testing sets\n",
    "y_train = scaler.transform(y_train)\n",
    "y_test = scaler.transform(y_test)"
   ]
  },
  {
   "cell_type": "code",
   "execution_count": 80,
   "id": "704633fe-89fd-4906-acfa-1006198399fd",
   "metadata": {},
   "outputs": [
    {
     "name": "stdout",
     "output_type": "stream",
     "text": [
      "X_train sample values:\n",
      "[[[0.49829093]\n",
      "  [0.37609859]\n",
      "  [0.3599682 ]\n",
      "  [0.48520284]\n",
      "  [0.49829093]\n",
      "  [0.37065929]\n",
      "  [0.29658953]\n",
      "  [0.4157132 ]\n",
      "  [0.49829093]\n",
      "  [0.43381519]\n",
      "  [0.27168191]\n",
      "  [0.69879553]\n",
      "  [0.49829093]\n",
      "  [0.37398375]\n",
      "  [0.2835935 ]\n",
      "  [0.38106526]\n",
      "  [0.50433398]\n",
      "  [0.32049705]\n",
      "  [0.44424362]\n",
      "  [0.22992311]]\n",
      "\n",
      " [[0.49829093]\n",
      "  [0.37065929]\n",
      "  [0.29658953]\n",
      "  [0.4157132 ]\n",
      "  [0.49829093]\n",
      "  [0.43381519]\n",
      "  [0.27168191]\n",
      "  [0.69879553]\n",
      "  [0.49829093]\n",
      "  [0.37398375]\n",
      "  [0.2835935 ]\n",
      "  [0.38106526]\n",
      "  [0.49829093]\n",
      "  [0.32049705]\n",
      "  [0.44424362]\n",
      "  [0.22992311]\n",
      "  [0.50433398]\n",
      "  [0.34134768]\n",
      "  [0.28761789]\n",
      "  [0.41430698]]\n",
      "\n",
      " [[0.49829093]\n",
      "  [0.43381519]\n",
      "  [0.27168191]\n",
      "  [0.69879553]\n",
      "  [0.49829093]\n",
      "  [0.37398375]\n",
      "  [0.2835935 ]\n",
      "  [0.38106526]\n",
      "  [0.49829093]\n",
      "  [0.32049705]\n",
      "  [0.44424362]\n",
      "  [0.22992311]\n",
      "  [0.49829093]\n",
      "  [0.34134768]\n",
      "  [0.28761789]\n",
      "  [0.41430698]\n",
      "  [0.50433398]\n",
      "  [0.46826384]\n",
      "  [0.3895405 ]\n",
      "  [0.65051243]]] \n",
      "\n",
      "X_test sample values:\n",
      "[[[0.63894325]\n",
      "  [0.32549834]\n",
      "  [0.14672446]\n",
      "  [0.65696853]\n",
      "  [0.63894325]\n",
      "  [0.32398248]\n",
      "  [0.03073791]\n",
      "  [0.6682242 ]\n",
      "  [0.63894325]\n",
      "  [0.27638845]\n",
      "  [0.31668892]\n",
      "  [0.31098688]\n",
      "  [0.63894325]\n",
      "  [0.25607766]\n",
      "  [0.14147585]\n",
      "  [0.40144231]\n",
      "  [0.3817064 ]\n",
      "  [0.24607375]\n",
      "  [0.11386501]\n",
      "  [0.        ]]\n",
      "\n",
      " [[0.63894325]\n",
      "  [0.32398248]\n",
      "  [0.03073791]\n",
      "  [0.6682242 ]\n",
      "  [0.63894325]\n",
      "  [0.27638845]\n",
      "  [0.31668892]\n",
      "  [0.31098688]\n",
      "  [0.63894325]\n",
      "  [0.25607766]\n",
      "  [0.14147585]\n",
      "  [0.40144231]\n",
      "  [0.3741683 ]\n",
      "  [0.24607375]\n",
      "  [0.11386501]\n",
      "  [0.        ]\n",
      "  [0.3817064 ]\n",
      "  [0.26971918]\n",
      "  [0.05105149]\n",
      "  [0.22941134]]\n",
      "\n",
      " [[0.63894325]\n",
      "  [0.27638845]\n",
      "  [0.31668892]\n",
      "  [0.31098688]\n",
      "  [0.63894325]\n",
      "  [0.25607766]\n",
      "  [0.14147585]\n",
      "  [0.40144231]\n",
      "  [0.3741683 ]\n",
      "  [0.24607375]\n",
      "  [0.11386501]\n",
      "  [0.        ]\n",
      "  [0.3741683 ]\n",
      "  [0.26971918]\n",
      "  [0.05105149]\n",
      "  [0.22941134]\n",
      "  [0.3817064 ]\n",
      "  [0.22364094]\n",
      "  [0.17843634]\n",
      "  [0.16016423]]]\n"
     ]
    }
   ],
   "source": [
    "# Reshape the features data\n",
    "X_train = X_train.reshape((X_train.shape[0], X_train.shape[1], 1))\n",
    "X_test = X_test.reshape((X_test.shape[0], X_test.shape[1], 1))\n",
    "\n",
    "# Print some sample data after reshaping the datasets\n",
    "print (f\"X_train sample values:\\n{X_train[:3]} \\n\")\n",
    "print (f\"X_test sample values:\\n{X_test[:3]}\")"
   ]
  },
  {
   "cell_type": "code",
   "execution_count": 81,
   "id": "5d1c3dfe-fc05-49c2-988d-c8455f5bcc1e",
   "metadata": {},
   "outputs": [],
   "source": [
    "# Importing required Keras modules\n",
    "from tensorflow.keras.models import Sequential\n",
    "from tensorflow.keras.layers import LSTM, Dense, Dropout"
   ]
  },
  {
   "cell_type": "code",
   "execution_count": 82,
   "id": "d0fd30a2-2bf5-4b9e-839e-52632e3023da",
   "metadata": {},
   "outputs": [],
   "source": [
    "# Define the LSTM RNN model.\n",
    "model = Sequential()\n",
    "\n",
    "# Initial model setup\n",
    "number_units = 20\n",
    "dropout_fraction = 0.2\n",
    "\n",
    "# Layer 1\n",
    "model.add(LSTM(\n",
    "    units=number_units,\n",
    "    return_sequences=True,\n",
    "    input_shape=(X_train.shape[1], 1))\n",
    "    )\n",
    "model.add(Dropout(dropout_fraction))\n",
    "\n",
    "# Layer 2\n",
    "model.add(LSTM(units=number_units, return_sequences=True))\n",
    "model.add(Dropout(dropout_fraction))\n",
    "\n",
    "# Layer 3\n",
    "model.add(LSTM(units=number_units))\n",
    "model.add(Dropout(dropout_fraction))\n",
    "\n",
    "# Output layer\n",
    "model.add(Dense(1))"
   ]
  },
  {
   "cell_type": "code",
   "execution_count": 83,
   "id": "d4f6e1b5-bdb3-4d93-98e5-90797cc21ca9",
   "metadata": {},
   "outputs": [],
   "source": [
    "# Compile the model\n",
    "model.compile(optimizer=\"adam\", loss=\"mean_squared_error\")"
   ]
  },
  {
   "cell_type": "code",
   "execution_count": 84,
   "id": "b6032925-6bc0-4c61-a200-aa8e11a81955",
   "metadata": {},
   "outputs": [
    {
     "name": "stdout",
     "output_type": "stream",
     "text": [
      "Model: \"sequential_1\"\n",
      "_________________________________________________________________\n",
      "Layer (type)                 Output Shape              Param #   \n",
      "=================================================================\n",
      "lstm_1 (LSTM)                (None, 20, 20)            1760      \n",
      "_________________________________________________________________\n",
      "dropout (Dropout)            (None, 20, 20)            0         \n",
      "_________________________________________________________________\n",
      "lstm_2 (LSTM)                (None, 20, 20)            3280      \n",
      "_________________________________________________________________\n",
      "dropout_1 (Dropout)          (None, 20, 20)            0         \n",
      "_________________________________________________________________\n",
      "lstm_3 (LSTM)                (None, 20)                3280      \n",
      "_________________________________________________________________\n",
      "dropout_2 (Dropout)          (None, 20)                0         \n",
      "_________________________________________________________________\n",
      "dense_1 (Dense)              (None, 1)                 21        \n",
      "=================================================================\n",
      "Total params: 8,341\n",
      "Trainable params: 8,341\n",
      "Non-trainable params: 0\n",
      "_________________________________________________________________\n"
     ]
    }
   ],
   "source": [
    "# Show the model summary\n",
    "model.summary()"
   ]
  },
  {
   "cell_type": "code",
   "execution_count": 85,
   "id": "a446b5e3-651e-422f-b98c-ac8f0932c391",
   "metadata": {},
   "outputs": [
    {
     "name": "stdout",
     "output_type": "stream",
     "text": [
      "Epoch 1/20\n",
      "2/2 [==============================] - 4s 29ms/step - loss: 0.2287\n",
      "Epoch 2/20\n",
      "2/2 [==============================] - 0s 30ms/step - loss: 0.1826\n",
      "Epoch 3/20\n",
      "2/2 [==============================] - 0s 19ms/step - loss: 0.1474\n",
      "Epoch 4/20\n",
      "2/2 [==============================] - 0s 17ms/step - loss: 0.1080\n",
      "Epoch 5/20\n",
      "2/2 [==============================] - 0s 18ms/step - loss: 0.0782\n",
      "Epoch 6/20\n",
      "2/2 [==============================] - 0s 20ms/step - loss: 0.0521\n",
      "Epoch 7/20\n",
      "2/2 [==============================] - 0s 20ms/step - loss: 0.0429\n",
      "Epoch 8/20\n",
      "2/2 [==============================] - 0s 17ms/step - loss: 0.0577\n",
      "Epoch 9/20\n",
      "2/2 [==============================] - 0s 17ms/step - loss: 0.0631\n",
      "Epoch 10/20\n",
      "2/2 [==============================] - 0s 21ms/step - loss: 0.0554\n",
      "Epoch 11/20\n",
      "2/2 [==============================] - 0s 20ms/step - loss: 0.0490\n",
      "Epoch 12/20\n",
      "2/2 [==============================] - 0s 16ms/step - loss: 0.0397\n",
      "Epoch 13/20\n",
      "2/2 [==============================] - 0s 16ms/step - loss: 0.0433\n",
      "Epoch 14/20\n",
      "2/2 [==============================] - 0s 20ms/step - loss: 0.0474\n",
      "Epoch 15/20\n",
      "2/2 [==============================] - 0s 23ms/step - loss: 0.0512\n",
      "Epoch 16/20\n",
      "2/2 [==============================] - 0s 18ms/step - loss: 0.0454\n",
      "Epoch 17/20\n",
      "2/2 [==============================] - 0s 16ms/step - loss: 0.0469\n",
      "Epoch 18/20\n",
      "2/2 [==============================] - 0s 18ms/step - loss: 0.0446\n",
      "Epoch 19/20\n",
      "2/2 [==============================] - 0s 20ms/step - loss: 0.0407\n",
      "Epoch 20/20\n",
      "2/2 [==============================] - 0s 19ms/step - loss: 0.0428\n"
     ]
    },
    {
     "data": {
      "text/plain": [
       "<tensorflow.python.keras.callbacks.History at 0x7f9f34f796d0>"
      ]
     },
     "execution_count": 85,
     "metadata": {},
     "output_type": "execute_result"
    }
   ],
   "source": [
    "# Train the model\n",
    "model.fit(X_train, y_train, epochs=20, shuffle=False, batch_size=50, verbose=1)"
   ]
  },
  {
   "cell_type": "code",
   "execution_count": 86,
   "id": "32d37475-a1ae-4290-abe2-80179cad9732",
   "metadata": {},
   "outputs": [
    {
     "data": {
      "text/plain": [
       "0.01962965354323387"
      ]
     },
     "execution_count": 86,
     "metadata": {},
     "output_type": "execute_result"
    }
   ],
   "source": [
    "# Evaluate the model\n",
    "model.evaluate(X_test, y_test, verbose=0)"
   ]
  },
  {
   "cell_type": "code",
   "execution_count": 87,
   "id": "b041af40-cbeb-476e-9260-d531835a4b4d",
   "metadata": {},
   "outputs": [],
   "source": [
    "# Make predictions using the testing data X_test\n",
    "predicted = model.predict(X_test)"
   ]
  },
  {
   "cell_type": "code",
   "execution_count": 88,
   "id": "232dd553-e317-46e5-80cc-5de7ac013a2d",
   "metadata": {},
   "outputs": [],
   "source": [
    "# Recover the original prices instead of the scaled version\n",
    "predicted_prices = scaler.inverse_transform(predicted)\n",
    "real_prices = scaler.inverse_transform(y_test.reshape(-1, 1))"
   ]
  },
  {
   "cell_type": "code",
   "execution_count": 89,
   "id": "d16aee12-e842-4636-af2b-a2286b26a256",
   "metadata": {},
   "outputs": [
    {
     "data": {
      "text/html": [
       "<div>\n",
       "<style scoped>\n",
       "    .dataframe tbody tr th:only-of-type {\n",
       "        vertical-align: middle;\n",
       "    }\n",
       "\n",
       "    .dataframe tbody tr th {\n",
       "        vertical-align: top;\n",
       "    }\n",
       "\n",
       "    .dataframe thead th {\n",
       "        text-align: right;\n",
       "    }\n",
       "</style>\n",
       "<table border=\"1\" class=\"dataframe\">\n",
       "  <thead>\n",
       "    <tr style=\"text-align: right;\">\n",
       "      <th></th>\n",
       "      <th>Actual</th>\n",
       "      <th>Predicted</th>\n",
       "    </tr>\n",
       "  </thead>\n",
       "  <tbody>\n",
       "    <tr>\n",
       "      <th>2021-06-02</th>\n",
       "      <td>0.006276</td>\n",
       "      <td>-0.002678</td>\n",
       "    </tr>\n",
       "    <tr>\n",
       "      <th>2021-06-03</th>\n",
       "      <td>-0.012154</td>\n",
       "      <td>-0.005360</td>\n",
       "    </tr>\n",
       "    <tr>\n",
       "      <th>2021-06-04</th>\n",
       "      <td>0.019022</td>\n",
       "      <td>-0.007509</td>\n",
       "    </tr>\n",
       "    <tr>\n",
       "      <th>2021-06-07</th>\n",
       "      <td>0.000079</td>\n",
       "      <td>-0.008495</td>\n",
       "    </tr>\n",
       "    <tr>\n",
       "      <th>2021-06-08</th>\n",
       "      <td>0.006672</td>\n",
       "      <td>-0.007951</td>\n",
       "    </tr>\n",
       "    <tr>\n",
       "      <th>2021-06-09</th>\n",
       "      <td>0.003077</td>\n",
       "      <td>-0.005917</td>\n",
       "    </tr>\n",
       "    <tr>\n",
       "      <th>2021-06-10</th>\n",
       "      <td>-0.008023</td>\n",
       "      <td>-0.004291</td>\n",
       "    </tr>\n",
       "    <tr>\n",
       "      <th>2021-06-11</th>\n",
       "      <td>0.009833</td>\n",
       "      <td>-0.003191</td>\n",
       "    </tr>\n",
       "    <tr>\n",
       "      <th>2021-06-14</th>\n",
       "      <td>0.024578</td>\n",
       "      <td>-0.002865</td>\n",
       "    </tr>\n",
       "    <tr>\n",
       "      <th>2021-06-15</th>\n",
       "      <td>-0.006438</td>\n",
       "      <td>-0.001910</td>\n",
       "    </tr>\n",
       "    <tr>\n",
       "      <th>2021-06-16</th>\n",
       "      <td>0.003934</td>\n",
       "      <td>-0.000301</td>\n",
       "    </tr>\n",
       "    <tr>\n",
       "      <th>2021-06-17</th>\n",
       "      <td>0.012601</td>\n",
       "      <td>0.001055</td>\n",
       "    </tr>\n",
       "    <tr>\n",
       "      <th>2021-06-18</th>\n",
       "      <td>-0.010092</td>\n",
       "      <td>0.002171</td>\n",
       "    </tr>\n",
       "    <tr>\n",
       "      <th>2021-06-21</th>\n",
       "      <td>0.014104</td>\n",
       "      <td>0.003666</td>\n",
       "    </tr>\n",
       "    <tr>\n",
       "      <th>2021-06-22</th>\n",
       "      <td>0.012698</td>\n",
       "      <td>0.003843</td>\n",
       "    </tr>\n",
       "    <tr>\n",
       "      <th>2021-06-23</th>\n",
       "      <td>-0.002090</td>\n",
       "      <td>0.003950</td>\n",
       "    </tr>\n",
       "    <tr>\n",
       "      <th>2021-06-24</th>\n",
       "      <td>-0.002169</td>\n",
       "      <td>0.003699</td>\n",
       "    </tr>\n",
       "    <tr>\n",
       "      <th>2021-06-25</th>\n",
       "      <td>-0.002249</td>\n",
       "      <td>0.003261</td>\n",
       "    </tr>\n",
       "    <tr>\n",
       "      <th>2021-06-28</th>\n",
       "      <td>0.012546</td>\n",
       "      <td>0.003092</td>\n",
       "    </tr>\n",
       "    <tr>\n",
       "      <th>2021-06-29</th>\n",
       "      <td>0.011500</td>\n",
       "      <td>0.003492</td>\n",
       "    </tr>\n",
       "  </tbody>\n",
       "</table>\n",
       "</div>"
      ],
      "text/plain": [
       "              Actual  Predicted\n",
       "2021-06-02  0.006276  -0.002678\n",
       "2021-06-03 -0.012154  -0.005360\n",
       "2021-06-04  0.019022  -0.007509\n",
       "2021-06-07  0.000079  -0.008495\n",
       "2021-06-08  0.006672  -0.007951\n",
       "2021-06-09  0.003077  -0.005917\n",
       "2021-06-10 -0.008023  -0.004291\n",
       "2021-06-11  0.009833  -0.003191\n",
       "2021-06-14  0.024578  -0.002865\n",
       "2021-06-15 -0.006438  -0.001910\n",
       "2021-06-16  0.003934  -0.000301\n",
       "2021-06-17  0.012601   0.001055\n",
       "2021-06-18 -0.010092   0.002171\n",
       "2021-06-21  0.014104   0.003666\n",
       "2021-06-22  0.012698   0.003843\n",
       "2021-06-23 -0.002090   0.003950\n",
       "2021-06-24 -0.002169   0.003699\n",
       "2021-06-25 -0.002249   0.003261\n",
       "2021-06-28  0.012546   0.003092\n",
       "2021-06-29  0.011500   0.003492"
      ]
     },
     "execution_count": 89,
     "metadata": {},
     "output_type": "execute_result"
    }
   ],
   "source": [
    "# Create a DataFrame of Real and Predicted values\n",
    "aapl_daily_returns_df = pd.DataFrame({\n",
    "    \"Actual\": real_prices.ravel(),\n",
    "    \"Predicted\": predicted_prices.ravel()\n",
    "}, index = new_df.index[-len(real_prices): ]) \n",
    "\n",
    "# Show the DataFrame's head\n",
    "aapl_daily_returns_df.head(20)"
   ]
  },
  {
   "cell_type": "code",
   "execution_count": 90,
   "id": "d88dc993-06ae-474e-9185-10d0691ec241",
   "metadata": {},
   "outputs": [
    {
     "data": {
      "text/plain": [
       "<AxesSubplot:title={'center':'Actual Vs. Predicted Daily Return Percent'}>"
      ]
     },
     "execution_count": 90,
     "metadata": {},
     "output_type": "execute_result"
    },
    {
     "data": {
      "image/png": "[encoded data removed]",
      "text/plain": [
       "<Figure size 432x288 with 1 Axes>"
      ]
     },
     "metadata": {
      "needs_background": "light"
     },
     "output_type": "display_data"
    }
   ],
   "source": [
    "# Plot the real vs predicted prices as a line chart\n",
    "aapl_daily_returns_df.plot(title=\"Actual Vs. Predicted Daily Return Percent\")"
   ]
  },
  {
   "cell_type": "code",
   "execution_count": null,
   "id": "937d9121-2559-4c6f-81e6-e7764703e7f6",
   "metadata": {},
   "outputs": [],
   "source": []
  },
  {
   "cell_type": "code",
   "execution_count": null,
   "id": "40656279-089c-4697-91bf-95fc451a41eb",
   "metadata": {},
   "outputs": [],
   "source": []
  }
 ],
 "metadata": {
  "kernelspec": {
   "display_name": "ML2 env",
   "language": "python",
   "name": "ml2"
  },
  "language_info": {
   "codemirror_mode": {
    "name": "ipython",
    "version": 3
   },
   "file_extension": ".py",
   "mimetype": "text/x-python",
   "name": "python",
   "nbconvert_exporter": "python",
   "pygments_lexer": "ipython3",
   "version": "3.9.4"
  }
 },
 "nbformat": 4,
 "nbformat_minor": 5
}
