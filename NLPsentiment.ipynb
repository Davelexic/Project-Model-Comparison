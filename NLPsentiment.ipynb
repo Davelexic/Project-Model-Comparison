{
 "cells": [
  {
   "cell_type": "code",
   "execution_count": 1,
   "metadata": {},
   "outputs": [
    {
     "name": "stderr",
     "output_type": "stream",
     "text": [
      "[nltk_data] Downloading package vader_lexicon to\n",
      "[nltk_data]     /Users/gerardoespinoza/nltk_data...\n",
      "[nltk_data]   Package vader_lexicon is already up-to-date!\n"
     ]
    }
   ],
   "source": [
    "# Initial imports\n",
    "import os\n",
    "import pandas as pd\n",
    "from dotenv import load_dotenv\n",
    "import nltk as nltk\n",
    "nltk.download('vader_lexicon')\n",
    "from nltk.sentiment.vader import SentimentIntensityAnalyzer\n",
    "analyzer = SentimentIntensityAnalyzer()\n",
    "#load_dotenv()\n",
    "#import datetime\n",
    "%matplotlib inline\n",
    "# Initial imports\n",
    "#import pandas as pd\n",
    "import numpy as np\n",
    "from pathlib import Path\n",
    "import tensorflow as tf\n",
    "\n",
    "%matplotlib inline"
   ]
  },
  {
   "cell_type": "code",
   "execution_count": 2,
   "metadata": {},
   "outputs": [
    {
     "data": {
      "text/plain": [
       "True"
      ]
     },
     "execution_count": 2,
     "metadata": {},
     "output_type": "execute_result"
    }
   ],
   "source": [
    "load_dotenv()"
   ]
  },
  {
   "cell_type": "code",
   "execution_count": 3,
   "metadata": {},
   "outputs": [],
   "source": [
    "# Api key environment variable\n",
    "api_key = os.getenv(\"news_api\")"
   ]
  },
  {
   "cell_type": "code",
   "execution_count": 4,
   "metadata": {},
   "outputs": [
    {
     "name": "stdout",
     "output_type": "stream",
     "text": [
      "None\n"
     ]
    }
   ],
   "source": [
    "print(api_key)"
   ]
  },
  {
   "cell_type": "code",
   "execution_count": 5,
   "metadata": {},
   "outputs": [],
   "source": [
    "# Create a newsapi client\n",
    "from newsapi import NewsApiClient\n",
    "newsapi = NewsApiClient(api_key='5a7fd3d96ac4436b8ebec923eec78f72')"
   ]
  },
  {
   "cell_type": "code",
   "execution_count": 6,
   "metadata": {},
   "outputs": [],
   "source": [
    "all_articles = newsapi.get_everything(q='AAPL',\n",
    "                                      from_param='2021-07-28',\n",
    "                                      to='2021-01-01',\n",
    "                                      language='en',\n",
    "                                      )\n"
   ]
  },
  {
   "cell_type": "code",
   "execution_count": 7,
   "metadata": {},
   "outputs": [
    {
     "data": {
      "text/plain": [
       "'Apple Inc. (AAPL) stock has been trading in a rectangle trading range over the past several weeks forming a resistance line and level of support. At s...'"
      ]
     },
     "execution_count": 7,
     "metadata": {},
     "output_type": "execute_result"
    }
   ],
   "source": [
    "all_articles['articles'][0]['description']"
   ]
  },
  {
   "cell_type": "code",
   "execution_count": 8,
   "metadata": {},
   "outputs": [],
   "source": [
    "stocks_sentiments = []\n",
    "source =  []\n",
    "for article in all_articles[\"articles\"]:\n",
    "    try:\n",
    "        text= article[\"content\"]\n",
    "        date = article[\"publishedAt\"]\n",
    "        source.append(article['source']['name'])\n",
    "        sentiment = analyzer.polarity_scores(text)\n",
    "        compound = sentiment[\"compound\"]\n",
    "        pos = sentiment[\"pos\"]\n",
    "        neu = sentiment[\"neu\"]\n",
    "        neg = sentiment[\"neg\"]\n",
    "        \n",
    "        stocks_sentiments.append({\n",
    "            \"text\": text,\n",
    "            \"date\": date,\n",
    "            \"compound\": compound,\n",
    "            \"positive\": pos,\n",
    "            \"negative\": neg,\n",
    "            \"neutral\": neu\n",
    "            \n",
    "        })\n",
    "    except AttributeError:\n",
    "        pass\n",
    "    "
   ]
  },
  {
   "cell_type": "code",
   "execution_count": 9,
   "metadata": {},
   "outputs": [],
   "source": [
    "df = pd.DataFrame(stocks_sentiments)\n",
    "df = df.set_index('date')\n",
    "df = df.sort_values(by='date')\n",
    "df['source'] = source\n",
    "#df"
   ]
  },
  {
   "cell_type": "code",
   "execution_count": 10,
   "metadata": {},
   "outputs": [],
   "source": [
    "sp500 = newsapi.get_everything(q = 'sp500',\n",
    "                      language = 'en')"
   ]
  },
  {
   "cell_type": "code",
   "execution_count": 11,
   "metadata": {},
   "outputs": [],
   "source": [
    "sp500_sentiments = []\n",
    "\n",
    "for article in sp500[\"articles\"]:\n",
    "    try:\n",
    "        text= article[\"content\"]\n",
    "        date = article[\"publishedAt\"]\n",
    "        sentiment = analyzer.polarity_scores(text)\n",
    "        compound = sentiment[\"compound\"]\n",
    "        pos = sentiment[\"pos\"]\n",
    "        neu = sentiment[\"neu\"]\n",
    "        neg = sentiment[\"neg\"]\n",
    "        \n",
    "        sp500_sentiments.append({\n",
    "            \"text\": text,\n",
    "            \"date\": date,\n",
    "            \"compound\": compound,\n",
    "            \"positive\": pos,\n",
    "            \"negative\": neg,\n",
    "            \"neutral\": neu\n",
    "            \n",
    "        })\n",
    "    except AttributeError:\n",
    "        pass\n",
    "    "
   ]
  },
  {
   "cell_type": "code",
   "execution_count": 12,
   "metadata": {},
   "outputs": [],
   "source": [
    "sp500_df = pd.DataFrame(sp500_sentiments)"
   ]
  },
  {
   "cell_type": "code",
   "execution_count": 13,
   "metadata": {},
   "outputs": [],
   "source": [
    "sp500_df = sp500_df.sort_values(by = 'date')\n",
    "sp500_df = sp500_df.set_index('date')\n",
    "#sp500_df"
   ]
  },
  {
   "cell_type": "code",
   "execution_count": 14,
   "metadata": {},
   "outputs": [],
   "source": [
    "all_articles2 = newsapi.get_everything(q='AAPL',\n",
    "                                      from_param='2021-07-28',\n",
    "                                      to='2021-01-01',\n",
    "                                      language='en',\n",
    "                                       page=2\n",
    "                                      )"
   ]
  },
  {
   "cell_type": "code",
   "execution_count": 15,
   "metadata": {},
   "outputs": [],
   "source": [
    "stocks_sentiments = []\n",
    "source = []\n",
    "for article in all_articles2[\"articles\"]:\n",
    "    try:\n",
    "        text= article[\"content\"]\n",
    "        date = article[\"publishedAt\"]\n",
    "        source .append(article['source']['name'])\n",
    "        sentiment = analyzer.polarity_scores(text)\n",
    "        compound = sentiment[\"compound\"]\n",
    "        pos = sentiment[\"pos\"]\n",
    "        neu = sentiment[\"neu\"]\n",
    "        neg = sentiment[\"neg\"]\n",
    "        \n",
    "        stocks_sentiments.append({\n",
    "            \"text\": text,\n",
    "            \"date\": date,\n",
    "            \"compound\": compound,\n",
    "            \"positive\": pos,\n",
    "            \"negative\": neg,\n",
    "            \"neutral\": neu\n",
    "            \n",
    "        })\n",
    "    except AttributeError:\n",
    "        pass"
   ]
  },
  {
   "cell_type": "code",
   "execution_count": 16,
   "metadata": {},
   "outputs": [],
   "source": [
    "AAPL2_df = pd.DataFrame(stocks_sentiments)"
   ]
  },
  {
   "cell_type": "code",
   "execution_count": 17,
   "metadata": {},
   "outputs": [],
   "source": [
    "AAPL2_DF = AAPL2_df.sort_values('date')\n",
    "AAPL2_DF = AAPL2_DF.set_index('date')"
   ]
  },
  {
   "cell_type": "code",
   "execution_count": 18,
   "metadata": {},
   "outputs": [],
   "source": [
    "apple_df = pd.concat([df,AAPL2_DF])"
   ]
  },
  {
   "cell_type": "code",
   "execution_count": 19,
   "metadata": {},
   "outputs": [],
   "source": [
    "apple_df = apple_df.sort_index()"
   ]
  },
  {
   "cell_type": "code",
   "execution_count": 20,
   "metadata": {},
   "outputs": [],
   "source": [
    "#all_articles['articles'][0]"
   ]
  },
  {
   "cell_type": "code",
   "execution_count": 21,
   "metadata": {},
   "outputs": [],
   "source": [
    "AAPL2_DF['source']= source"
   ]
  },
  {
   "cell_type": "code",
   "execution_count": 22,
   "metadata": {},
   "outputs": [],
   "source": [
    "#AAPL2_DF"
   ]
  },
  {
   "cell_type": "code",
   "execution_count": 23,
   "metadata": {},
   "outputs": [],
   "source": [
    "#apple_df"
   ]
  },
  {
   "cell_type": "code",
   "execution_count": 24,
   "metadata": {},
   "outputs": [],
   "source": [
    "apple_df = pd.concat([df,AAPL2_DF])"
   ]
  },
  {
   "cell_type": "code",
   "execution_count": 25,
   "metadata": {},
   "outputs": [],
   "source": [
    "apple_df = apple_df.sort_index()"
   ]
  },
  {
   "cell_type": "code",
   "execution_count": 26,
   "metadata": {},
   "outputs": [],
   "source": [
    "#apple_df"
   ]
  },
  {
   "cell_type": "code",
   "execution_count": 27,
   "metadata": {},
   "outputs": [],
   "source": [
    "all_articles3 = newsapi.get_everything(q='AAPL',\n",
    "                                      from_param='2021-07-28',\n",
    "                                      to='2021-01-01',\n",
    "                                      language='en',\n",
    "                                       page=3\n",
    "                                      )"
   ]
  },
  {
   "cell_type": "code",
   "execution_count": 28,
   "metadata": {},
   "outputs": [],
   "source": [
    "stocks_sentiments = []\n",
    "source = []\n",
    "for article in all_articles3[\"articles\"]:\n",
    "    try:\n",
    "        text= article[\"content\"]\n",
    "        date = article[\"publishedAt\"]\n",
    "        source .append(article['source']['name'])\n",
    "        sentiment = analyzer.polarity_scores(text)\n",
    "        compound = sentiment[\"compound\"]\n",
    "        pos = sentiment[\"pos\"]\n",
    "        neu = sentiment[\"neu\"]\n",
    "        neg = sentiment[\"neg\"]\n",
    "        \n",
    "        stocks_sentiments.append({\n",
    "            \"text\": text,\n",
    "            \"date\": date,\n",
    "            \"compound\": compound,\n",
    "            \"positive\": pos,\n",
    "            \"negative\": neg,\n",
    "            \"neutral\": neu\n",
    "            \n",
    "        })\n",
    "    except AttributeError:\n",
    "        pass"
   ]
  },
  {
   "cell_type": "code",
   "execution_count": 29,
   "metadata": {},
   "outputs": [],
   "source": [
    "df3 = pd.DataFrame(stocks_sentiments)"
   ]
  },
  {
   "cell_type": "code",
   "execution_count": 30,
   "metadata": {},
   "outputs": [],
   "source": [
    "df3 = df3.set_index('date').sort_index()\n",
    "df3['source'] = source"
   ]
  },
  {
   "cell_type": "code",
   "execution_count": 31,
   "metadata": {},
   "outputs": [],
   "source": [
    "#df3"
   ]
  },
  {
   "cell_type": "code",
   "execution_count": 32,
   "metadata": {},
   "outputs": [],
   "source": [
    "main_df = pd.concat([apple_df, df3]).sort_index()"
   ]
  },
  {
   "cell_type": "code",
   "execution_count": 33,
   "metadata": {},
   "outputs": [],
   "source": [
    "#main_df"
   ]
  },
  {
   "cell_type": "code",
   "execution_count": 34,
   "metadata": {},
   "outputs": [],
   "source": [
    "all_articles4 = newsapi.get_everything(q='AAPL',\n",
    "                                      from_param='2021-07-28',\n",
    "                                      to='2021-01-01',\n",
    "                                      language='en',\n",
    "                                       page=4\n",
    "                                      )"
   ]
  },
  {
   "cell_type": "code",
   "execution_count": 35,
   "metadata": {},
   "outputs": [],
   "source": [
    "stocks_sentiments = []\n",
    "source = []\n",
    "for article in all_articles4[\"articles\"]:\n",
    "    try:\n",
    "        text= article[\"content\"]\n",
    "        date = article[\"publishedAt\"]\n",
    "        source .append(article['source']['name'])\n",
    "        sentiment = analyzer.polarity_scores(text)\n",
    "        compound = sentiment[\"compound\"]\n",
    "        pos = sentiment[\"pos\"]\n",
    "        neu = sentiment[\"neu\"]\n",
    "        neg = sentiment[\"neg\"]\n",
    "        \n",
    "        stocks_sentiments.append({\n",
    "            \"text\": text,\n",
    "            \"date\": date,\n",
    "            \"compound\": compound,\n",
    "            \"positive\": pos,\n",
    "            \"negative\": neg,\n",
    "            \"neutral\": neu\n",
    "            \n",
    "        })\n",
    "    except AttributeError:\n",
    "        pass"
   ]
  },
  {
   "cell_type": "code",
   "execution_count": 36,
   "metadata": {},
   "outputs": [],
   "source": [
    "df4 = pd.DataFrame(stocks_sentiments).set_index('date').sort_index()"
   ]
  },
  {
   "cell_type": "code",
   "execution_count": 37,
   "metadata": {},
   "outputs": [],
   "source": [
    "df4['source'] =source"
   ]
  },
  {
   "cell_type": "code",
   "execution_count": 38,
   "metadata": {},
   "outputs": [],
   "source": [
    "main_df = pd.concat([main_df, df4]).sort_index()"
   ]
  },
  {
   "cell_type": "code",
   "execution_count": 39,
   "metadata": {},
   "outputs": [],
   "source": [
    "#main_df"
   ]
  },
  {
   "cell_type": "code",
   "execution_count": 40,
   "metadata": {},
   "outputs": [],
   "source": [
    "#main_df"
   ]
  },
  {
   "cell_type": "code",
   "execution_count": 41,
   "metadata": {},
   "outputs": [],
   "source": [
    "all_articles5 = newsapi.get_everything(q='AAPL',\n",
    "                                      from_param='2021-07-28',\n",
    "                                      to='2021-01-01',\n",
    "                                      language='en',\n",
    "                                       page=5\n",
    "                                      )"
   ]
  },
  {
   "cell_type": "code",
   "execution_count": 42,
   "metadata": {},
   "outputs": [],
   "source": [
    "stocks_sentiments = []\n",
    "source = []\n",
    "for article in all_articles5[\"articles\"]:\n",
    "    try:\n",
    "        text= article[\"content\"]\n",
    "        date = article[\"publishedAt\"]\n",
    "        source .append(article['source']['name'])\n",
    "        sentiment = analyzer.polarity_scores(text)\n",
    "        compound = sentiment[\"compound\"]\n",
    "        pos = sentiment[\"pos\"]\n",
    "        neu = sentiment[\"neu\"]\n",
    "        neg = sentiment[\"neg\"]\n",
    "        \n",
    "        stocks_sentiments.append({\n",
    "            \"text\": text,\n",
    "            \"date\": date,\n",
    "            \"compound\": compound,\n",
    "            \"positive\": pos,\n",
    "            \"negative\": neg,\n",
    "            \"neutral\": neu\n",
    "            \n",
    "        })\n",
    "    except AttributeError:\n",
    "        pass"
   ]
  },
  {
   "cell_type": "code",
   "execution_count": 43,
   "metadata": {},
   "outputs": [],
   "source": [
    "df5 = pd.DataFrame(stocks_sentiments).set_index('date').sort_index()"
   ]
  },
  {
   "cell_type": "code",
   "execution_count": 44,
   "metadata": {},
   "outputs": [],
   "source": [
    "df5['source']= source"
   ]
  },
  {
   "cell_type": "code",
   "execution_count": 45,
   "metadata": {},
   "outputs": [],
   "source": [
    "main_df = pd.concat([main_df, df5]).sort_index()"
   ]
  },
  {
   "cell_type": "code",
   "execution_count": 46,
   "metadata": {},
   "outputs": [],
   "source": [
    "#main_df"
   ]
  },
  {
   "cell_type": "code",
   "execution_count": 47,
   "metadata": {},
   "outputs": [],
   "source": [
    "main_df.index=pd.to_datetime(main_df.index)"
   ]
  },
  {
   "cell_type": "code",
   "execution_count": 48,
   "metadata": {},
   "outputs": [],
   "source": [
    "weekly_sentiment = main_df.resample('W')['compound'].mean()"
   ]
  },
  {
   "cell_type": "code",
   "execution_count": 49,
   "metadata": {},
   "outputs": [],
   "source": [
    "weekly_sentiment_df = pd.DataFrame(weekly_sentiment)"
   ]
  },
  {
   "cell_type": "code",
   "execution_count": 50,
   "metadata": {},
   "outputs": [],
   "source": [
    "#weekly_sentiment_df"
   ]
  },
  {
   "cell_type": "code",
   "execution_count": 51,
   "metadata": {},
   "outputs": [],
   "source": [
    "num_articles_weekly = main_df.resample('W')['text'].count()"
   ]
  },
  {
   "cell_type": "code",
   "execution_count": 52,
   "metadata": {},
   "outputs": [],
   "source": [
    "articles_weekly_df = pd.DataFrame(num_articles_weekly)"
   ]
  },
  {
   "cell_type": "code",
   "execution_count": 53,
   "metadata": {},
   "outputs": [],
   "source": [
    "weekly_sentiment = pd.concat([weekly_sentiment_df, articles_weekly_df], axis=1)"
   ]
  },
  {
   "cell_type": "code",
   "execution_count": 54,
   "metadata": {},
   "outputs": [],
   "source": [
    "weekly_sentiment_AAPL_df = weekly_sentiment.rename(columns={'text': 'articles'})"
   ]
  },
  {
   "cell_type": "code",
   "execution_count": 55,
   "metadata": {},
   "outputs": [],
   "source": [
    "#all_articles6 = newsapi.get_everything(q='AAPL',\n",
    "                                      #from_param='2020-07-06',\n",
    "                                      #to='2021-07-06',\n",
    "                                      #language='en',\n",
    "                                       #page = 1\n",
    "                                      #)\n",
    "#all_articles6"
   ]
  },
  {
   "cell_type": "code",
   "execution_count": 56,
   "metadata": {},
   "outputs": [],
   "source": [
    "# each_page = []\n",
    "#tsla_results = []\n",
    "# response = \n",
    "#for each_page in range(1, 6):\n",
    "    #result=newsapi.get_everything(q='TSLA', \n",
    "                                 # from_param='2021-07-06', \n",
    "                                  #to='2020-07-06',\n",
    "                                  #language='en', \n",
    "                                  #page = each_page\n",
    "                                 #)\n",
    "    #tsla_results.append(result)\n"
   ]
  },
  {
   "cell_type": "code",
   "execution_count": 57,
   "metadata": {},
   "outputs": [],
   "source": [
    "#weekly_sentiment_AAPL_df"
   ]
  },
  {
   "cell_type": "code",
   "execution_count": 58,
   "metadata": {},
   "outputs": [],
   "source": [
    "#main_df"
   ]
  },
  {
   "cell_type": "code",
   "execution_count": 59,
   "metadata": {},
   "outputs": [],
   "source": [
    "\n",
    "score = main_df['compound'] \n",
    " \n",
    "    "
   ]
  },
  {
   "cell_type": "code",
   "execution_count": 60,
   "metadata": {},
   "outputs": [],
   "source": [
    "sentiment = []\n",
    "\n",
    "for x in score:\n",
    "    if x >= 0.05:\n",
    "        sentiment.append(1)\n",
    "    else:\n",
    "        sentiment.append(0)"
   ]
  },
  {
   "cell_type": "code",
   "execution_count": 61,
   "metadata": {},
   "outputs": [],
   "source": [
    "main_df['sentiment'] = sentiment"
   ]
  },
  {
   "cell_type": "code",
   "execution_count": 62,
   "metadata": {},
   "outputs": [],
   "source": [
    "main_df = main_df.reset_index()"
   ]
  },
  {
   "cell_type": "code",
   "execution_count": 63,
   "metadata": {},
   "outputs": [
    {
     "data": {
      "text/html": [
       "<div>\n",
       "<style scoped>\n",
       "    .dataframe tbody tr th:only-of-type {\n",
       "        vertical-align: middle;\n",
       "    }\n",
       "\n",
       "    .dataframe tbody tr th {\n",
       "        vertical-align: top;\n",
       "    }\n",
       "\n",
       "    .dataframe thead th {\n",
       "        text-align: right;\n",
       "    }\n",
       "</style>\n",
       "<table border=\"1\" class=\"dataframe\">\n",
       "  <thead>\n",
       "    <tr style=\"text-align: right;\">\n",
       "      <th></th>\n",
       "      <th>date</th>\n",
       "      <th>text</th>\n",
       "      <th>compound</th>\n",
       "      <th>positive</th>\n",
       "      <th>negative</th>\n",
       "      <th>neutral</th>\n",
       "      <th>source</th>\n",
       "      <th>sentiment</th>\n",
       "    </tr>\n",
       "  </thead>\n",
       "  <tbody>\n",
       "    <tr>\n",
       "      <th>0</th>\n",
       "      <td>2021-01-05 21:23:16+00:00</td>\n",
       "      <td>An accountant representing Dr. Dre's estranged...</td>\n",
       "      <td>-0.3612</td>\n",
       "      <td>0.041</td>\n",
       "      <td>0.110</td>\n",
       "      <td>0.849</td>\n",
       "      <td>StockNews.com</td>\n",
       "      <td>0</td>\n",
       "    </tr>\n",
       "    <tr>\n",
       "      <th>1</th>\n",
       "      <td>2021-01-06 01:31:49+00:00</td>\n",
       "      <td>Apple CEO Tim Cook's compensation increased by...</td>\n",
       "      <td>0.2732</td>\n",
       "      <td>0.062</td>\n",
       "      <td>0.000</td>\n",
       "      <td>0.938</td>\n",
       "      <td>Business Insider</td>\n",
       "      <td>1</td>\n",
       "    </tr>\n",
       "    <tr>\n",
       "      <th>2</th>\n",
       "      <td>2021-01-06 16:22:40+00:00</td>\n",
       "      <td>New York (CNN Business)The \"blue wave\" that ma...</td>\n",
       "      <td>0.0000</td>\n",
       "      <td>0.000</td>\n",
       "      <td>0.000</td>\n",
       "      <td>1.000</td>\n",
       "      <td>Business Insider</td>\n",
       "      <td>0</td>\n",
       "    </tr>\n",
       "    <tr>\n",
       "      <th>3</th>\n",
       "      <td>2021-01-06 20:37:22+00:00</td>\n",
       "      <td>January\\r\\n6, 2021\\r\\n5 min read\\r\\nThis story...</td>\n",
       "      <td>0.5106</td>\n",
       "      <td>0.102</td>\n",
       "      <td>0.000</td>\n",
       "      <td>0.898</td>\n",
       "      <td>StockNews.com</td>\n",
       "      <td>1</td>\n",
       "    </tr>\n",
       "    <tr>\n",
       "      <th>4</th>\n",
       "      <td>2021-01-09 14:52:00+00:00</td>\n",
       "      <td>In case you missed it, the Apple Car is back. ...</td>\n",
       "      <td>-0.2960</td>\n",
       "      <td>0.000</td>\n",
       "      <td>0.055</td>\n",
       "      <td>0.945</td>\n",
       "      <td>Benzinga</td>\n",
       "      <td>0</td>\n",
       "    </tr>\n",
       "    <tr>\n",
       "      <th>...</th>\n",
       "      <td>...</td>\n",
       "      <td>...</td>\n",
       "      <td>...</td>\n",
       "      <td>...</td>\n",
       "      <td>...</td>\n",
       "      <td>...</td>\n",
       "      <td>...</td>\n",
       "      <td>...</td>\n",
       "    </tr>\n",
       "    <tr>\n",
       "      <th>95</th>\n",
       "      <td>2021-07-27 14:19:10+00:00</td>\n",
       "      <td>An analyst has suggested that antitrust issues...</td>\n",
       "      <td>-0.5106</td>\n",
       "      <td>0.031</td>\n",
       "      <td>0.096</td>\n",
       "      <td>0.873</td>\n",
       "      <td>Benzinga</td>\n",
       "      <td>0</td>\n",
       "    </tr>\n",
       "    <tr>\n",
       "      <th>96</th>\n",
       "      <td>2021-07-27 20:34:00+00:00</td>\n",
       "      <td>Apple (AAPL) has officially reported its earni...</td>\n",
       "      <td>0.0000</td>\n",
       "      <td>0.000</td>\n",
       "      <td>0.000</td>\n",
       "      <td>1.000</td>\n",
       "      <td>9to5Mac</td>\n",
       "      <td>0</td>\n",
       "    </tr>\n",
       "    <tr>\n",
       "      <th>97</th>\n",
       "      <td>2021-07-27 20:34:26+00:00</td>\n",
       "      <td>Information on these pages contains forward-lo...</td>\n",
       "      <td>-0.5423</td>\n",
       "      <td>0.000</td>\n",
       "      <td>0.138</td>\n",
       "      <td>0.862</td>\n",
       "      <td>Business Insider</td>\n",
       "      <td>0</td>\n",
       "    </tr>\n",
       "    <tr>\n",
       "      <th>98</th>\n",
       "      <td>2021-07-28 11:21:26+00:00</td>\n",
       "      <td>Yesterday saw record AAPL Q3 earnings, dramati...</td>\n",
       "      <td>0.1779</td>\n",
       "      <td>0.104</td>\n",
       "      <td>0.084</td>\n",
       "      <td>0.812</td>\n",
       "      <td>9to5Mac</td>\n",
       "      <td>1</td>\n",
       "    </tr>\n",
       "    <tr>\n",
       "      <th>99</th>\n",
       "      <td>2021-07-28 13:12:42+00:00</td>\n",
       "      <td>Listen to a recap of the top stories of the da...</td>\n",
       "      <td>0.7351</td>\n",
       "      <td>0.179</td>\n",
       "      <td>0.000</td>\n",
       "      <td>0.821</td>\n",
       "      <td>AppleInsider</td>\n",
       "      <td>1</td>\n",
       "    </tr>\n",
       "  </tbody>\n",
       "</table>\n",
       "<p>100 rows × 8 columns</p>\n",
       "</div>"
      ],
      "text/plain": [
       "                        date  \\\n",
       "0  2021-01-05 21:23:16+00:00   \n",
       "1  2021-01-06 01:31:49+00:00   \n",
       "2  2021-01-06 16:22:40+00:00   \n",
       "3  2021-01-06 20:37:22+00:00   \n",
       "4  2021-01-09 14:52:00+00:00   \n",
       "..                       ...   \n",
       "95 2021-07-27 14:19:10+00:00   \n",
       "96 2021-07-27 20:34:00+00:00   \n",
       "97 2021-07-27 20:34:26+00:00   \n",
       "98 2021-07-28 11:21:26+00:00   \n",
       "99 2021-07-28 13:12:42+00:00   \n",
       "\n",
       "                                                 text  compound  positive  \\\n",
       "0   An accountant representing Dr. Dre's estranged...   -0.3612     0.041   \n",
       "1   Apple CEO Tim Cook's compensation increased by...    0.2732     0.062   \n",
       "2   New York (CNN Business)The \"blue wave\" that ma...    0.0000     0.000   \n",
       "3   January\\r\\n6, 2021\\r\\n5 min read\\r\\nThis story...    0.5106     0.102   \n",
       "4   In case you missed it, the Apple Car is back. ...   -0.2960     0.000   \n",
       "..                                                ...       ...       ...   \n",
       "95  An analyst has suggested that antitrust issues...   -0.5106     0.031   \n",
       "96  Apple (AAPL) has officially reported its earni...    0.0000     0.000   \n",
       "97  Information on these pages contains forward-lo...   -0.5423     0.000   \n",
       "98  Yesterday saw record AAPL Q3 earnings, dramati...    0.1779     0.104   \n",
       "99  Listen to a recap of the top stories of the da...    0.7351     0.179   \n",
       "\n",
       "    negative  neutral            source  sentiment  \n",
       "0      0.110    0.849     StockNews.com          0  \n",
       "1      0.000    0.938  Business Insider          1  \n",
       "2      0.000    1.000  Business Insider          0  \n",
       "3      0.000    0.898     StockNews.com          1  \n",
       "4      0.055    0.945          Benzinga          0  \n",
       "..       ...      ...               ...        ...  \n",
       "95     0.096    0.873          Benzinga          0  \n",
       "96     0.000    1.000           9to5Mac          0  \n",
       "97     0.138    0.862  Business Insider          0  \n",
       "98     0.084    0.812           9to5Mac          1  \n",
       "99     0.000    0.821      AppleInsider          1  \n",
       "\n",
       "[100 rows x 8 columns]"
      ]
     },
     "execution_count": 63,
     "metadata": {},
     "output_type": "execute_result"
    }
   ],
   "source": [
    "main_df"
   ]
  },
  {
   "cell_type": "code",
   "execution_count": 64,
   "metadata": {},
   "outputs": [],
   "source": [
    "#main_df['sentiment'].value_counts()"
   ]
  },
  {
   "cell_type": "code",
   "execution_count": 90,
   "metadata": {},
   "outputs": [],
   "source": [
    "# Create the features set (X) and the target vector (y)\n",
    "X = main_df[['text','compound', 'positive', 'negative', 'neutral']]\n",
    "y = main_df['sentiment']"
   ]
  },
  {
   "cell_type": "code",
   "execution_count": 91,
   "metadata": {},
   "outputs": [],
   "source": [
    "# Create the train, test, and validation sets\n",
    "from sklearn.model_selection import train_test_split\n",
    "\n",
    "X_train, X_test, y_train, y_test = train_test_split(X, y)\n",
    "\n",
    "X_train, X_val, y_train, y_val = train_test_split(X_train, y_train)"
   ]
  },
  {
   "cell_type": "code",
   "execution_count": 92,
   "metadata": {},
   "outputs": [],
   "source": [
    "# Import the Tokenizer method from Keras\n",
    "from tensorflow.keras.preprocessing.text import Tokenizer"
   ]
  },
  {
   "cell_type": "code",
   "execution_count": 93,
   "metadata": {},
   "outputs": [],
   "source": [
    "tokenizer = Tokenizer(lower=True)\n",
    "tokenizer.fit_on_texts(X['text'])"
   ]
  },
  {
   "cell_type": "code",
   "execution_count": 94,
   "metadata": {},
   "outputs": [
    {
     "name": "stdout",
     "output_type": "stream",
     "text": [
      "word: 'the', token: 1\n",
      "word: 'chars', token: 2\n",
      "word: 'to', token: 3\n",
      "word: 'a', token: 4\n",
      "word: 'apple', token: 5\n"
     ]
    }
   ],
   "source": [
    "# Print the first five elements of the encoded vocabulary\n",
    "for token in list(tokenizer.word_index)[:5]:\n",
    "    print(f\"word: '{token}', token: {tokenizer.word_index[token]}\")"
   ]
  },
  {
   "cell_type": "code",
   "execution_count": 95,
   "metadata": {},
   "outputs": [],
   "source": [
    "# Transform the text data to numerical sequences\n",
    "X_seq = tokenizer.texts_to_sequences(X['text'])"
   ]
  },
  {
   "cell_type": "code",
   "execution_count": 96,
   "metadata": {},
   "outputs": [
    {
     "data": {
      "text/plain": [
       "37"
      ]
     },
     "execution_count": 96,
     "metadata": {},
     "output_type": "execute_result"
    }
   ],
   "source": [
    "len(X_seq[1])"
   ]
  },
  {
   "cell_type": "code",
   "execution_count": 97,
   "metadata": {},
   "outputs": [
    {
     "name": "stdout",
     "output_type": "stream",
     "text": [
      "Apple CEO Tim Cook's compensation increased by around 28% last year to $14,769,259, the company disclosed in its annual proxy statement on Tuesday. More specifically, that's up from the $11,555,466 h… [+2084 chars]\n"
     ]
    }
   ],
   "source": [
    "print(X['text'][1])"
   ]
  },
  {
   "cell_type": "code",
   "execution_count": 98,
   "metadata": {},
   "outputs": [
    {
     "data": {
      "text/plain": [
       "37"
      ]
     },
     "execution_count": 98,
     "metadata": {},
     "output_type": "execute_result"
    }
   ],
   "source": [
    "len(X_seq[99])"
   ]
  },
  {
   "cell_type": "code",
   "execution_count": null,
   "metadata": {},
   "outputs": [],
   "source": []
  },
  {
   "cell_type": "code",
   "execution_count": 99,
   "metadata": {},
   "outputs": [],
   "source": [
    "#pip install numpy==1.19.5"
   ]
  },
  {
   "cell_type": "code",
   "execution_count": 100,
   "metadata": {},
   "outputs": [],
   "source": [
    "# Import the pad_sequences method from Keras\n",
    "from tensorflow.keras.preprocessing.sequence import pad_sequences"
   ]
  },
  {
   "cell_type": "code",
   "execution_count": 101,
   "metadata": {},
   "outputs": [],
   "source": [
    "# Set the pad size\n",
    "max_words = 40\n",
    "\n",
    "# Pad the sequences using the pad_sequences() method\n",
    "X_pad = pad_sequences(X_seq, maxlen=max_words, padding=\"post\")"
   ]
  },
  {
   "cell_type": "code",
   "execution_count": 102,
   "metadata": {},
   "outputs": [],
   "source": [
    "# Creating training, validation, and testing sets using the encoded data\n",
    "X_train_rnn, X_test_rnn, y_train_rnn, y_test_rnn = train_test_split(X_pad, y)\n",
    "\n",
    "X_train_rnn, X_val_rnn, y_train_rnn, y_val_rnn = train_test_split(X_train_rnn, y_train_rnn)"
   ]
  },
  {
   "cell_type": "code",
   "execution_count": 103,
   "metadata": {},
   "outputs": [],
   "source": [
    "# Import Keras modules for model creation\n",
    "from tensorflow.keras.models import Sequential\n",
    "from tensorflow.keras.layers import Embedding, LSTM, Dense"
   ]
  },
  {
   "cell_type": "code",
   "execution_count": 104,
   "metadata": {},
   "outputs": [],
   "source": [
    "# Model set-up\n",
    "vocabulary_size =len(tokenizer.word_counts.keys()) + 1\n",
    "\n",
    "embedding_size = 64"
   ]
  },
  {
   "cell_type": "code",
   "execution_count": 105,
   "metadata": {},
   "outputs": [],
   "source": [
    "# Define the LSTM RNN model\n",
    "model = Sequential()\n",
    "\n",
    "# Layer 1\n",
    "model.add(Embedding(vocabulary_size, embedding_size, input_length=max_words))\n",
    "\n",
    "# Layer 2\n",
    "model.add(LSTM(units=280))\n",
    "\n",
    "# Output layer\n",
    "model.add(Dense(units=1, activation=\"sigmoid\"))"
   ]
  },
  {
   "cell_type": "code",
   "execution_count": 106,
   "metadata": {},
   "outputs": [],
   "source": [
    "# Compile the model\n",
    "model.compile(\n",
    "    loss=\"binary_crossentropy\",\n",
    "    optimizer=\"adam\",\n",
    "    metrics=[\n",
    "        \"accuracy\",\n",
    "        #tf.keras.metrics.TruePositives(name=\"tp\"),\n",
    "        #tf.keras.metrics.TrueNegatives(name=\"tn\"),\n",
    "        #tf.keras.metrics.FalsePositives(name=\"fp\"),\n",
    "        #tf.keras.metrics.FalseNegatives(name=\"fn\"),\n",
    "        tf.keras.metrics.Precision(name=\"precision\"),\n",
    "        tf.keras.metrics.Recall(name=\"recall\"),\n",
    "        tf.keras.metrics.AUC(name=\"auc\"),\n",
    "    ],\n",
    ")"
   ]
  },
  {
   "cell_type": "code",
   "execution_count": 107,
   "metadata": {},
   "outputs": [
    {
     "name": "stdout",
     "output_type": "stream",
     "text": [
      "Model: \"sequential_1\"\n",
      "_________________________________________________________________\n",
      "Layer (type)                 Output Shape              Param #   \n",
      "=================================================================\n",
      "embedding_1 (Embedding)      (None, 40, 64)            85632     \n",
      "_________________________________________________________________\n",
      "lstm_1 (LSTM)                (None, 280)               386400    \n",
      "_________________________________________________________________\n",
      "dense_1 (Dense)              (None, 1)                 281       \n",
      "=================================================================\n",
      "Total params: 472,313\n",
      "Trainable params: 472,313\n",
      "Non-trainable params: 0\n",
      "_________________________________________________________________\n"
     ]
    }
   ],
   "source": [
    "# Show model summary\n",
    "model.summary()"
   ]
  },
  {
   "cell_type": "code",
   "execution_count": 108,
   "metadata": {},
   "outputs": [
    {
     "name": "stdout",
     "output_type": "stream",
     "text": [
      "Epoch 1/10\n",
      "1/1 [==============================] - 2s 2s/step - loss: 0.6936 - accuracy: 0.4821 - precision: 0.2857 - recall: 0.0769 - auc: 0.4833 - val_loss: 0.6967 - val_accuracy: 0.3684 - val_precision: 0.0000e+00 - val_recall: 0.0000e+00 - val_auc: 0.5238\n",
      "Epoch 2/10\n",
      "1/1 [==============================] - 0s 95ms/step - loss: 0.6912 - accuracy: 0.5357 - precision: 0.0000e+00 - recall: 0.0000e+00 - auc: 0.7487 - val_loss: 0.7001 - val_accuracy: 0.3684 - val_precision: 0.0000e+00 - val_recall: 0.0000e+00 - val_auc: 0.6429\n",
      "Epoch 3/10\n",
      "1/1 [==============================] - 0s 93ms/step - loss: 0.6886 - accuracy: 0.5357 - precision: 0.0000e+00 - recall: 0.0000e+00 - auc: 0.7385 - val_loss: 0.7046 - val_accuracy: 0.3684 - val_precision: 0.0000e+00 - val_recall: 0.0000e+00 - val_auc: 0.6012\n",
      "Epoch 4/10\n",
      "1/1 [==============================] - 0s 98ms/step - loss: 0.6847 - accuracy: 0.5357 - precision: 0.0000e+00 - recall: 0.0000e+00 - auc: 0.8282 - val_loss: 0.7122 - val_accuracy: 0.3684 - val_precision: 0.0000e+00 - val_recall: 0.0000e+00 - val_auc: 0.6250\n",
      "Epoch 5/10\n",
      "1/1 [==============================] - 0s 99ms/step - loss: 0.6781 - accuracy: 0.5357 - precision: 0.0000e+00 - recall: 0.0000e+00 - auc: 0.8609 - val_loss: 0.7294 - val_accuracy: 0.3684 - val_precision: 0.0000e+00 - val_recall: 0.0000e+00 - val_auc: 0.7024\n",
      "Epoch 6/10\n",
      "1/1 [==============================] - 0s 96ms/step - loss: 0.6662 - accuracy: 0.5357 - precision: 0.0000e+00 - recall: 0.0000e+00 - auc: 0.9064 - val_loss: 0.7674 - val_accuracy: 0.3684 - val_precision: 0.0000e+00 - val_recall: 0.0000e+00 - val_auc: 0.6964\n",
      "Epoch 7/10\n",
      "1/1 [==============================] - 0s 94ms/step - loss: 0.6429 - accuracy: 0.5357 - precision: 0.0000e+00 - recall: 0.0000e+00 - auc: 0.9481 - val_loss: 0.8612 - val_accuracy: 0.3684 - val_precision: 0.0000e+00 - val_recall: 0.0000e+00 - val_auc: 0.7440\n",
      "Epoch 8/10\n",
      "1/1 [==============================] - 0s 100ms/step - loss: 0.5958 - accuracy: 0.5357 - precision: 0.0000e+00 - recall: 0.0000e+00 - auc: 0.9763 - val_loss: 0.7674 - val_accuracy: 0.3684 - val_precision: 0.0000e+00 - val_recall: 0.0000e+00 - val_auc: 0.6548\n",
      "Epoch 9/10\n",
      "1/1 [==============================] - 0s 111ms/step - loss: 0.5179 - accuracy: 0.8214 - precision: 1.0000 - recall: 0.6154 - auc: 0.9885 - val_loss: 0.7838 - val_accuracy: 0.3684 - val_precision: 0.0000e+00 - val_recall: 0.0000e+00 - val_auc: 0.6071\n",
      "Epoch 10/10\n",
      "1/1 [==============================] - 0s 105ms/step - loss: 0.3605 - accuracy: 0.9286 - precision: 1.0000 - recall: 0.8462 - auc: 0.9974 - val_loss: 1.2817 - val_accuracy: 0.5263 - val_precision: 1.0000 - val_recall: 0.2500 - val_auc: 0.5655\n"
     ]
    },
    {
     "data": {
      "text/plain": [
       "<tensorflow.python.keras.callbacks.History at 0x7fb2492d9070>"
      ]
     },
     "execution_count": 108,
     "metadata": {},
     "output_type": "execute_result"
    }
   ],
   "source": [
    "# Training the model\n",
    "batch_size = 1000\n",
    "epochs = 10\n",
    "model.fit(\n",
    "    X_train_rnn,\n",
    "    y_train_rnn,\n",
    "    validation_data=(X_val_rnn, y_val_rnn),\n",
    "    epochs=epochs,\n",
    "    batch_size=batch_size,\n",
    "    verbose=1,\n",
    ")"
   ]
  },
  {
   "cell_type": "code",
   "execution_count": 109,
   "metadata": {},
   "outputs": [
    {
     "name": "stderr",
     "output_type": "stream",
     "text": [
      "/Users/gerardoespinoza/opt/anaconda3/envs/ML2/lib/python3.9/site-packages/tensorflow/python/keras/engine/sequential.py:455: UserWarning: `model.predict_classes()` is deprecated and will be removed after 2021-01-01. Please use instead:* `np.argmax(model.predict(x), axis=-1)`,   if your model does multi-class classification   (e.g. if it uses a `softmax` last-layer activation).* `(model.predict(x) > 0.5).astype(\"int32\")`,   if your model does binary classification   (e.g. if it uses a `sigmoid` last-layer activation).\n",
      "  warnings.warn('`model.predict_classes()` is deprecated and '\n"
     ]
    }
   ],
   "source": [
    "# Predict classes using the testing data\n",
    "y_rnn_pred = model.predict_classes(X_test_rnn, batch_size=1000)"
   ]
  },
  {
   "cell_type": "code",
   "execution_count": 110,
   "metadata": {},
   "outputs": [],
   "source": [
    "# Accuracy\n",
    "from sklearn.metrics import accuracy_score\n"
   ]
  },
  {
   "cell_type": "code",
   "execution_count": 111,
   "metadata": {},
   "outputs": [
    {
     "name": "stdout",
     "output_type": "stream",
     "text": [
      "RNN LSTM Accuracy 0.56\n"
     ]
    }
   ],
   "source": [
    "print(\"RNN LSTM Accuracy %.2f\" % (accuracy_score(y_test_rnn, y_rnn_pred)))"
   ]
  },
  {
   "cell_type": "code",
   "execution_count": 112,
   "metadata": {},
   "outputs": [],
   "source": [
    "# Import the classification_report method from sklearn\n",
    "from sklearn.metrics import classification_report"
   ]
  },
  {
   "cell_type": "code",
   "execution_count": 113,
   "metadata": {},
   "outputs": [
    {
     "name": "stdout",
     "output_type": "stream",
     "text": [
      "Classification Report for the RNN LSTM Model\n",
      "              precision    recall  f1-score   support\n",
      "\n",
      "           0       0.82      0.50      0.62        18\n",
      "           1       0.36      0.71      0.48         7\n",
      "\n",
      "    accuracy                           0.56        25\n",
      "   macro avg       0.59      0.61      0.55        25\n",
      "weighted avg       0.69      0.56      0.58        25\n",
      "\n"
     ]
    }
   ],
   "source": [
    "# Display classification report for the RNN LSTM Model\n",
    "print(\"Classification Report for the RNN LSTM Model\")\n",
    "print(classification_report(y_rnn_pred, y_test_rnn))"
   ]
  },
  {
   "cell_type": "code",
   "execution_count": null,
   "metadata": {},
   "outputs": [],
   "source": []
  }
 ],
 "metadata": {
  "kernelspec": {
   "display_name": "ML2 env",
   "language": "python",
   "name": "ml2"
  },
  "language_info": {
   "codemirror_mode": {
    "name": "ipython",
    "version": 3
   },
   "file_extension": ".py",
   "mimetype": "text/x-python",
   "name": "python",
   "nbconvert_exporter": "python",
   "pygments_lexer": "ipython3",
   "version": "3.9.4"
  }
 },
 "nbformat": 4,
 "nbformat_minor": 5
}
