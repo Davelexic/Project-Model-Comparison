{
 "cells": [
  {
   "cell_type": "code",
   "execution_count": 1,
   "id": "221f51c7",
   "metadata": {},
   "outputs": [
    {
     "name": "stderr",
     "output_type": "stream",
     "text": [
      "[nltk_data] Downloading package vader_lexicon to\n",
      "[nltk_data]     /Users/gerardoespinoza/nltk_data...\n",
      "[nltk_data]   Package vader_lexicon is already up-to-date!\n"
     ]
    }
   ],
   "source": [
    "# Initial imports\n",
    "import os\n",
    "import pandas as pd\n",
    "from dotenv import load_dotenv\n",
    "import nltk as nltk\n",
    "nltk.download('vader_lexicon')\n",
    "from nltk.sentiment.vader import SentimentIntensityAnalyzer\n",
    "analyzer = SentimentIntensityAnalyzer()\n",
    "import numpy as np\n",
    "from pathlib import Path\n",
    "import tensorflow as tf\n",
    "\n",
    "%matplotlib inline"
   ]
  },
  {
   "cell_type": "code",
   "execution_count": 2,
   "id": "caec8c96",
   "metadata": {},
   "outputs": [
    {
     "data": {
      "text/plain": [
       "True"
      ]
     },
     "execution_count": 2,
     "metadata": {},
     "output_type": "execute_result"
    }
   ],
   "source": [
    "load_dotenv()"
   ]
  },
  {
   "cell_type": "code",
   "execution_count": 3,
   "id": "570a51bf",
   "metadata": {},
   "outputs": [],
   "source": [
    "# Api key environment variable\n",
    "api_key = os.getenv(\"news_api\")"
   ]
  },
  {
   "cell_type": "code",
   "execution_count": 4,
   "id": "03b05f05",
   "metadata": {},
   "outputs": [],
   "source": [
    "#print(api_key)"
   ]
  },
  {
   "cell_type": "code",
   "execution_count": 5,
   "id": "c9cc9f1d",
   "metadata": {},
   "outputs": [],
   "source": [
    "# Create a newsapi client\n",
    "from newsapi import NewsApiClient\n",
    "newsapi = NewsApiClient(api_key='5a7fd3d96ac4436b8ebec923eec78f72')"
   ]
  },
  {
   "cell_type": "code",
   "execution_count": 6,
   "id": "d50791c2",
   "metadata": {},
   "outputs": [],
   "source": [
    "all_articles = newsapi.get_everything(q='AAPL',\n",
    "                                      from_param='2021-07-28',\n",
    "                                      to='2021-01-01',\n",
    "                                      language='en',\n",
    "                                      )\n"
   ]
  },
  {
   "cell_type": "code",
   "execution_count": 7,
   "id": "d7461487",
   "metadata": {},
   "outputs": [],
   "source": [
    "stocks_sentiments = []\n",
    "source =  []\n",
    "for article in all_articles[\"articles\"]:\n",
    "    try:\n",
    "        text= article[\"content\"]\n",
    "        date = article[\"publishedAt\"]\n",
    "        source.append(article['source']['name'])\n",
    "        sentiment = analyzer.polarity_scores(text)\n",
    "        compound = sentiment[\"compound\"]\n",
    "        pos = sentiment[\"pos\"]\n",
    "        neu = sentiment[\"neu\"]\n",
    "        neg = sentiment[\"neg\"]\n",
    "        \n",
    "        stocks_sentiments.append({\n",
    "            \"text\": text,\n",
    "            \"date\": date,\n",
    "            \"compound\": compound,\n",
    "            \"positive\": pos,\n",
    "            \"negative\": neg,\n",
    "            \"neutral\": neu\n",
    "            \n",
    "        })\n",
    "    except AttributeError:\n",
    "        pass\n",
    "    "
   ]
  },
  {
   "cell_type": "code",
   "execution_count": 8,
   "id": "c23e2eea",
   "metadata": {},
   "outputs": [],
   "source": [
    "df = pd.DataFrame(stocks_sentiments)\n",
    "df = df.set_index('date')\n",
    "df = df.sort_values(by='date')\n",
    "df['source'] = source\n",
    "#df"
   ]
  },
  {
   "cell_type": "code",
   "execution_count": 9,
   "id": "cab3ef1d",
   "metadata": {},
   "outputs": [],
   "source": [
    "sp500 = newsapi.get_everything(q = 'sp500',\n",
    "                      language = 'en')"
   ]
  },
  {
   "cell_type": "code",
   "execution_count": 10,
   "id": "4429bf40",
   "metadata": {},
   "outputs": [],
   "source": [
    "sp500_sentiments = []\n",
    "\n",
    "for article in sp500[\"articles\"]:\n",
    "    try:\n",
    "        text= article[\"content\"]\n",
    "        date = article[\"publishedAt\"]\n",
    "        sentiment = analyzer.polarity_scores(text)\n",
    "        compound = sentiment[\"compound\"]\n",
    "        pos = sentiment[\"pos\"]\n",
    "        neu = sentiment[\"neu\"]\n",
    "        neg = sentiment[\"neg\"]\n",
    "        \n",
    "        sp500_sentiments.append({\n",
    "            \"text\": text,\n",
    "            \"date\": date,\n",
    "            \"compound\": compound,\n",
    "            \"positive\": pos,\n",
    "            \"negative\": neg,\n",
    "            \"neutral\": neu\n",
    "            \n",
    "        })\n",
    "    except AttributeError:\n",
    "        pass\n",
    "    "
   ]
  },
  {
   "cell_type": "code",
   "execution_count": 11,
   "id": "a63e1bca",
   "metadata": {},
   "outputs": [],
   "source": [
    "sp500_df = pd.DataFrame(sp500_sentiments)"
   ]
  },
  {
   "cell_type": "code",
   "execution_count": 12,
   "id": "72e96822",
   "metadata": {},
   "outputs": [],
   "source": [
    "sp500_df = sp500_df.sort_values(by = 'date')\n",
    "sp500_df = sp500_df.set_index('date')\n",
    "#sp500_df"
   ]
  },
  {
   "cell_type": "code",
   "execution_count": 13,
   "id": "dd532c7f",
   "metadata": {},
   "outputs": [],
   "source": [
    "all_articles2 = newsapi.get_everything(q='AAPL',\n",
    "                                      from_param='2021-07-28',\n",
    "                                      to='2021-01-01',\n",
    "                                      language='en',\n",
    "                                       page=2\n",
    "                                      )"
   ]
  },
  {
   "cell_type": "code",
   "execution_count": 14,
   "id": "86ef2145",
   "metadata": {},
   "outputs": [],
   "source": [
    "stocks_sentiments = []\n",
    "source = []\n",
    "for article in all_articles2[\"articles\"]:\n",
    "    try:\n",
    "        text= article[\"content\"]\n",
    "        date = article[\"publishedAt\"]\n",
    "        source .append(article['source']['name'])\n",
    "        sentiment = analyzer.polarity_scores(text)\n",
    "        compound = sentiment[\"compound\"]\n",
    "        pos = sentiment[\"pos\"]\n",
    "        neu = sentiment[\"neu\"]\n",
    "        neg = sentiment[\"neg\"]\n",
    "        \n",
    "        stocks_sentiments.append({\n",
    "            \"text\": text,\n",
    "            \"date\": date,\n",
    "            \"compound\": compound,\n",
    "            \"positive\": pos,\n",
    "            \"negative\": neg,\n",
    "            \"neutral\": neu\n",
    "            \n",
    "        })\n",
    "    except AttributeError:\n",
    "        pass"
   ]
  },
  {
   "cell_type": "code",
   "execution_count": 15,
   "id": "97a80c4c",
   "metadata": {},
   "outputs": [],
   "source": [
    "AAPL2_df = pd.DataFrame(stocks_sentiments)"
   ]
  },
  {
   "cell_type": "code",
   "execution_count": 16,
   "id": "070fb167",
   "metadata": {},
   "outputs": [],
   "source": [
    "AAPL2_DF = AAPL2_df.sort_values('date')\n",
    "AAPL2_DF = AAPL2_DF.set_index('date')"
   ]
  },
  {
   "cell_type": "code",
   "execution_count": 17,
   "id": "f52dfe1a",
   "metadata": {},
   "outputs": [],
   "source": [
    "apple_df = pd.concat([df,AAPL2_DF])"
   ]
  },
  {
   "cell_type": "code",
   "execution_count": 18,
   "id": "21003b17",
   "metadata": {},
   "outputs": [],
   "source": [
    "apple_df = apple_df.sort_index()"
   ]
  },
  {
   "cell_type": "code",
   "execution_count": 19,
   "id": "23ff333a",
   "metadata": {},
   "outputs": [],
   "source": [
    "AAPL2_DF['source']= source"
   ]
  },
  {
   "cell_type": "code",
   "execution_count": 20,
   "id": "f86394a5",
   "metadata": {},
   "outputs": [],
   "source": [
    "apple_df = pd.concat([df,AAPL2_DF])"
   ]
  },
  {
   "cell_type": "code",
   "execution_count": 21,
   "id": "a19c4c9c",
   "metadata": {},
   "outputs": [],
   "source": [
    "apple_df = apple_df.sort_index()"
   ]
  },
  {
   "cell_type": "code",
   "execution_count": 22,
   "id": "78370494",
   "metadata": {},
   "outputs": [],
   "source": [
    "all_articles3 = newsapi.get_everything(q='AAPL',\n",
    "                                      from_param='2021-07-28',\n",
    "                                      to='2021-01-01',\n",
    "                                      language='en',\n",
    "                                       page=3\n",
    "                                      )"
   ]
  },
  {
   "cell_type": "code",
   "execution_count": 23,
   "id": "e1e69338",
   "metadata": {},
   "outputs": [],
   "source": [
    "stocks_sentiments = []\n",
    "source = []\n",
    "for article in all_articles3[\"articles\"]:\n",
    "    try:\n",
    "        text= article[\"content\"]\n",
    "        date = article[\"publishedAt\"]\n",
    "        source .append(article['source']['name'])\n",
    "        sentiment = analyzer.polarity_scores(text)\n",
    "        compound = sentiment[\"compound\"]\n",
    "        pos = sentiment[\"pos\"]\n",
    "        neu = sentiment[\"neu\"]\n",
    "        neg = sentiment[\"neg\"]\n",
    "        \n",
    "        stocks_sentiments.append({\n",
    "            \"text\": text,\n",
    "            \"date\": date,\n",
    "            \"compound\": compound,\n",
    "            \"positive\": pos,\n",
    "            \"negative\": neg,\n",
    "            \"neutral\": neu\n",
    "            \n",
    "        })\n",
    "    except AttributeError:\n",
    "        pass"
   ]
  },
  {
   "cell_type": "code",
   "execution_count": 24,
   "id": "7f60b61d",
   "metadata": {},
   "outputs": [],
   "source": [
    "df3 = pd.DataFrame(stocks_sentiments)"
   ]
  },
  {
   "cell_type": "code",
   "execution_count": 25,
   "id": "b976d164",
   "metadata": {},
   "outputs": [],
   "source": [
    "df3 = df3.set_index('date').sort_index()\n",
    "df3['source'] = source"
   ]
  },
  {
   "cell_type": "code",
   "execution_count": 26,
   "id": "4d62c711",
   "metadata": {},
   "outputs": [],
   "source": [
    "main_df = pd.concat([apple_df, df3]).sort_index()"
   ]
  },
  {
   "cell_type": "code",
   "execution_count": 27,
   "id": "6b4f8071",
   "metadata": {},
   "outputs": [],
   "source": [
    "all_articles4 = newsapi.get_everything(q='AAPL',\n",
    "                                      from_param='2021-07-28',\n",
    "                                      to='2021-01-01',\n",
    "                                      language='en',\n",
    "                                       page=4\n",
    "                                      )"
   ]
  },
  {
   "cell_type": "code",
   "execution_count": 28,
   "id": "072295f4",
   "metadata": {},
   "outputs": [],
   "source": [
    "stocks_sentiments = []\n",
    "source = []\n",
    "for article in all_articles4[\"articles\"]:\n",
    "    try:\n",
    "        text= article[\"content\"]\n",
    "        date = article[\"publishedAt\"]\n",
    "        source .append(article['source']['name'])\n",
    "        sentiment = analyzer.polarity_scores(text)\n",
    "        compound = sentiment[\"compound\"]\n",
    "        pos = sentiment[\"pos\"]\n",
    "        neu = sentiment[\"neu\"]\n",
    "        neg = sentiment[\"neg\"]\n",
    "        \n",
    "        stocks_sentiments.append({\n",
    "            \"text\": text,\n",
    "            \"date\": date,\n",
    "            \"compound\": compound,\n",
    "            \"positive\": pos,\n",
    "            \"negative\": neg,\n",
    "            \"neutral\": neu\n",
    "            \n",
    "        })\n",
    "    except AttributeError:\n",
    "        pass"
   ]
  },
  {
   "cell_type": "code",
   "execution_count": 29,
   "id": "95e98480",
   "metadata": {},
   "outputs": [],
   "source": [
    "df4 = pd.DataFrame(stocks_sentiments).set_index('date').sort_index()"
   ]
  },
  {
   "cell_type": "code",
   "execution_count": 30,
   "id": "4228eb71",
   "metadata": {},
   "outputs": [],
   "source": [
    "df4['source'] =source"
   ]
  },
  {
   "cell_type": "code",
   "execution_count": 31,
   "id": "f6b8034f",
   "metadata": {},
   "outputs": [],
   "source": [
    "main_df = pd.concat([main_df, df4]).sort_index()"
   ]
  },
  {
   "cell_type": "code",
   "execution_count": 32,
   "id": "6dae677f",
   "metadata": {},
   "outputs": [],
   "source": [
    "all_articles5 = newsapi.get_everything(q='AAPL',\n",
    "                                      from_param='2021-07-28',\n",
    "                                      to='2021-01-01',\n",
    "                                      language='en',\n",
    "                                       page=5\n",
    "                                      )"
   ]
  },
  {
   "cell_type": "code",
   "execution_count": 33,
   "id": "784625b5",
   "metadata": {},
   "outputs": [],
   "source": [
    "stocks_sentiments = []\n",
    "source = []\n",
    "for article in all_articles5[\"articles\"]:\n",
    "    try:\n",
    "        text= article[\"content\"]\n",
    "        date = article[\"publishedAt\"]\n",
    "        source .append(article['source']['name'])\n",
    "        sentiment = analyzer.polarity_scores(text)\n",
    "        compound = sentiment[\"compound\"]\n",
    "        pos = sentiment[\"pos\"]\n",
    "        neu = sentiment[\"neu\"]\n",
    "        neg = sentiment[\"neg\"]\n",
    "        \n",
    "        stocks_sentiments.append({\n",
    "            \"text\": text,\n",
    "            \"date\": date,\n",
    "            \"compound\": compound,\n",
    "            \"positive\": pos,\n",
    "            \"negative\": neg,\n",
    "            \"neutral\": neu\n",
    "            \n",
    "        })\n",
    "    except AttributeError:\n",
    "        pass"
   ]
  },
  {
   "cell_type": "code",
   "execution_count": 34,
   "id": "f4d3eca7",
   "metadata": {},
   "outputs": [],
   "source": [
    "df5 = pd.DataFrame(stocks_sentiments).set_index('date').sort_index()"
   ]
  },
  {
   "cell_type": "code",
   "execution_count": 35,
   "id": "9f692156",
   "metadata": {},
   "outputs": [],
   "source": [
    "df5['source']= source"
   ]
  },
  {
   "cell_type": "code",
   "execution_count": 36,
   "id": "bf1acb03",
   "metadata": {},
   "outputs": [],
   "source": [
    "main_df = pd.concat([main_df, df5]).sort_index()"
   ]
  },
  {
   "cell_type": "code",
   "execution_count": 37,
   "id": "99482b3f",
   "metadata": {},
   "outputs": [],
   "source": [
    "#main_df"
   ]
  },
  {
   "cell_type": "code",
   "execution_count": 38,
   "id": "c9201ff0",
   "metadata": {},
   "outputs": [],
   "source": [
    "main_df.index=pd.to_datetime(main_df.index)"
   ]
  },
  {
   "cell_type": "code",
   "execution_count": 39,
   "id": "ecbe6c2d",
   "metadata": {},
   "outputs": [],
   "source": [
    "weekly_sentiment = main_df.resample('W')['compound'].mean()"
   ]
  },
  {
   "cell_type": "code",
   "execution_count": 40,
   "id": "ab57ba3f",
   "metadata": {},
   "outputs": [],
   "source": [
    "weekly_sentiment_df = pd.DataFrame(weekly_sentiment)"
   ]
  },
  {
   "cell_type": "code",
   "execution_count": 41,
   "id": "9277bb11",
   "metadata": {},
   "outputs": [],
   "source": [
    "#weekly_sentiment_df"
   ]
  },
  {
   "cell_type": "code",
   "execution_count": 42,
   "id": "b61f1cb1",
   "metadata": {},
   "outputs": [],
   "source": [
    "num_articles_weekly = main_df.resample('W')['text'].count()"
   ]
  },
  {
   "cell_type": "code",
   "execution_count": 43,
   "id": "12d3d645",
   "metadata": {},
   "outputs": [],
   "source": [
    "articles_weekly_df = pd.DataFrame(num_articles_weekly)"
   ]
  },
  {
   "cell_type": "code",
   "execution_count": 44,
   "id": "757f28c8",
   "metadata": {},
   "outputs": [],
   "source": [
    "weekly_sentiment = pd.concat([weekly_sentiment_df, articles_weekly_df], axis=1)"
   ]
  },
  {
   "cell_type": "code",
   "execution_count": 45,
   "id": "2331ea08",
   "metadata": {},
   "outputs": [],
   "source": [
    "weekly_sentiment_AAPL_df = weekly_sentiment.rename(columns={'text': 'articles'})"
   ]
  },
  {
   "cell_type": "code",
   "execution_count": 46,
   "id": "d9a18d94",
   "metadata": {},
   "outputs": [],
   "source": [
    "#all_articles6 = newsapi.get_everything(q='AAPL',\n",
    "                                      #from_param='2020-07-06',\n",
    "                                      #to='2021-07-06',\n",
    "                                      #language='en',\n",
    "                                       #page = 1\n",
    "                                      #)\n",
    "#all_articles6"
   ]
  },
  {
   "cell_type": "code",
   "execution_count": 47,
   "id": "eea02402",
   "metadata": {},
   "outputs": [],
   "source": [
    "# each_page = []\n",
    "#tsla_results = []\n",
    "# response = \n",
    "#for each_page in range(1, 6):\n",
    "    #result=newsapi.get_everything(q='TSLA', \n",
    "                                 # from_param='2021-07-06', \n",
    "                                  #to='2020-07-06',\n",
    "                                  #language='en', \n",
    "                                  #page = each_page\n",
    "                                 #)\n",
    "    #tsla_results.append(result)\n"
   ]
  },
  {
   "cell_type": "code",
   "execution_count": 48,
   "id": "ae12d4f7",
   "metadata": {},
   "outputs": [],
   "source": [
    "score = main_df['compound']   "
   ]
  },
  {
   "cell_type": "code",
   "execution_count": 49,
   "id": "fac8134a",
   "metadata": {},
   "outputs": [],
   "source": [
    "sentiment = []\n",
    "\n",
    "for x in score:\n",
    "    if x >= 0.05:\n",
    "        sentiment.append(1)\n",
    "    else:\n",
    "        sentiment.append(0)"
   ]
  },
  {
   "cell_type": "code",
   "execution_count": 50,
   "id": "17a49a6c",
   "metadata": {},
   "outputs": [],
   "source": [
    "main_df['sentiment'] = sentiment"
   ]
  },
  {
   "cell_type": "code",
   "execution_count": 51,
   "id": "6801bf6c",
   "metadata": {},
   "outputs": [],
   "source": [
    "main_df = main_df.reset_index()"
   ]
  },
  {
   "cell_type": "code",
   "execution_count": 52,
   "id": "dc80ce91",
   "metadata": {},
   "outputs": [],
   "source": [
    "#weekly_sentiment_df"
   ]
  },
  {
   "cell_type": "code",
   "execution_count": 53,
   "id": "06050707",
   "metadata": {},
   "outputs": [
    {
     "data": {
      "text/html": [
       "<div>\n",
       "<style scoped>\n",
       "    .dataframe tbody tr th:only-of-type {\n",
       "        vertical-align: middle;\n",
       "    }\n",
       "\n",
       "    .dataframe tbody tr th {\n",
       "        vertical-align: top;\n",
       "    }\n",
       "\n",
       "    .dataframe thead th {\n",
       "        text-align: right;\n",
       "    }\n",
       "</style>\n",
       "<table border=\"1\" class=\"dataframe\">\n",
       "  <thead>\n",
       "    <tr style=\"text-align: right;\">\n",
       "      <th></th>\n",
       "      <th>date</th>\n",
       "      <th>text</th>\n",
       "      <th>compound</th>\n",
       "      <th>positive</th>\n",
       "      <th>negative</th>\n",
       "      <th>neutral</th>\n",
       "      <th>source</th>\n",
       "      <th>sentiment</th>\n",
       "    </tr>\n",
       "  </thead>\n",
       "  <tbody>\n",
       "    <tr>\n",
       "      <th>0</th>\n",
       "      <td>2021-01-05 21:23:16+00:00</td>\n",
       "      <td>An accountant representing Dr. Dre's estranged...</td>\n",
       "      <td>-0.3612</td>\n",
       "      <td>0.041</td>\n",
       "      <td>0.110</td>\n",
       "      <td>0.849</td>\n",
       "      <td>StockNews.com</td>\n",
       "      <td>0</td>\n",
       "    </tr>\n",
       "    <tr>\n",
       "      <th>1</th>\n",
       "      <td>2021-01-06 01:31:49+00:00</td>\n",
       "      <td>Apple CEO Tim Cook's compensation increased by...</td>\n",
       "      <td>0.2732</td>\n",
       "      <td>0.062</td>\n",
       "      <td>0.000</td>\n",
       "      <td>0.938</td>\n",
       "      <td>Business Insider</td>\n",
       "      <td>1</td>\n",
       "    </tr>\n",
       "    <tr>\n",
       "      <th>2</th>\n",
       "      <td>2021-01-06 16:22:40+00:00</td>\n",
       "      <td>New York (CNN Business)The \"blue wave\" that ma...</td>\n",
       "      <td>0.0000</td>\n",
       "      <td>0.000</td>\n",
       "      <td>0.000</td>\n",
       "      <td>1.000</td>\n",
       "      <td>Business Insider</td>\n",
       "      <td>0</td>\n",
       "    </tr>\n",
       "    <tr>\n",
       "      <th>3</th>\n",
       "      <td>2021-01-06 20:37:22+00:00</td>\n",
       "      <td>January\\r\\n6, 2021\\r\\n5 min read\\r\\nThis story...</td>\n",
       "      <td>0.5106</td>\n",
       "      <td>0.102</td>\n",
       "      <td>0.000</td>\n",
       "      <td>0.898</td>\n",
       "      <td>StockNews.com</td>\n",
       "      <td>1</td>\n",
       "    </tr>\n",
       "    <tr>\n",
       "      <th>4</th>\n",
       "      <td>2021-01-09 14:52:00+00:00</td>\n",
       "      <td>In case you missed it, the Apple Car is back. ...</td>\n",
       "      <td>-0.2960</td>\n",
       "      <td>0.000</td>\n",
       "      <td>0.055</td>\n",
       "      <td>0.945</td>\n",
       "      <td>Benzinga</td>\n",
       "      <td>0</td>\n",
       "    </tr>\n",
       "    <tr>\n",
       "      <th>...</th>\n",
       "      <td>...</td>\n",
       "      <td>...</td>\n",
       "      <td>...</td>\n",
       "      <td>...</td>\n",
       "      <td>...</td>\n",
       "      <td>...</td>\n",
       "      <td>...</td>\n",
       "      <td>...</td>\n",
       "    </tr>\n",
       "    <tr>\n",
       "      <th>95</th>\n",
       "      <td>2021-07-27 14:19:10+00:00</td>\n",
       "      <td>An analyst has suggested that antitrust issues...</td>\n",
       "      <td>-0.5106</td>\n",
       "      <td>0.031</td>\n",
       "      <td>0.096</td>\n",
       "      <td>0.873</td>\n",
       "      <td>Benzinga</td>\n",
       "      <td>0</td>\n",
       "    </tr>\n",
       "    <tr>\n",
       "      <th>96</th>\n",
       "      <td>2021-07-27 20:34:00+00:00</td>\n",
       "      <td>Apple (AAPL) has officially reported its earni...</td>\n",
       "      <td>0.0000</td>\n",
       "      <td>0.000</td>\n",
       "      <td>0.000</td>\n",
       "      <td>1.000</td>\n",
       "      <td>9to5Mac</td>\n",
       "      <td>0</td>\n",
       "    </tr>\n",
       "    <tr>\n",
       "      <th>97</th>\n",
       "      <td>2021-07-27 20:34:26+00:00</td>\n",
       "      <td>Information on these pages contains forward-lo...</td>\n",
       "      <td>-0.5423</td>\n",
       "      <td>0.000</td>\n",
       "      <td>0.138</td>\n",
       "      <td>0.862</td>\n",
       "      <td>Business Insider</td>\n",
       "      <td>0</td>\n",
       "    </tr>\n",
       "    <tr>\n",
       "      <th>98</th>\n",
       "      <td>2021-07-28 11:21:26+00:00</td>\n",
       "      <td>Yesterday saw record AAPL Q3 earnings, dramati...</td>\n",
       "      <td>0.1779</td>\n",
       "      <td>0.104</td>\n",
       "      <td>0.084</td>\n",
       "      <td>0.812</td>\n",
       "      <td>9to5Mac</td>\n",
       "      <td>1</td>\n",
       "    </tr>\n",
       "    <tr>\n",
       "      <th>99</th>\n",
       "      <td>2021-07-28 13:12:42+00:00</td>\n",
       "      <td>Listen to a recap of the top stories of the da...</td>\n",
       "      <td>0.7351</td>\n",
       "      <td>0.179</td>\n",
       "      <td>0.000</td>\n",
       "      <td>0.821</td>\n",
       "      <td>AppleInsider</td>\n",
       "      <td>1</td>\n",
       "    </tr>\n",
       "  </tbody>\n",
       "</table>\n",
       "<p>100 rows × 8 columns</p>\n",
       "</div>"
      ],
      "text/plain": [
       "                        date  \\\n",
       "0  2021-01-05 21:23:16+00:00   \n",
       "1  2021-01-06 01:31:49+00:00   \n",
       "2  2021-01-06 16:22:40+00:00   \n",
       "3  2021-01-06 20:37:22+00:00   \n",
       "4  2021-01-09 14:52:00+00:00   \n",
       "..                       ...   \n",
       "95 2021-07-27 14:19:10+00:00   \n",
       "96 2021-07-27 20:34:00+00:00   \n",
       "97 2021-07-27 20:34:26+00:00   \n",
       "98 2021-07-28 11:21:26+00:00   \n",
       "99 2021-07-28 13:12:42+00:00   \n",
       "\n",
       "                                                 text  compound  positive  \\\n",
       "0   An accountant representing Dr. Dre's estranged...   -0.3612     0.041   \n",
       "1   Apple CEO Tim Cook's compensation increased by...    0.2732     0.062   \n",
       "2   New York (CNN Business)The \"blue wave\" that ma...    0.0000     0.000   \n",
       "3   January\\r\\n6, 2021\\r\\n5 min read\\r\\nThis story...    0.5106     0.102   \n",
       "4   In case you missed it, the Apple Car is back. ...   -0.2960     0.000   \n",
       "..                                                ...       ...       ...   \n",
       "95  An analyst has suggested that antitrust issues...   -0.5106     0.031   \n",
       "96  Apple (AAPL) has officially reported its earni...    0.0000     0.000   \n",
       "97  Information on these pages contains forward-lo...   -0.5423     0.000   \n",
       "98  Yesterday saw record AAPL Q3 earnings, dramati...    0.1779     0.104   \n",
       "99  Listen to a recap of the top stories of the da...    0.7351     0.179   \n",
       "\n",
       "    negative  neutral            source  sentiment  \n",
       "0      0.110    0.849     StockNews.com          0  \n",
       "1      0.000    0.938  Business Insider          1  \n",
       "2      0.000    1.000  Business Insider          0  \n",
       "3      0.000    0.898     StockNews.com          1  \n",
       "4      0.055    0.945          Benzinga          0  \n",
       "..       ...      ...               ...        ...  \n",
       "95     0.096    0.873          Benzinga          0  \n",
       "96     0.000    1.000           9to5Mac          0  \n",
       "97     0.138    0.862  Business Insider          0  \n",
       "98     0.084    0.812           9to5Mac          1  \n",
       "99     0.000    0.821      AppleInsider          1  \n",
       "\n",
       "[100 rows x 8 columns]"
      ]
     },
     "execution_count": 53,
     "metadata": {},
     "output_type": "execute_result"
    }
   ],
   "source": [
    "main_df"
   ]
  },
  {
   "cell_type": "code",
   "execution_count": 54,
   "id": "4e0b6b09",
   "metadata": {},
   "outputs": [],
   "source": [
    "#main_df['sentiment'].value_counts()"
   ]
  },
  {
   "cell_type": "code",
   "execution_count": 55,
   "id": "6d332645",
   "metadata": {},
   "outputs": [],
   "source": [
    "# Create the features set (X) and the target vector (y)\n",
    "X = main_df['text']\n",
    "y = main_df['sentiment']"
   ]
  },
  {
   "cell_type": "code",
   "execution_count": 56,
   "id": "67db4938",
   "metadata": {},
   "outputs": [],
   "source": [
    "# Create the train, test, and validation sets\n",
    "from sklearn.model_selection import train_test_split\n",
    "\n",
    "X_train, X_test, y_train, y_test = train_test_split(X, y)\n",
    "\n",
    "X_train, X_val, y_train, y_val = train_test_split(X_train, y_train)"
   ]
  },
  {
   "cell_type": "code",
   "execution_count": 57,
   "id": "afa1228c",
   "metadata": {},
   "outputs": [],
   "source": [
    "# Import the Tokenizer method from Keras\n",
    "from tensorflow.keras.preprocessing.text import Tokenizer"
   ]
  },
  {
   "cell_type": "code",
   "execution_count": 58,
   "id": "9d3034fd",
   "metadata": {},
   "outputs": [],
   "source": [
    "tokenizer = Tokenizer(lower=True)\n",
    "tokenizer.fit_on_texts(X)"
   ]
  },
  {
   "cell_type": "code",
   "execution_count": 59,
   "id": "a315902d",
   "metadata": {},
   "outputs": [
    {
     "name": "stdout",
     "output_type": "stream",
     "text": [
      "word: 'the', token: 1\n",
      "word: 'chars', token: 2\n",
      "word: 'to', token: 3\n",
      "word: 'a', token: 4\n",
      "word: 'apple', token: 5\n"
     ]
    }
   ],
   "source": [
    "# Print the first five elements of the encoded vocabulary\n",
    "for token in list(tokenizer.word_index)[:5]:\n",
    "    print(f\"word: '{token}', token: {tokenizer.word_index[token]}\")"
   ]
  },
  {
   "cell_type": "code",
   "execution_count": 60,
   "id": "f90033b9",
   "metadata": {},
   "outputs": [],
   "source": [
    "# Transform the text data to numerical sequences\n",
    "X_seq = tokenizer.texts_to_sequences(X)"
   ]
  },
  {
   "cell_type": "code",
   "execution_count": 61,
   "id": "5ad1b7e0",
   "metadata": {},
   "outputs": [
    {
     "data": {
      "text/plain": [
       "37"
      ]
     },
     "execution_count": 61,
     "metadata": {},
     "output_type": "execute_result"
    }
   ],
   "source": [
    "len(X_seq[1])"
   ]
  },
  {
   "cell_type": "code",
   "execution_count": 62,
   "id": "444e678b",
   "metadata": {},
   "outputs": [],
   "source": [
    "#print(X)"
   ]
  },
  {
   "cell_type": "code",
   "execution_count": 63,
   "id": "36a64952",
   "metadata": {},
   "outputs": [
    {
     "data": {
      "text/plain": [
       "37"
      ]
     },
     "execution_count": 63,
     "metadata": {},
     "output_type": "execute_result"
    }
   ],
   "source": [
    "len(X_seq[99])"
   ]
  },
  {
   "cell_type": "code",
   "execution_count": 64,
   "id": "81a32623",
   "metadata": {},
   "outputs": [],
   "source": [
    "#pip install numpy==1.19.5"
   ]
  },
  {
   "cell_type": "code",
   "execution_count": 65,
   "id": "2cf938d3",
   "metadata": {},
   "outputs": [],
   "source": [
    "# Import the pad_sequences method from Keras\n",
    "from tensorflow.keras.preprocessing.sequence import pad_sequences"
   ]
  },
  {
   "cell_type": "code",
   "execution_count": 66,
   "id": "b17ab4cb",
   "metadata": {},
   "outputs": [],
   "source": [
    "# Set the pad size\n",
    "max_words = 40\n",
    "\n",
    "# Pad the sequences using the pad_sequences() method\n",
    "X_pad = pad_sequences(X_seq, maxlen=max_words, padding=\"post\")"
   ]
  },
  {
   "cell_type": "code",
   "execution_count": 67,
   "id": "fa9abd3d",
   "metadata": {},
   "outputs": [],
   "source": [
    "# Creating training, validation, and testing sets using the encoded data\n",
    "X_train_rnn, X_test_rnn, y_train_rnn, y_test_rnn = train_test_split(X_pad, y)\n",
    "\n",
    "X_train_rnn, X_val_rnn, y_train_rnn, y_val_rnn = train_test_split(X_train_rnn, y_train_rnn)"
   ]
  },
  {
   "cell_type": "code",
   "execution_count": 68,
   "id": "0b182396",
   "metadata": {},
   "outputs": [],
   "source": [
    "# Import Keras modules for model creation\n",
    "from tensorflow.keras.models import Sequential\n",
    "from tensorflow.keras.layers import Embedding, LSTM, Dense"
   ]
  },
  {
   "cell_type": "code",
   "execution_count": 69,
   "id": "fe9ac970",
   "metadata": {},
   "outputs": [],
   "source": [
    "# Model set-up\n",
    "vocabulary_size =len(tokenizer.word_counts.keys()) + 1\n",
    "\n",
    "embedding_size = 64"
   ]
  },
  {
   "cell_type": "code",
   "execution_count": 70,
   "id": "28d73bdc",
   "metadata": {},
   "outputs": [],
   "source": [
    "# Define the LSTM RNN model\n",
    "model = Sequential()\n",
    "\n",
    "# Layer 1\n",
    "model.add(Embedding(vocabulary_size, embedding_size, input_length=max_words))\n",
    "\n",
    "# Layer 2\n",
    "model.add(LSTM(units=400))\n",
    "\n",
    "# Output layer\n",
    "model.add(Dense(units=1, activation=\"relu\"))"
   ]
  },
  {
   "cell_type": "code",
   "execution_count": 71,
   "id": "b9c91630",
   "metadata": {},
   "outputs": [],
   "source": [
    "from tensorflow import keras"
   ]
  },
  {
   "cell_type": "code",
   "execution_count": 72,
   "id": "f9eb21ca",
   "metadata": {},
   "outputs": [],
   "source": [
    "optimizer = keras.optimizers.Adam(learning_rate=0.05)"
   ]
  },
  {
   "cell_type": "code",
   "execution_count": 73,
   "id": "d4da5413",
   "metadata": {},
   "outputs": [],
   "source": [
    "# Compile the model\n",
    "model.compile(\n",
    "    loss=\"binary_crossentropy\",\n",
    "    optimizer=optimizer,\n",
    "    metrics=[\n",
    "        \"accuracy\",\n",
    "        #tf.keras.metrics.TruePositives(name=\"tp\"),\n",
    "        #tf.keras.metrics.TrueNegatives(name=\"tn\"),\n",
    "        ##tf.keras.metrics.FalsePositives(name=\"fp\"),\n",
    "        #tf.keras.metrics.FalseNegatives(name=\"fn\"),\n",
    "        #tf.keras.metrics.Precision(name=\"precision\"),\n",
    "        #tf.keras.metrics.Recall(name=\"recall\"),\n",
    "        #tf.keras.metrics.AUC(name=\"auc\"),\n",
    "    ],\n",
    ")"
   ]
  },
  {
   "cell_type": "code",
   "execution_count": 74,
   "id": "180d7633",
   "metadata": {},
   "outputs": [
    {
     "name": "stdout",
     "output_type": "stream",
     "text": [
      "Model: \"sequential\"\n",
      "_________________________________________________________________\n",
      "Layer (type)                 Output Shape              Param #   \n",
      "=================================================================\n",
      "embedding (Embedding)        (None, 40, 64)            84992     \n",
      "_________________________________________________________________\n",
      "lstm (LSTM)                  (None, 400)               744000    \n",
      "_________________________________________________________________\n",
      "dense (Dense)                (None, 1)                 401       \n",
      "=================================================================\n",
      "Total params: 829,393\n",
      "Trainable params: 829,393\n",
      "Non-trainable params: 0\n",
      "_________________________________________________________________\n"
     ]
    }
   ],
   "source": [
    "# Show model summary\n",
    "model.summary()"
   ]
  },
  {
   "cell_type": "code",
   "execution_count": 75,
   "id": "ee8c1a0a",
   "metadata": {},
   "outputs": [
    {
     "name": "stdout",
     "output_type": "stream",
     "text": [
      "Epoch 1/25\n",
      "2/2 [==============================] - 2s 395ms/step - loss: 2.4856 - accuracy: 0.5714 - val_loss: 8.8285 - val_accuracy: 0.4211\n",
      "Epoch 2/25\n",
      "2/2 [==============================] - 0s 66ms/step - loss: 7.6246 - accuracy: 0.5000 - val_loss: 8.8285 - val_accuracy: 0.4211\n",
      "Epoch 3/25\n",
      "2/2 [==============================] - 0s 81ms/step - loss: 7.6246 - accuracy: 0.5000 - val_loss: 8.8285 - val_accuracy: 0.4211\n",
      "Epoch 4/25\n",
      "2/2 [==============================] - 0s 69ms/step - loss: 7.6246 - accuracy: 0.5000 - val_loss: 8.8285 - val_accuracy: 0.4211\n",
      "Epoch 5/25\n",
      "2/2 [==============================] - 0s 72ms/step - loss: 7.6246 - accuracy: 0.5000 - val_loss: 8.8285 - val_accuracy: 0.4211\n",
      "Epoch 6/25\n",
      "2/2 [==============================] - 0s 75ms/step - loss: 7.6246 - accuracy: 0.5000 - val_loss: 8.8285 - val_accuracy: 0.4211\n",
      "Epoch 7/25\n",
      "2/2 [==============================] - 0s 71ms/step - loss: 7.6246 - accuracy: 0.5000 - val_loss: 8.8285 - val_accuracy: 0.4211\n",
      "Epoch 8/25\n",
      "2/2 [==============================] - 0s 73ms/step - loss: 7.6246 - accuracy: 0.5000 - val_loss: 8.8285 - val_accuracy: 0.4211\n",
      "Epoch 9/25\n",
      "2/2 [==============================] - 0s 76ms/step - loss: 7.6246 - accuracy: 0.5000 - val_loss: 8.8285 - val_accuracy: 0.4211\n",
      "Epoch 10/25\n",
      "2/2 [==============================] - 0s 73ms/step - loss: 7.6246 - accuracy: 0.5000 - val_loss: 8.8285 - val_accuracy: 0.4211\n",
      "Epoch 11/25\n",
      "2/2 [==============================] - 0s 73ms/step - loss: 7.6246 - accuracy: 0.5000 - val_loss: 8.8285 - val_accuracy: 0.4211\n",
      "Epoch 12/25\n",
      "2/2 [==============================] - 0s 70ms/step - loss: 7.6246 - accuracy: 0.5000 - val_loss: 8.8285 - val_accuracy: 0.4211\n",
      "Epoch 13/25\n",
      "2/2 [==============================] - 0s 72ms/step - loss: 7.6246 - accuracy: 0.5000 - val_loss: 8.8285 - val_accuracy: 0.4211\n",
      "Epoch 14/25\n",
      "2/2 [==============================] - 0s 71ms/step - loss: 7.6246 - accuracy: 0.5000 - val_loss: 8.8285 - val_accuracy: 0.4211\n",
      "Epoch 15/25\n",
      "2/2 [==============================] - 0s 72ms/step - loss: 7.6246 - accuracy: 0.5000 - val_loss: 8.8285 - val_accuracy: 0.4211\n",
      "Epoch 16/25\n",
      "2/2 [==============================] - 0s 75ms/step - loss: 7.6246 - accuracy: 0.5000 - val_loss: 8.8285 - val_accuracy: 0.4211\n",
      "Epoch 17/25\n",
      "2/2 [==============================] - 0s 72ms/step - loss: 7.6246 - accuracy: 0.5000 - val_loss: 8.8285 - val_accuracy: 0.4211\n",
      "Epoch 18/25\n",
      "2/2 [==============================] - 0s 71ms/step - loss: 7.6246 - accuracy: 0.5000 - val_loss: 8.8285 - val_accuracy: 0.4211\n",
      "Epoch 19/25\n",
      "2/2 [==============================] - 0s 71ms/step - loss: 7.6246 - accuracy: 0.5000 - val_loss: 8.8285 - val_accuracy: 0.4211\n",
      "Epoch 20/25\n",
      "2/2 [==============================] - 0s 76ms/step - loss: 7.6246 - accuracy: 0.5000 - val_loss: 8.8285 - val_accuracy: 0.4211\n",
      "Epoch 21/25\n",
      "2/2 [==============================] - 0s 71ms/step - loss: 7.6246 - accuracy: 0.5000 - val_loss: 8.8285 - val_accuracy: 0.4211\n",
      "Epoch 22/25\n",
      "2/2 [==============================] - 0s 71ms/step - loss: 7.6246 - accuracy: 0.5000 - val_loss: 8.8285 - val_accuracy: 0.4211\n",
      "Epoch 23/25\n",
      "2/2 [==============================] - 0s 72ms/step - loss: 7.6246 - accuracy: 0.5000 - val_loss: 8.8285 - val_accuracy: 0.4211\n",
      "Epoch 24/25\n",
      "2/2 [==============================] - 0s 71ms/step - loss: 7.6246 - accuracy: 0.5000 - val_loss: 8.8285 - val_accuracy: 0.4211\n",
      "Epoch 25/25\n",
      "2/2 [==============================] - 0s 70ms/step - loss: 7.6246 - accuracy: 0.5000 - val_loss: 8.8285 - val_accuracy: 0.4211\n"
     ]
    },
    {
     "data": {
      "text/plain": [
       "<tensorflow.python.keras.callbacks.History at 0x7fb74540edf0>"
      ]
     },
     "execution_count": 75,
     "metadata": {},
     "output_type": "execute_result"
    }
   ],
   "source": [
    "# Training the model\n",
    "batch_size = 50\n",
    "epochs = 25\n",
    "model.fit(\n",
    "    X_train_rnn,\n",
    "    y_train_rnn,\n",
    "    validation_data=(X_val_rnn, y_val_rnn),\n",
    "    epochs=epochs,\n",
    "    batch_size=batch_size,\n",
    "    verbose=1,\n",
    ")"
   ]
  },
  {
   "cell_type": "code",
   "execution_count": 76,
   "id": "5da3c762",
   "metadata": {},
   "outputs": [],
   "source": [
    "# lr = 0.01 loss: 0.3678 - accuracy: 0.9464 - val_loss: 0.8866 - val_accuracy: 0.4737"
   ]
  },
  {
   "cell_type": "code",
   "execution_count": 77,
   "id": "1d12e74c",
   "metadata": {},
   "outputs": [],
   "source": [
    "# lr = 0.02  loss: 0.1152 - accuracy: 0.9821 - val_loss: 1.2360 - val_accuracy: 0.5263"
   ]
  },
  {
   "cell_type": "code",
   "execution_count": 78,
   "id": "a20ef828",
   "metadata": {},
   "outputs": [
    {
     "name": "stderr",
     "output_type": "stream",
     "text": [
      "/Users/gerardoespinoza/opt/anaconda3/envs/ML2/lib/python3.9/site-packages/tensorflow/python/keras/engine/sequential.py:455: UserWarning: `model.predict_classes()` is deprecated and will be removed after 2021-01-01. Please use instead:* `np.argmax(model.predict(x), axis=-1)`,   if your model does multi-class classification   (e.g. if it uses a `softmax` last-layer activation).* `(model.predict(x) > 0.5).astype(\"int32\")`,   if your model does binary classification   (e.g. if it uses a `sigmoid` last-layer activation).\n",
      "  warnings.warn('`model.predict_classes()` is deprecated and '\n"
     ]
    }
   ],
   "source": [
    "# Predict classes using the testing data\n",
    "y_rnn_pred = model.predict_classes(X_test_rnn, batch_size=50)"
   ]
  },
  {
   "cell_type": "code",
   "execution_count": 79,
   "id": "0f66aea1",
   "metadata": {},
   "outputs": [],
   "source": [
    "# Accuracy\n",
    "from sklearn.metrics import accuracy_score\n"
   ]
  },
  {
   "cell_type": "code",
   "execution_count": 80,
   "id": "361826fa",
   "metadata": {},
   "outputs": [
    {
     "name": "stdout",
     "output_type": "stream",
     "text": [
      "RNN LSTM Accuracy 0.68\n"
     ]
    }
   ],
   "source": [
    "print(\"RNN LSTM Accuracy %.2f\" % (accuracy_score(y_test_rnn, y_rnn_pred)))"
   ]
  },
  {
   "cell_type": "code",
   "execution_count": 81,
   "id": "5764c9fc",
   "metadata": {},
   "outputs": [],
   "source": [
    "# Import the classification_report method from sklearn\n",
    "from sklearn.metrics import classification_report"
   ]
  },
  {
   "cell_type": "code",
   "execution_count": 82,
   "id": "13341883",
   "metadata": {},
   "outputs": [
    {
     "name": "stdout",
     "output_type": "stream",
     "text": [
      "Classification Report for the RNN LSTM Model\n",
      "              precision    recall  f1-score   support\n",
      "\n",
      "           0       0.00      0.00      0.00         0\n",
      "           1       1.00      0.68      0.81        25\n",
      "\n",
      "    accuracy                           0.68        25\n",
      "   macro avg       0.50      0.34      0.40        25\n",
      "weighted avg       1.00      0.68      0.81        25\n",
      "\n"
     ]
    },
    {
     "name": "stderr",
     "output_type": "stream",
     "text": [
      "/Users/gerardoespinoza/opt/anaconda3/envs/ML2/lib/python3.9/site-packages/sklearn/metrics/_classification.py:1245: UndefinedMetricWarning: Recall and F-score are ill-defined and being set to 0.0 in labels with no true samples. Use `zero_division` parameter to control this behavior.\n",
      "  _warn_prf(average, modifier, msg_start, len(result))\n",
      "/Users/gerardoespinoza/opt/anaconda3/envs/ML2/lib/python3.9/site-packages/sklearn/metrics/_classification.py:1245: UndefinedMetricWarning: Recall and F-score are ill-defined and being set to 0.0 in labels with no true samples. Use `zero_division` parameter to control this behavior.\n",
      "  _warn_prf(average, modifier, msg_start, len(result))\n",
      "/Users/gerardoespinoza/opt/anaconda3/envs/ML2/lib/python3.9/site-packages/sklearn/metrics/_classification.py:1245: UndefinedMetricWarning: Recall and F-score are ill-defined and being set to 0.0 in labels with no true samples. Use `zero_division` parameter to control this behavior.\n",
      "  _warn_prf(average, modifier, msg_start, len(result))\n"
     ]
    }
   ],
   "source": [
    "# Display classification report for the RNN LSTM Model\n",
    "print(\"Classification Report for the RNN LSTM Model\")\n",
    "print(classification_report(y_rnn_pred, y_test_rnn))"
   ]
  },
  {
   "cell_type": "code",
   "execution_count": 83,
   "id": "a362ab33",
   "metadata": {},
   "outputs": [],
   "source": [
    "main_df.set_index('date', inplace=True)"
   ]
  },
  {
   "cell_type": "code",
   "execution_count": 84,
   "id": "f9c4bb72",
   "metadata": {},
   "outputs": [],
   "source": [
    "#main_df.resample('W').mean()"
   ]
  },
  {
   "cell_type": "code",
   "execution_count": 86,
   "id": "7ac3d4d9",
   "metadata": {},
   "outputs": [],
   "source": [
    "main_df.to_csv(path_or_buf='../Project-2/sentiment.csv')"
   ]
  },
  {
   "cell_type": "code",
   "execution_count": 87,
   "id": "0cda3566",
   "metadata": {},
   "outputs": [
    {
     "data": {
      "text/html": [
       "<div>\n",
       "<style scoped>\n",
       "    .dataframe tbody tr th:only-of-type {\n",
       "        vertical-align: middle;\n",
       "    }\n",
       "\n",
       "    .dataframe tbody tr th {\n",
       "        vertical-align: top;\n",
       "    }\n",
       "\n",
       "    .dataframe thead th {\n",
       "        text-align: right;\n",
       "    }\n",
       "</style>\n",
       "<table border=\"1\" class=\"dataframe\">\n",
       "  <thead>\n",
       "    <tr style=\"text-align: right;\">\n",
       "      <th></th>\n",
       "      <th>text</th>\n",
       "      <th>compound</th>\n",
       "      <th>positive</th>\n",
       "      <th>negative</th>\n",
       "      <th>neutral</th>\n",
       "      <th>source</th>\n",
       "      <th>sentiment</th>\n",
       "    </tr>\n",
       "    <tr>\n",
       "      <th>date</th>\n",
       "      <th></th>\n",
       "      <th></th>\n",
       "      <th></th>\n",
       "      <th></th>\n",
       "      <th></th>\n",
       "      <th></th>\n",
       "      <th></th>\n",
       "    </tr>\n",
       "  </thead>\n",
       "  <tbody>\n",
       "    <tr>\n",
       "      <th>2021-01-05 21:23:16+00:00</th>\n",
       "      <td>An accountant representing Dr. Dre's estranged...</td>\n",
       "      <td>-0.3612</td>\n",
       "      <td>0.041</td>\n",
       "      <td>0.110</td>\n",
       "      <td>0.849</td>\n",
       "      <td>StockNews.com</td>\n",
       "      <td>0</td>\n",
       "    </tr>\n",
       "    <tr>\n",
       "      <th>2021-01-06 01:31:49+00:00</th>\n",
       "      <td>Apple CEO Tim Cook's compensation increased by...</td>\n",
       "      <td>0.2732</td>\n",
       "      <td>0.062</td>\n",
       "      <td>0.000</td>\n",
       "      <td>0.938</td>\n",
       "      <td>Business Insider</td>\n",
       "      <td>1</td>\n",
       "    </tr>\n",
       "    <tr>\n",
       "      <th>2021-01-06 16:22:40+00:00</th>\n",
       "      <td>New York (CNN Business)The \"blue wave\" that ma...</td>\n",
       "      <td>0.0000</td>\n",
       "      <td>0.000</td>\n",
       "      <td>0.000</td>\n",
       "      <td>1.000</td>\n",
       "      <td>Business Insider</td>\n",
       "      <td>0</td>\n",
       "    </tr>\n",
       "    <tr>\n",
       "      <th>2021-01-06 20:37:22+00:00</th>\n",
       "      <td>January\\r\\n6, 2021\\r\\n5 min read\\r\\nThis story...</td>\n",
       "      <td>0.5106</td>\n",
       "      <td>0.102</td>\n",
       "      <td>0.000</td>\n",
       "      <td>0.898</td>\n",
       "      <td>StockNews.com</td>\n",
       "      <td>1</td>\n",
       "    </tr>\n",
       "    <tr>\n",
       "      <th>2021-01-09 14:52:00+00:00</th>\n",
       "      <td>In case you missed it, the Apple Car is back. ...</td>\n",
       "      <td>-0.2960</td>\n",
       "      <td>0.000</td>\n",
       "      <td>0.055</td>\n",
       "      <td>0.945</td>\n",
       "      <td>Benzinga</td>\n",
       "      <td>0</td>\n",
       "    </tr>\n",
       "    <tr>\n",
       "      <th>...</th>\n",
       "      <td>...</td>\n",
       "      <td>...</td>\n",
       "      <td>...</td>\n",
       "      <td>...</td>\n",
       "      <td>...</td>\n",
       "      <td>...</td>\n",
       "      <td>...</td>\n",
       "    </tr>\n",
       "    <tr>\n",
       "      <th>2021-07-27 14:19:10+00:00</th>\n",
       "      <td>An analyst has suggested that antitrust issues...</td>\n",
       "      <td>-0.5106</td>\n",
       "      <td>0.031</td>\n",
       "      <td>0.096</td>\n",
       "      <td>0.873</td>\n",
       "      <td>Benzinga</td>\n",
       "      <td>0</td>\n",
       "    </tr>\n",
       "    <tr>\n",
       "      <th>2021-07-27 20:34:00+00:00</th>\n",
       "      <td>Apple (AAPL) has officially reported its earni...</td>\n",
       "      <td>0.0000</td>\n",
       "      <td>0.000</td>\n",
       "      <td>0.000</td>\n",
       "      <td>1.000</td>\n",
       "      <td>9to5Mac</td>\n",
       "      <td>0</td>\n",
       "    </tr>\n",
       "    <tr>\n",
       "      <th>2021-07-27 20:34:26+00:00</th>\n",
       "      <td>Information on these pages contains forward-lo...</td>\n",
       "      <td>-0.5423</td>\n",
       "      <td>0.000</td>\n",
       "      <td>0.138</td>\n",
       "      <td>0.862</td>\n",
       "      <td>Business Insider</td>\n",
       "      <td>0</td>\n",
       "    </tr>\n",
       "    <tr>\n",
       "      <th>2021-07-28 11:21:26+00:00</th>\n",
       "      <td>Yesterday saw record AAPL Q3 earnings, dramati...</td>\n",
       "      <td>0.1779</td>\n",
       "      <td>0.104</td>\n",
       "      <td>0.084</td>\n",
       "      <td>0.812</td>\n",
       "      <td>9to5Mac</td>\n",
       "      <td>1</td>\n",
       "    </tr>\n",
       "    <tr>\n",
       "      <th>2021-07-28 13:12:42+00:00</th>\n",
       "      <td>Listen to a recap of the top stories of the da...</td>\n",
       "      <td>0.7351</td>\n",
       "      <td>0.179</td>\n",
       "      <td>0.000</td>\n",
       "      <td>0.821</td>\n",
       "      <td>AppleInsider</td>\n",
       "      <td>1</td>\n",
       "    </tr>\n",
       "  </tbody>\n",
       "</table>\n",
       "<p>100 rows × 7 columns</p>\n",
       "</div>"
      ],
      "text/plain": [
       "                                                                        text  \\\n",
       "date                                                                           \n",
       "2021-01-05 21:23:16+00:00  An accountant representing Dr. Dre's estranged...   \n",
       "2021-01-06 01:31:49+00:00  Apple CEO Tim Cook's compensation increased by...   \n",
       "2021-01-06 16:22:40+00:00  New York (CNN Business)The \"blue wave\" that ma...   \n",
       "2021-01-06 20:37:22+00:00  January\\r\\n6, 2021\\r\\n5 min read\\r\\nThis story...   \n",
       "2021-01-09 14:52:00+00:00  In case you missed it, the Apple Car is back. ...   \n",
       "...                                                                      ...   \n",
       "2021-07-27 14:19:10+00:00  An analyst has suggested that antitrust issues...   \n",
       "2021-07-27 20:34:00+00:00  Apple (AAPL) has officially reported its earni...   \n",
       "2021-07-27 20:34:26+00:00  Information on these pages contains forward-lo...   \n",
       "2021-07-28 11:21:26+00:00  Yesterday saw record AAPL Q3 earnings, dramati...   \n",
       "2021-07-28 13:12:42+00:00  Listen to a recap of the top stories of the da...   \n",
       "\n",
       "                           compound  positive  negative  neutral  \\\n",
       "date                                                               \n",
       "2021-01-05 21:23:16+00:00   -0.3612     0.041     0.110    0.849   \n",
       "2021-01-06 01:31:49+00:00    0.2732     0.062     0.000    0.938   \n",
       "2021-01-06 16:22:40+00:00    0.0000     0.000     0.000    1.000   \n",
       "2021-01-06 20:37:22+00:00    0.5106     0.102     0.000    0.898   \n",
       "2021-01-09 14:52:00+00:00   -0.2960     0.000     0.055    0.945   \n",
       "...                             ...       ...       ...      ...   \n",
       "2021-07-27 14:19:10+00:00   -0.5106     0.031     0.096    0.873   \n",
       "2021-07-27 20:34:00+00:00    0.0000     0.000     0.000    1.000   \n",
       "2021-07-27 20:34:26+00:00   -0.5423     0.000     0.138    0.862   \n",
       "2021-07-28 11:21:26+00:00    0.1779     0.104     0.084    0.812   \n",
       "2021-07-28 13:12:42+00:00    0.7351     0.179     0.000    0.821   \n",
       "\n",
       "                                     source  sentiment  \n",
       "date                                                    \n",
       "2021-01-05 21:23:16+00:00     StockNews.com          0  \n",
       "2021-01-06 01:31:49+00:00  Business Insider          1  \n",
       "2021-01-06 16:22:40+00:00  Business Insider          0  \n",
       "2021-01-06 20:37:22+00:00     StockNews.com          1  \n",
       "2021-01-09 14:52:00+00:00          Benzinga          0  \n",
       "...                                     ...        ...  \n",
       "2021-07-27 14:19:10+00:00          Benzinga          0  \n",
       "2021-07-27 20:34:00+00:00           9to5Mac          0  \n",
       "2021-07-27 20:34:26+00:00  Business Insider          0  \n",
       "2021-07-28 11:21:26+00:00           9to5Mac          1  \n",
       "2021-07-28 13:12:42+00:00      AppleInsider          1  \n",
       "\n",
       "[100 rows x 7 columns]"
      ]
     },
     "execution_count": 87,
     "metadata": {},
     "output_type": "execute_result"
    }
   ],
   "source": [
    "main_df"
   ]
  },
  {
   "cell_type": "code",
   "execution_count": 88,
   "id": "ce29e8e4",
   "metadata": {},
   "outputs": [],
   "source": [
    "path = Path('AAPL.csv')"
   ]
  },
  {
   "cell_type": "code",
   "execution_count": 89,
   "id": "945a8f9c-a29c-4575-b0da-dd78a6303dfb",
   "metadata": {},
   "outputs": [],
   "source": [
    "apple = pd.read_csv(path)"
   ]
  },
  {
   "cell_type": "code",
   "execution_count": 90,
   "id": "4b833b5c-b3b0-40c6-862b-d1577f15544d",
   "metadata": {},
   "outputs": [],
   "source": [
    "aapl_df= pd.DataFrame(apple)\n",
    "apple_df['Date'] = pd.to_datetime(aapl_df['Date'])"
   ]
  },
  {
   "cell_type": "code",
   "execution_count": 91,
   "id": "5f889880-ee9d-41da-9fdb-7f2ed9e4bc2e",
   "metadata": {},
   "outputs": [],
   "source": [
    "aapl_df = aapl_df.set_index('Date')"
   ]
  },
  {
   "cell_type": "code",
   "execution_count": 92,
   "id": "2232b43c-8bd7-4334-8e79-f633d772a0d9",
   "metadata": {},
   "outputs": [],
   "source": [
    "aapl_df['prev_close'] = aapl_df['Adj Close'].shift()"
   ]
  },
  {
   "cell_type": "code",
   "execution_count": 93,
   "id": "d8c7197a-fd13-4c7b-b983-216992632818",
   "metadata": {},
   "outputs": [],
   "source": [
    "aapl_df['Daily_returns'] = aapl_df['Adj Close'] / aapl_df['prev_close'] - 1 "
   ]
  },
  {
   "cell_type": "code",
   "execution_count": 94,
   "id": "fa10185c-f23a-43cc-9ea1-bb2d03e28f6a",
   "metadata": {},
   "outputs": [],
   "source": [
    "main_df = main_df.reset_index()"
   ]
  },
  {
   "cell_type": "code",
   "execution_count": 95,
   "id": "e1c99d77-6b0a-4ecc-b5e2-9010f601aabb",
   "metadata": {},
   "outputs": [
    {
     "data": {
      "text/html": [
       "<div>\n",
       "<style scoped>\n",
       "    .dataframe tbody tr th:only-of-type {\n",
       "        vertical-align: middle;\n",
       "    }\n",
       "\n",
       "    .dataframe tbody tr th {\n",
       "        vertical-align: top;\n",
       "    }\n",
       "\n",
       "    .dataframe thead th {\n",
       "        text-align: right;\n",
       "    }\n",
       "</style>\n",
       "<table border=\"1\" class=\"dataframe\">\n",
       "  <thead>\n",
       "    <tr style=\"text-align: right;\">\n",
       "      <th></th>\n",
       "      <th>date</th>\n",
       "      <th>text</th>\n",
       "      <th>compound</th>\n",
       "      <th>positive</th>\n",
       "      <th>negative</th>\n",
       "      <th>neutral</th>\n",
       "      <th>source</th>\n",
       "      <th>sentiment</th>\n",
       "    </tr>\n",
       "  </thead>\n",
       "  <tbody>\n",
       "    <tr>\n",
       "      <th>0</th>\n",
       "      <td>2021-01-05 21:23:16+00:00</td>\n",
       "      <td>An accountant representing Dr. Dre's estranged...</td>\n",
       "      <td>-0.3612</td>\n",
       "      <td>0.041</td>\n",
       "      <td>0.110</td>\n",
       "      <td>0.849</td>\n",
       "      <td>StockNews.com</td>\n",
       "      <td>0</td>\n",
       "    </tr>\n",
       "    <tr>\n",
       "      <th>1</th>\n",
       "      <td>2021-01-06 01:31:49+00:00</td>\n",
       "      <td>Apple CEO Tim Cook's compensation increased by...</td>\n",
       "      <td>0.2732</td>\n",
       "      <td>0.062</td>\n",
       "      <td>0.000</td>\n",
       "      <td>0.938</td>\n",
       "      <td>Business Insider</td>\n",
       "      <td>1</td>\n",
       "    </tr>\n",
       "    <tr>\n",
       "      <th>2</th>\n",
       "      <td>2021-01-06 16:22:40+00:00</td>\n",
       "      <td>New York (CNN Business)The \"blue wave\" that ma...</td>\n",
       "      <td>0.0000</td>\n",
       "      <td>0.000</td>\n",
       "      <td>0.000</td>\n",
       "      <td>1.000</td>\n",
       "      <td>Business Insider</td>\n",
       "      <td>0</td>\n",
       "    </tr>\n",
       "    <tr>\n",
       "      <th>3</th>\n",
       "      <td>2021-01-06 20:37:22+00:00</td>\n",
       "      <td>January\\r\\n6, 2021\\r\\n5 min read\\r\\nThis story...</td>\n",
       "      <td>0.5106</td>\n",
       "      <td>0.102</td>\n",
       "      <td>0.000</td>\n",
       "      <td>0.898</td>\n",
       "      <td>StockNews.com</td>\n",
       "      <td>1</td>\n",
       "    </tr>\n",
       "    <tr>\n",
       "      <th>4</th>\n",
       "      <td>2021-01-09 14:52:00+00:00</td>\n",
       "      <td>In case you missed it, the Apple Car is back. ...</td>\n",
       "      <td>-0.2960</td>\n",
       "      <td>0.000</td>\n",
       "      <td>0.055</td>\n",
       "      <td>0.945</td>\n",
       "      <td>Benzinga</td>\n",
       "      <td>0</td>\n",
       "    </tr>\n",
       "  </tbody>\n",
       "</table>\n",
       "</div>"
      ],
      "text/plain": [
       "                       date  \\\n",
       "0 2021-01-05 21:23:16+00:00   \n",
       "1 2021-01-06 01:31:49+00:00   \n",
       "2 2021-01-06 16:22:40+00:00   \n",
       "3 2021-01-06 20:37:22+00:00   \n",
       "4 2021-01-09 14:52:00+00:00   \n",
       "\n",
       "                                                text  compound  positive  \\\n",
       "0  An accountant representing Dr. Dre's estranged...   -0.3612     0.041   \n",
       "1  Apple CEO Tim Cook's compensation increased by...    0.2732     0.062   \n",
       "2  New York (CNN Business)The \"blue wave\" that ma...    0.0000     0.000   \n",
       "3  January\\r\\n6, 2021\\r\\n5 min read\\r\\nThis story...    0.5106     0.102   \n",
       "4  In case you missed it, the Apple Car is back. ...   -0.2960     0.000   \n",
       "\n",
       "   negative  neutral            source  sentiment  \n",
       "0     0.110    0.849     StockNews.com          0  \n",
       "1     0.000    0.938  Business Insider          1  \n",
       "2     0.000    1.000  Business Insider          0  \n",
       "3     0.000    0.898     StockNews.com          1  \n",
       "4     0.055    0.945          Benzinga          0  "
      ]
     },
     "execution_count": 95,
     "metadata": {},
     "output_type": "execute_result"
    }
   ],
   "source": [
    "main_df['date'] = pd.to_datetime(main_df['date'])\n",
    "main_df.head()"
   ]
  },
  {
   "cell_type": "code",
   "execution_count": 96,
   "id": "a9bab985-aa55-437a-98b0-0f8da8eeba18",
   "metadata": {},
   "outputs": [],
   "source": [
    "main_df = main_df.set_index('date')"
   ]
  },
  {
   "cell_type": "code",
   "execution_count": 97,
   "id": "8ec06aa4-f76b-4333-86b0-da952041b03c",
   "metadata": {},
   "outputs": [],
   "source": [
    "daily_sentiment_df = main_df.resample('d').mean()"
   ]
  },
  {
   "cell_type": "code",
   "execution_count": 98,
   "id": "350c2842-1528-46be-b62c-aaef06c7d595",
   "metadata": {},
   "outputs": [],
   "source": [
    "daily_sentiment_df.index=daily_sentiment_df.index.strftime('%Y-%m-%d')\n",
    "aapl_daily_df = daily_sentiment_df.merge(aapl_df, left_index=True, right_index=True)"
   ]
  },
  {
   "cell_type": "code",
   "execution_count": 100,
   "id": "d9c7f904-14a5-4c6b-8a17-12e9e81f59fa",
   "metadata": {},
   "outputs": [],
   "source": [
    "aapl_daily_df.to_csv(path_or_buf='aapl_daily_df.csv')"
   ]
  },
  {
   "cell_type": "code",
   "execution_count": 101,
   "id": "d0418290-a163-4afe-b759-6fbd9c9b5bfb",
   "metadata": {},
   "outputs": [
    {
     "data": {
      "text/html": [
       "<div>\n",
       "<style scoped>\n",
       "    .dataframe tbody tr th:only-of-type {\n",
       "        vertical-align: middle;\n",
       "    }\n",
       "\n",
       "    .dataframe tbody tr th {\n",
       "        vertical-align: top;\n",
       "    }\n",
       "\n",
       "    .dataframe thead th {\n",
       "        text-align: right;\n",
       "    }\n",
       "</style>\n",
       "<table border=\"1\" class=\"dataframe\">\n",
       "  <thead>\n",
       "    <tr style=\"text-align: right;\">\n",
       "      <th></th>\n",
       "      <th>compound</th>\n",
       "      <th>positive</th>\n",
       "      <th>negative</th>\n",
       "      <th>neutral</th>\n",
       "      <th>sentiment</th>\n",
       "      <th>Open</th>\n",
       "      <th>High</th>\n",
       "      <th>Low</th>\n",
       "      <th>Close</th>\n",
       "      <th>Adj Close</th>\n",
       "      <th>Volume</th>\n",
       "      <th>prev_close</th>\n",
       "      <th>Daily_returns</th>\n",
       "    </tr>\n",
       "  </thead>\n",
       "  <tbody>\n",
       "    <tr>\n",
       "      <th>2021-01-05</th>\n",
       "      <td>-0.361200</td>\n",
       "      <td>0.041000</td>\n",
       "      <td>0.110</td>\n",
       "      <td>0.849000</td>\n",
       "      <td>0.000000</td>\n",
       "      <td>128.889999</td>\n",
       "      <td>131.740005</td>\n",
       "      <td>128.429993</td>\n",
       "      <td>131.009995</td>\n",
       "      <td>130.592697</td>\n",
       "      <td>97664900</td>\n",
       "      <td>128.997803</td>\n",
       "      <td>0.012364</td>\n",
       "    </tr>\n",
       "    <tr>\n",
       "      <th>2021-01-06</th>\n",
       "      <td>0.261267</td>\n",
       "      <td>0.054667</td>\n",
       "      <td>0.000</td>\n",
       "      <td>0.945333</td>\n",
       "      <td>0.666667</td>\n",
       "      <td>127.720001</td>\n",
       "      <td>131.050003</td>\n",
       "      <td>126.379997</td>\n",
       "      <td>126.599998</td>\n",
       "      <td>126.196747</td>\n",
       "      <td>155088000</td>\n",
       "      <td>130.592697</td>\n",
       "      <td>-0.033662</td>\n",
       "    </tr>\n",
       "    <tr>\n",
       "      <th>2021-01-07</th>\n",
       "      <td>NaN</td>\n",
       "      <td>NaN</td>\n",
       "      <td>NaN</td>\n",
       "      <td>NaN</td>\n",
       "      <td>NaN</td>\n",
       "      <td>128.360001</td>\n",
       "      <td>131.630005</td>\n",
       "      <td>127.860001</td>\n",
       "      <td>130.919998</td>\n",
       "      <td>130.502991</td>\n",
       "      <td>109578200</td>\n",
       "      <td>126.196747</td>\n",
       "      <td>0.034123</td>\n",
       "    </tr>\n",
       "    <tr>\n",
       "      <th>2021-01-08</th>\n",
       "      <td>NaN</td>\n",
       "      <td>NaN</td>\n",
       "      <td>NaN</td>\n",
       "      <td>NaN</td>\n",
       "      <td>NaN</td>\n",
       "      <td>132.429993</td>\n",
       "      <td>132.630005</td>\n",
       "      <td>130.229996</td>\n",
       "      <td>132.050003</td>\n",
       "      <td>131.629379</td>\n",
       "      <td>105158200</td>\n",
       "      <td>130.502991</td>\n",
       "      <td>0.008631</td>\n",
       "    </tr>\n",
       "    <tr>\n",
       "      <th>2021-01-11</th>\n",
       "      <td>NaN</td>\n",
       "      <td>NaN</td>\n",
       "      <td>NaN</td>\n",
       "      <td>NaN</td>\n",
       "      <td>NaN</td>\n",
       "      <td>129.190002</td>\n",
       "      <td>130.169998</td>\n",
       "      <td>128.500000</td>\n",
       "      <td>128.979996</td>\n",
       "      <td>128.569168</td>\n",
       "      <td>100384500</td>\n",
       "      <td>131.629379</td>\n",
       "      <td>-0.023249</td>\n",
       "    </tr>\n",
       "    <tr>\n",
       "      <th>...</th>\n",
       "      <td>...</td>\n",
       "      <td>...</td>\n",
       "      <td>...</td>\n",
       "      <td>...</td>\n",
       "      <td>...</td>\n",
       "      <td>...</td>\n",
       "      <td>...</td>\n",
       "      <td>...</td>\n",
       "      <td>...</td>\n",
       "      <td>...</td>\n",
       "      <td>...</td>\n",
       "      <td>...</td>\n",
       "      <td>...</td>\n",
       "    </tr>\n",
       "    <tr>\n",
       "      <th>2021-07-22</th>\n",
       "      <td>NaN</td>\n",
       "      <td>NaN</td>\n",
       "      <td>NaN</td>\n",
       "      <td>NaN</td>\n",
       "      <td>NaN</td>\n",
       "      <td>145.940002</td>\n",
       "      <td>148.199997</td>\n",
       "      <td>145.809998</td>\n",
       "      <td>146.800003</td>\n",
       "      <td>146.800003</td>\n",
       "      <td>77338200</td>\n",
       "      <td>145.399994</td>\n",
       "      <td>0.009629</td>\n",
       "    </tr>\n",
       "    <tr>\n",
       "      <th>2021-07-23</th>\n",
       "      <td>NaN</td>\n",
       "      <td>NaN</td>\n",
       "      <td>NaN</td>\n",
       "      <td>NaN</td>\n",
       "      <td>NaN</td>\n",
       "      <td>147.550003</td>\n",
       "      <td>148.720001</td>\n",
       "      <td>146.919998</td>\n",
       "      <td>148.559998</td>\n",
       "      <td>148.559998</td>\n",
       "      <td>71361600</td>\n",
       "      <td>146.800003</td>\n",
       "      <td>0.011989</td>\n",
       "    </tr>\n",
       "    <tr>\n",
       "      <th>2021-07-26</th>\n",
       "      <td>0.440400</td>\n",
       "      <td>0.081000</td>\n",
       "      <td>0.000</td>\n",
       "      <td>0.919000</td>\n",
       "      <td>1.000000</td>\n",
       "      <td>148.270004</td>\n",
       "      <td>149.830002</td>\n",
       "      <td>147.699997</td>\n",
       "      <td>148.990005</td>\n",
       "      <td>148.990005</td>\n",
       "      <td>72269700</td>\n",
       "      <td>148.559998</td>\n",
       "      <td>0.002895</td>\n",
       "    </tr>\n",
       "    <tr>\n",
       "      <th>2021-07-27</th>\n",
       "      <td>-0.350967</td>\n",
       "      <td>0.010333</td>\n",
       "      <td>0.078</td>\n",
       "      <td>0.911667</td>\n",
       "      <td>0.000000</td>\n",
       "      <td>149.119995</td>\n",
       "      <td>149.210007</td>\n",
       "      <td>145.550003</td>\n",
       "      <td>146.770004</td>\n",
       "      <td>146.770004</td>\n",
       "      <td>103580300</td>\n",
       "      <td>148.990005</td>\n",
       "      <td>-0.014900</td>\n",
       "    </tr>\n",
       "    <tr>\n",
       "      <th>2021-07-28</th>\n",
       "      <td>0.456500</td>\n",
       "      <td>0.141500</td>\n",
       "      <td>0.042</td>\n",
       "      <td>0.816500</td>\n",
       "      <td>1.000000</td>\n",
       "      <td>144.809998</td>\n",
       "      <td>146.970001</td>\n",
       "      <td>142.539993</td>\n",
       "      <td>144.979996</td>\n",
       "      <td>144.979996</td>\n",
       "      <td>118931200</td>\n",
       "      <td>146.770004</td>\n",
       "      <td>-0.012196</td>\n",
       "    </tr>\n",
       "  </tbody>\n",
       "</table>\n",
       "<p>142 rows × 13 columns</p>\n",
       "</div>"
      ],
      "text/plain": [
       "            compound  positive  negative   neutral  sentiment        Open  \\\n",
       "2021-01-05 -0.361200  0.041000     0.110  0.849000   0.000000  128.889999   \n",
       "2021-01-06  0.261267  0.054667     0.000  0.945333   0.666667  127.720001   \n",
       "2021-01-07       NaN       NaN       NaN       NaN        NaN  128.360001   \n",
       "2021-01-08       NaN       NaN       NaN       NaN        NaN  132.429993   \n",
       "2021-01-11       NaN       NaN       NaN       NaN        NaN  129.190002   \n",
       "...              ...       ...       ...       ...        ...         ...   \n",
       "2021-07-22       NaN       NaN       NaN       NaN        NaN  145.940002   \n",
       "2021-07-23       NaN       NaN       NaN       NaN        NaN  147.550003   \n",
       "2021-07-26  0.440400  0.081000     0.000  0.919000   1.000000  148.270004   \n",
       "2021-07-27 -0.350967  0.010333     0.078  0.911667   0.000000  149.119995   \n",
       "2021-07-28  0.456500  0.141500     0.042  0.816500   1.000000  144.809998   \n",
       "\n",
       "                  High         Low       Close   Adj Close     Volume  \\\n",
       "2021-01-05  131.740005  128.429993  131.009995  130.592697   97664900   \n",
       "2021-01-06  131.050003  126.379997  126.599998  126.196747  155088000   \n",
       "2021-01-07  131.630005  127.860001  130.919998  130.502991  109578200   \n",
       "2021-01-08  132.630005  130.229996  132.050003  131.629379  105158200   \n",
       "2021-01-11  130.169998  128.500000  128.979996  128.569168  100384500   \n",
       "...                ...         ...         ...         ...        ...   \n",
       "2021-07-22  148.199997  145.809998  146.800003  146.800003   77338200   \n",
       "2021-07-23  148.720001  146.919998  148.559998  148.559998   71361600   \n",
       "2021-07-26  149.830002  147.699997  148.990005  148.990005   72269700   \n",
       "2021-07-27  149.210007  145.550003  146.770004  146.770004  103580300   \n",
       "2021-07-28  146.970001  142.539993  144.979996  144.979996  118931200   \n",
       "\n",
       "            prev_close  Daily_returns  \n",
       "2021-01-05  128.997803       0.012364  \n",
       "2021-01-06  130.592697      -0.033662  \n",
       "2021-01-07  126.196747       0.034123  \n",
       "2021-01-08  130.502991       0.008631  \n",
       "2021-01-11  131.629379      -0.023249  \n",
       "...                ...            ...  \n",
       "2021-07-22  145.399994       0.009629  \n",
       "2021-07-23  146.800003       0.011989  \n",
       "2021-07-26  148.559998       0.002895  \n",
       "2021-07-27  148.990005      -0.014900  \n",
       "2021-07-28  146.770004      -0.012196  \n",
       "\n",
       "[142 rows x 13 columns]"
      ]
     },
     "execution_count": 101,
     "metadata": {},
     "output_type": "execute_result"
    }
   ],
   "source": [
    "aapl_daily_df"
   ]
  },
  {
   "cell_type": "code",
   "execution_count": null,
   "id": "2313605e-f0f1-4fb2-b28e-ac3aece51a37",
   "metadata": {},
   "outputs": [],
   "source": []
  }
 ],
 "metadata": {
  "kernelspec": {
   "display_name": "ML2 env",
   "language": "python",
   "name": "ml2"
  },
  "language_info": {
   "codemirror_mode": {
    "name": "ipython",
    "version": 3
   },
   "file_extension": ".py",
   "mimetype": "text/x-python",
   "name": "python",
   "nbconvert_exporter": "python",
   "pygments_lexer": "ipython3",
   "version": "3.9.4"
  }
 },
 "nbformat": 4,
 "nbformat_minor": 5
}
