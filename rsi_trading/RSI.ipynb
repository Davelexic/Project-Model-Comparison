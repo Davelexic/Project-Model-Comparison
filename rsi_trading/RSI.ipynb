{
 "cells": [
  {
   "cell_type": "markdown",
   "id": "1efeb9f2-df2b-4fee-b6e1-396db2a604ef",
   "metadata": {},
   "source": [
    "# INSTRUCTIONS: RSI Stock Movement Predictive Model\n",
    "## STEP 1: Project Requirements\n",
    "Create a requirements txt file you need these installs to run project:\n",
    "1. keras==2.2.4\n",
    "2. keras-applications==1.0.8\n",
    "3. keras-Preprocessing==1.0.9\n",
    "4. tenserflow==1.14\n",
    "5. seaborn==0.9.1\n",
    "6. numpy>=1.14.0\n",
    "7. pandas==0.16.1\n",
    "8. matplotlib==3.0.3\n",
    "9. scikit-learn==0.21.3"
   ]
  },
  {
   "cell_type": "markdown",
   "id": "1e5f8138-a896-4179-8cc9-0039a07c1d76",
   "metadata": {},
   "source": [
    "# STEP 2: GitIgnore Files\n",
    "\n",
    "NOW create a gitignore file to keep the useless stuff out of your repo push bc it makes it makes things pretty and neat and clean: \n",
    "\n",
    "-Jupyter Notebook stuff\n",
    "ipynb_checkpoints\n",
    "\n",
    "-Flask stuff\n",
    "instance/.webassets-cache\n",
    "\n",
    "-Scrapy Stuff\n",
    ".scrapy\n",
    "\n",
    "-pyenv\n",
    ".python-version\n",
    "\n",
    "And other stuff as you go just add it in here "
   ]
  },
  {
   "cell_type": "markdown",
   "id": "2de98226-c1da-43ff-8f38-1eca385438d5",
   "metadata": {},
   "source": [
    "# STEP 3: READ ME FILE\n",
    "Its good to create one to EXPLAIN to your evaluator what you were doing. \n",
    "make it pretty put some effort into it, pls. Lets make one now. Go to the DATA folder. \n",
    "Open the README and enter your Project abstract."
   ]
  },
  {
   "cell_type": "markdown",
   "id": "5ca8658d-4e10-408a-8d34-bf95363d7224",
   "metadata": {},
   "source": [
    "# STEP 4: MAKE A CONFIG.py file\n",
    "this code should be in there:\n",
    "\n",
    "import os\n",
    "\n",
    "PATH = os.pathdirname(os.path.realpath(_file_))\n",
    "\n",
    "DATA_PATH = None \n",
    "\n",
    "if DATA_PATH is None:\n",
    "  raise Exception('Configure your data folder location in config.py before continuing!')\n",
    "\n",
    "  THIS IS A REMINDER THAT YOU HAVE NOT PROVIDED THE RIGHT PATH TO FOR YOUR DATA and instead of getting a rando msg, now you know what you did wrong :)"
   ]
  },
  {
   "cell_type": "code",
   "execution_count": null,
   "id": "c3eeaf7a-9cc6-4808-a520-d6c2a2c395d3",
   "metadata": {},
   "outputs": [],
   "source": [
    "# STEP 5: LETS CODE SOME MAGICAL CODE STUFF. Start by Importing Libraries:\n"
   ]
  },
  {
   "cell_type": "code",
   "execution_count": null,
   "id": "59dee202-dbb9-4464-b376-12a1fac25dbd",
   "metadata": {},
   "outputs": [],
   "source": [
    "import pandas as pd\n",
    "import matplotlib.pyplot as plt\n",
    "import numpy as np \n",
    "import math \n",
    "from sklearn.preprocessing import MinMaxScaler\n",
    "from sklearn.metrics import mean_squared_error\n",
    "from keras.models import Sequential\n",
    "from keras.layers import Dense, Activation\n",
    "from keras.layers import LSTM\n",
    "import keras.preprocessing \n",
    "\n",
    "\n",
    "np.random.seed(7)"
   ]
  },
  {
   "cell_type": "code",
   "execution_count": null,
   "id": "86eaffaf-0288-4643-8ece-9addbd1f98db",
   "metadata": {},
   "outputs": [],
   "source": [
    "# Importing dataset \n",
    "dataset = pd.read_csv('DATA/apple_share_price.csv', usecols=[0,1,2,3,4,5], index_col='Date', parse_dates=True)\n",
    "# index by date. sort by week\n"
   ]
  },
  {
   "cell_type": "code",
   "execution_count": null,
   "id": "b6717360-35e1-4a84-8c50-b7cca2cca1a4",
   "metadata": {},
   "outputs": [],
   "source": [
    "dataset.head()"
   ]
  },
  {
   "cell_type": "code",
   "execution_count": null,
   "id": "8cacce86-c2cb-4224-9a35-2cf64fe13fef",
   "metadata": {},
   "outputs": [],
   "source": [
    "dataset.index"
   ]
  },
  {
   "cell_type": "code",
   "execution_count": null,
   "id": "17aab5ef-4763-43a7-ad2c-d50e96d175f3",
   "metadata": {},
   "outputs": [],
   "source": [
    "dataset.resample('W').last()"
   ]
  },
  {
   "cell_type": "code",
   "execution_count": null,
   "id": "a02123cd-d9e2-4c6a-9196-0c4dde654ad4",
   "metadata": {},
   "outputs": [],
   "source": [
    "# Create Index for Flex\n",
    "obs = np.arange(1, len(dataset) + 1, 1)"
   ]
  },
  {
   "cell_type": "code",
   "execution_count": null,
   "id": "237337a2-4791-45f2-8e32-45062c4e799e",
   "metadata": {},
   "outputs": [],
   "source": [
    "# Taking different Indicators. 1. SMA (OHLC), RSI (relative Strength Index)\n",
    "OHLC_avg = dataset.mean(axis = 1)\n",
    "HLC_avg = dataset[['High', 'Low', 'Close',]].mean(axis = 1)\n",
    "close_val = dataset[['Close']]\n",
    "\n"
   ]
  },
  {
   "cell_type": "code",
   "execution_count": null,
   "id": "9deeeaf4-f7f6-406b-8166-0794702b2a85",
   "metadata": {},
   "outputs": [],
   "source": []
  },
  {
   "cell_type": "code",
   "execution_count": null,
   "id": "9143f6d6-c7ca-4246-9a61-9ce7b0343b6e",
   "metadata": {},
   "outputs": [],
   "source": [
    "# PLOTTING ALL INDICATORS FOR PREDICTIONS\n",
    "plt.plot(obs, OHLC_avg, 'r', label = 'OHLC avg')\n",
    "plt.plot(obs, HLC_avg, 'y', label = 'HLC avg')\n",
    "plt.plot(obs, close_val, 'g', label = 'Closing price')\n",
    "plt.legend(loc = 'upper right')\n",
    "plt.show;"
   ]
  },
  {
   "cell_type": "code",
   "execution_count": null,
   "id": "bee7cab2-1b25-41ae-805a-7a63d16f1b2f",
   "metadata": {},
   "outputs": [],
   "source": [
    "# PREPERATION OF TIME SERIES DATA"
   ]
  },
  {
   "cell_type": "code",
   "execution_count": null,
   "id": "a0ae8a91-8447-4faa-bd05-b8878bde3a88",
   "metadata": {},
   "outputs": [],
   "source": [
    "OHLC_avg = np.reshape(OHLC_avg.values, (lens(OHLC_avg),1))\n",
    "scaler = MinMaxScaler(feature_range=(0, 1))\n",
    "OHLC_avg = scaler.fit_transform(OHLC_avg)\n"
   ]
  },
  {
   "cell_type": "code",
   "execution_count": 1,
   "id": "6b212beb-1903-4eb1-8eec-4ee775d92e71",
   "metadata": {},
   "outputs": [
    {
     "ename": "NameError",
     "evalue": "name 'OHLC_avg' is not defined",
     "output_type": "error",
     "traceback": [
      "\u001b[0;31m---------------------------------------------------------------------------\u001b[0m",
      "\u001b[0;31mNameError\u001b[0m                                 Traceback (most recent call last)",
      "\u001b[0;32m<ipython-input-1-4e060b25f195>\u001b[0m in \u001b[0;36m<module>\u001b[0;34m\u001b[0m\n\u001b[1;32m      1\u001b[0m \u001b[0;31m# Train Test Split\u001b[0m\u001b[0;34m\u001b[0m\u001b[0;34m\u001b[0m\u001b[0;34m\u001b[0m\u001b[0m\n\u001b[0;32m----> 2\u001b[0;31m \u001b[0mtrain_OHLC\u001b[0m \u001b[0;34m=\u001b[0m \u001b[0mint\u001b[0m\u001b[0;34m(\u001b[0m\u001b[0mlen\u001b[0m\u001b[0;34m(\u001b[0m\u001b[0mOHLC_avg\u001b[0m\u001b[0;34m)\u001b[0m\u001b[0;34m*\u001b[0m \u001b[0;36m0.75\u001b[0m\u001b[0;34m)\u001b[0m\u001b[0;34m\u001b[0m\u001b[0;34m\u001b[0m\u001b[0m\n\u001b[0m\u001b[1;32m      3\u001b[0m \u001b[0mtest_OHLC\u001b[0m \u001b[0;34m=\u001b[0m \u001b[0mlen\u001b[0m\u001b[0;34m(\u001b[0m\u001b[0mOHLC_avg\u001b[0m\u001b[0;34m)\u001b[0m \u001b[0;34m-\u001b[0m \u001b[0mtrain_OHLC\u001b[0m\u001b[0;34m\u001b[0m\u001b[0;34m\u001b[0m\u001b[0m\n\u001b[1;32m      4\u001b[0m \u001b[0mtrain_OHLC\u001b[0m\u001b[0;34m,\u001b[0m \u001b[0mtest_OHLC\u001b[0m \u001b[0;34m=\u001b[0m \u001b[0mOHLC_avg\u001b[0m\u001b[0;34m[\u001b[0m\u001b[0;36m0\u001b[0m\u001b[0;34m:\u001b[0m\u001b[0mtrain_OHLC\u001b[0m\u001b[0;34m,\u001b[0m\u001b[0;34m:\u001b[0m\u001b[0;34m]\u001b[0m\u001b[0;34m,\u001b[0m \u001b[0mOHLC_avg\u001b[0m\u001b[0;34m[\u001b[0m\u001b[0mtrain_OHLC\u001b[0m\u001b[0;34m:\u001b[0m\u001b[0mlen\u001b[0m\u001b[0;34m(\u001b[0m\u001b[0mOHLC_avg\u001b[0m\u001b[0;34m)\u001b[0m\u001b[0;34m,\u001b[0m\u001b[0;34m:\u001b[0m\u001b[0;34m]\u001b[0m\u001b[0;34m\u001b[0m\u001b[0;34m\u001b[0m\u001b[0m\n",
      "\u001b[0;31mNameError\u001b[0m: name 'OHLC_avg' is not defined"
     ]
    }
   ],
   "source": [
    "# Train Test Split \n",
    "train_OHLC = int(len(OHLC_avg)* 0.75)\n",
    "test_OHLC = len(OHLC_avg) - train_OHLC\n",
    "train_OHLC, test_OHLC = OHLC_avg[0:train_OHLC,:], OHLC_avg[train_OHLC:len(OHLC_avg),:]"
   ]
  },
  {
   "cell_type": "code",
   "execution_count": null,
   "id": "0d25501c-e2ff-4d49-9e94-8863b3f760c6",
   "metadata": {},
   "outputs": [],
   "source": [
    "# TIME SERIES DATASET (FOR TIME T, VALUES FOR TIME +1)"
   ]
  }
 ],
 "metadata": {
  "kernelspec": {
   "display_name": "Python 3",
   "language": "python",
   "name": "python3"
  },
  "language_info": {
   "codemirror_mode": {
    "name": "ipython",
    "version": 3
   },
   "file_extension": ".py",
   "mimetype": "text/x-python",
   "name": "python",
   "nbconvert_exporter": "python",
   "pygments_lexer": "ipython3",
   "version": "3.8.6"
  }
 },
 "nbformat": 4,
 "nbformat_minor": 5
}
